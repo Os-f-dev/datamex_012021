{
 "cells": [
  {
   "cell_type": "markdown",
   "metadata": {},
   "source": [
    "# Working with RSS Feeds Lab\n",
    "\n",
    "Complete the following set of exercises to solidify your knowledge of parsing RSS feeds and extracting information from them."
   ]
  },
  {
   "cell_type": "code",
   "execution_count": 5,
   "metadata": {},
   "outputs": [],
   "source": [
    "import feedparser\n",
    "import requests\n",
    "import xmltodict\n",
    "import re\n"
   ]
  },
  {
   "cell_type": "markdown",
   "metadata": {},
   "source": [
    "### 1. Use feedparser to parse the following RSS feed URL."
   ]
  },
  {
   "cell_type": "code",
   "execution_count": 8,
   "metadata": {},
   "outputs": [],
   "source": [
    "url = 'http://feeds.feedburner.com/oreilly/radar/atom'\n",
    "\n"
   ]
  },
  {
   "cell_type": "code",
   "execution_count": null,
   "metadata": {},
   "outputs": [],
   "source": [
    "data = feedparser.parse(url)"
   ]
  },
  {
   "cell_type": "markdown",
   "metadata": {},
   "source": [
    "### 2. Obtain a list of components (keys) that are available for this feed."
   ]
  },
  {
   "cell_type": "code",
   "execution_count": 9,
   "metadata": {},
   "outputs": [
    {
     "data": {
      "text/plain": [
       "dict_keys(['bozo', 'entries', 'feed', 'headers', 'etag', 'updated', 'updated_parsed', 'href', 'status', 'encoding', 'version', 'namespaces'])"
      ]
     },
     "execution_count": 9,
     "metadata": {},
     "output_type": "execute_result"
    }
   ],
   "source": [
    "data.keys()"
   ]
  },
  {
   "cell_type": "markdown",
   "metadata": {},
   "source": [
    "### 3. Obtain a list of components (keys) that are available for the *feed* component of this RSS feed."
   ]
  },
  {
   "cell_type": "code",
   "execution_count": 10,
   "metadata": {},
   "outputs": [
    {
     "data": {
      "text/plain": [
       "dict_keys(['title', 'title_detail', 'links', 'link', 'subtitle', 'subtitle_detail', 'updated', 'updated_parsed', 'language', 'sy_updateperiod', 'sy_updatefrequency', 'generator_detail', 'generator', 'feedburner_info', 'geo_lat', 'geo_long', 'feedburner_emailserviceid', 'feedburner_feedburnerhostname'])"
      ]
     },
     "execution_count": 10,
     "metadata": {},
     "output_type": "execute_result"
    }
   ],
   "source": [
    "data['feed'].keys()"
   ]
  },
  {
   "cell_type": "markdown",
   "metadata": {},
   "source": [
    "### 4. Extract and print the feed title, subtitle, author, and link."
   ]
  },
  {
   "cell_type": "code",
   "execution_count": 20,
   "metadata": {},
   "outputs": [
    {
     "name": "stdout",
     "output_type": "stream",
     "text": [
      "Radar\n",
      "Now, next, and beyond: Tracking need-to-know trends at the intersection of business and technology\n",
      "https://www.oreilly.com/radar\n"
     ]
    }
   ],
   "source": [
    "title_feed = data['feed'].title\n",
    "subtitle_feed = data['feed'].subtitle\n",
    "link_feed = data['feed'].link\n",
    "print(title_feed)\n",
    "print(subtitle_feed)\n",
    "print(link_feed)"
   ]
  },
  {
   "cell_type": "markdown",
   "metadata": {},
   "source": [
    "### 5. Count the number of entries that are contained in this RSS feed."
   ]
  },
  {
   "cell_type": "code",
   "execution_count": 31,
   "metadata": {},
   "outputs": [
    {
     "data": {
      "text/plain": [
       "60"
      ]
     },
     "execution_count": 31,
     "metadata": {},
     "output_type": "execute_result"
    }
   ],
   "source": [
    "len(data['entries'])"
   ]
  },
  {
   "cell_type": "markdown",
   "metadata": {},
   "source": [
    "### 6. Obtain a list of components (keys) available for an entry.\n",
    "\n",
    "*Hint: Remember to index first before requesting the keys*"
   ]
  },
  {
   "cell_type": "code",
   "execution_count": 44,
   "metadata": {},
   "outputs": [
    {
     "data": {
      "text/plain": [
       "dict_keys(['title', 'title_detail', 'links', 'link', 'comments', 'published', 'published_parsed', 'authors', 'author', 'author_detail', 'tags', 'id', 'guidislink', 'summary', 'summary_detail', 'content', 'wfw_commentrss', 'slash_comments', 'feedburner_origlink'])"
      ]
     },
     "execution_count": 44,
     "metadata": {},
     "output_type": "execute_result"
    }
   ],
   "source": [
    "data.entries[0].keys()\n"
   ]
  },
  {
   "cell_type": "markdown",
   "metadata": {},
   "source": [
    "### 7. Extract a list of entry titles."
   ]
  },
  {
   "cell_type": "code",
   "execution_count": 45,
   "metadata": {},
   "outputs": [
    {
     "name": "stdout",
     "output_type": "stream",
     "text": [
      "['Where Programming, Ops, AI, and the Cloud are Headed in 2021', 'Seven Legal Questions for Data Scientists', 'Patterns', 'Radar trends to watch: January 2021', 'Four short links: 14 Dec 2020', 'Four short links: 8 Dec 2020', 'O’Reilly’s top 20 live online training courses of 2020', 'What is functional programming?', 'Four short links: 4 Dec 2020', 'Four short links: 1 Dec 2020', 'Radar trends to watch: December 2020', 'Four short links: 27 Nov 2020', 'Four short links: 24 Nov 2020', 'Four short links: 20 Nov 2020', 'On Exactitude in Technical Debt', 'Four short links: 17 Nov 2020', 'Four short links: 13 Nov 2020', 'Multi-Paradigm Languages', 'Four short links: 10 November 2020', 'Four short links: 6 Nov 2020', 'Four short links: 4 Nov 2020', 'Radar trends to watch: November 2020', 'Four short links: 30 Oct 2020', 'Four short links: 28 Oct 2020', 'Our Favorite Questions', 'Four short links: 21 Oct 2020', 'Four Short Links: 16 October 2020', 'Four short links: 14 Oct 2020', 'AI Product Management After Deployment', 'Four short links: 9 October 2020', 'AI and Creativity', 'Four short links: 6 October 2020', 'Four short links: 2 October 2020', 'Radar trends to watch: October 2020', 'Four short links: 29 Sep 2020', 'Four short links: 25 September 2020', 'Four short links: 18 Sep 2020', 'Four short links: 16 Sep 2020', 'How to Set AI Goals', 'Four short links: 11 Sep 2020', 'Four short links: 9 Sep 2020', 'Pair Programming with AI', 'Four short links: 4 September 2020', 'Four short links: 2 September 2020', 'Radar trends to watch: September 2020', 'Four short links: 28 August 2020', 'An Agent of Change', 'Four short links: 25 August 2020', 'Four short links: 21 August 2020', 'Four Short Links: 19 August 2020', 'Why Best-of-Breed is a Better Choice than All-in-One Platforms for Data Science', 'Four short links: 14 August 2020', 'The Least Liked Programming Languages', 'Four short links: 11 Aug 2020', 'Four short links: 7 Aug 2020', 'Four short links: 5 August 2020', 'Radar trends to watch: August 2020', 'Four short links: 31 July 2020', 'Four short links: 30 July 2020', 'Four short links: 29 July 2020']\n"
     ]
    }
   ],
   "source": [
    "titles = [data.entries[i].title for i in range(len(data.entries))]\n",
    "print(titles)"
   ]
  },
  {
   "cell_type": "markdown",
   "metadata": {},
   "source": [
    "### 8. Calculate the percentage of \"Four short links\" entry titles."
   ]
  },
  {
   "cell_type": "code",
   "execution_count": 70,
   "metadata": {},
   "outputs": [
    {
     "data": {
      "text/plain": [
       "0.6166666666666667"
      ]
     },
     "execution_count": 70,
     "metadata": {},
     "output_type": "execute_result"
    }
   ],
   "source": [
    "count=0\n",
    "for i in titles:\n",
    "    if 'Four short links' in i:\n",
    "        count+=1\n",
    "count_porc= count / len(data['entries'])    \n",
    "count_porc"
   ]
  },
  {
   "cell_type": "markdown",
   "metadata": {},
   "source": [
    "### 9. Create a Pandas data frame from the feed's entries."
   ]
  },
  {
   "cell_type": "code",
   "execution_count": 72,
   "metadata": {},
   "outputs": [],
   "source": [
    "import pandas as pd\n",
    "from pandas.io.json import json_normalize\n"
   ]
  },
  {
   "cell_type": "code",
   "execution_count": 82,
   "metadata": {},
   "outputs": [],
   "source": [
    "df = pd.DataFrame(data.entries)\n",
    "\n",
    "df2 = df.copy()\n"
   ]
  },
  {
   "cell_type": "code",
   "execution_count": 91,
   "metadata": {
    "scrolled": false
   },
   "outputs": [
    {
     "data": {
      "text/html": [
       "<div>\n",
       "<style scoped>\n",
       "    .dataframe tbody tr th:only-of-type {\n",
       "        vertical-align: middle;\n",
       "    }\n",
       "\n",
       "    .dataframe tbody tr th {\n",
       "        vertical-align: top;\n",
       "    }\n",
       "\n",
       "    .dataframe thead th {\n",
       "        text-align: right;\n",
       "    }\n",
       "</style>\n",
       "<table border=\"1\" class=\"dataframe\">\n",
       "  <thead>\n",
       "    <tr style=\"text-align: right;\">\n",
       "      <th></th>\n",
       "      <th>title</th>\n",
       "      <th>link</th>\n",
       "      <th>comments</th>\n",
       "      <th>published</th>\n",
       "      <th>published_parsed</th>\n",
       "      <th>author</th>\n",
       "      <th>id</th>\n",
       "      <th>guidislink</th>\n",
       "      <th>summary</th>\n",
       "      <th>wfw_commentrss</th>\n",
       "      <th>slash_comments</th>\n",
       "      <th>feedburner_origlink</th>\n",
       "      <th>title_detail.type</th>\n",
       "      <th>title_detail.language</th>\n",
       "      <th>title_detail.base</th>\n",
       "      <th>title_detail.value</th>\n",
       "      <th>author_detail.name</th>\n",
       "      <th>summary_detail.type</th>\n",
       "      <th>summary_detail.language</th>\n",
       "    </tr>\n",
       "  </thead>\n",
       "  <tbody>\n",
       "    <tr>\n",
       "      <th>0</th>\n",
       "      <td>Where Programming, Ops, AI, and the Cloud are ...</td>\n",
       "      <td>http://feedproxy.google.com/~r/oreilly/radar/a...</td>\n",
       "      <td>https://www.oreilly.com/radar/where-programmin...</td>\n",
       "      <td>Mon, 25 Jan 2021 12:03:14 +0000</td>\n",
       "      <td>(2021, 1, 25, 12, 3, 14, 0, 25, 0)</td>\n",
       "      <td>Mike Loukides</td>\n",
       "      <td>https://www.oreilly.com/radar/?p=13616</td>\n",
       "      <td>False</td>\n",
       "      <td>In this report, we look at the data generated ...</td>\n",
       "      <td>https://www.oreilly.com/radar/where-programmin...</td>\n",
       "      <td>0</td>\n",
       "      <td>https://www.oreilly.com/radar/where-programmin...</td>\n",
       "      <td>text/plain</td>\n",
       "      <td>None</td>\n",
       "      <td>http://feeds.feedburner.com/oreilly/radar/atom</td>\n",
       "      <td>Where Programming, Ops, AI, and the Cloud are ...</td>\n",
       "      <td>Mike Loukides</td>\n",
       "      <td>text/html</td>\n",
       "      <td>None</td>\n",
       "    </tr>\n",
       "    <tr>\n",
       "      <th>1</th>\n",
       "      <td>Seven Legal Questions for Data Scientists</td>\n",
       "      <td>http://feedproxy.google.com/~r/oreilly/radar/a...</td>\n",
       "      <td>https://www.oreilly.com/radar/seven-legal-ques...</td>\n",
       "      <td>Tue, 19 Jan 2021 12:21:18 +0000</td>\n",
       "      <td>(2021, 1, 19, 12, 21, 18, 1, 19, 0)</td>\n",
       "      <td>Patrick Hall and Ayoub Ouederni</td>\n",
       "      <td>https://www.oreilly.com/radar/?p=13610</td>\n",
       "      <td>False</td>\n",
       "      <td>“[T]he threats to consumers arising from data ...</td>\n",
       "      <td>https://www.oreilly.com/radar/seven-legal-ques...</td>\n",
       "      <td>0</td>\n",
       "      <td>https://www.oreilly.com/radar/seven-legal-ques...</td>\n",
       "      <td>text/plain</td>\n",
       "      <td>None</td>\n",
       "      <td>http://feeds.feedburner.com/oreilly/radar/atom</td>\n",
       "      <td>Seven Legal Questions for Data Scientists</td>\n",
       "      <td>Patrick Hall and Ayoub Ouederni</td>\n",
       "      <td>text/html</td>\n",
       "      <td>None</td>\n",
       "    </tr>\n",
       "    <tr>\n",
       "      <th>2</th>\n",
       "      <td>Patterns</td>\n",
       "      <td>http://feedproxy.google.com/~r/oreilly/radar/a...</td>\n",
       "      <td>https://www.oreilly.com/radar/patterns/#respond</td>\n",
       "      <td>Tue, 12 Jan 2021 12:56:01 +0000</td>\n",
       "      <td>(2021, 1, 12, 12, 56, 1, 1, 12, 0)</td>\n",
       "      <td>Mike Loukides</td>\n",
       "      <td>https://www.oreilly.com/radar/?p=13601</td>\n",
       "      <td>False</td>\n",
       "      <td>A few months ago, I said that &amp;#8220;making ev...</td>\n",
       "      <td>https://www.oreilly.com/radar/patterns/feed/</td>\n",
       "      <td>0</td>\n",
       "      <td>https://www.oreilly.com/radar/patterns/</td>\n",
       "      <td>text/plain</td>\n",
       "      <td>None</td>\n",
       "      <td>http://feeds.feedburner.com/oreilly/radar/atom</td>\n",
       "      <td>Patterns</td>\n",
       "      <td>Mike Loukides</td>\n",
       "      <td>text/html</td>\n",
       "      <td>None</td>\n",
       "    </tr>\n",
       "    <tr>\n",
       "      <th>3</th>\n",
       "      <td>Radar trends to watch: January 2021</td>\n",
       "      <td>http://feedproxy.google.com/~r/oreilly/radar/a...</td>\n",
       "      <td>https://www.oreilly.com/radar/radar-trends-to-...</td>\n",
       "      <td>Tue, 05 Jan 2021 11:40:19 +0000</td>\n",
       "      <td>(2021, 1, 5, 11, 40, 19, 1, 5, 0)</td>\n",
       "      <td>Mike Loukides</td>\n",
       "      <td>https://www.oreilly.com/radar/?p=13596</td>\n",
       "      <td>False</td>\n",
       "      <td>The last month of the old year showed a lot of...</td>\n",
       "      <td>https://www.oreilly.com/radar/radar-trends-to-...</td>\n",
       "      <td>0</td>\n",
       "      <td>https://www.oreilly.com/radar/radar-trends-to-...</td>\n",
       "      <td>text/plain</td>\n",
       "      <td>None</td>\n",
       "      <td>http://feeds.feedburner.com/oreilly/radar/atom</td>\n",
       "      <td>Radar trends to watch: January 2021</td>\n",
       "      <td>Mike Loukides</td>\n",
       "      <td>text/html</td>\n",
       "      <td>None</td>\n",
       "    </tr>\n",
       "    <tr>\n",
       "      <th>4</th>\n",
       "      <td>Four short links: 14 Dec 2020</td>\n",
       "      <td>http://feedproxy.google.com/~r/oreilly/radar/a...</td>\n",
       "      <td>https://www.oreilly.com/radar/four-short-links...</td>\n",
       "      <td>Tue, 15 Dec 2020 14:52:18 +0000</td>\n",
       "      <td>(2020, 12, 15, 14, 52, 18, 1, 350, 0)</td>\n",
       "      <td>Nat Torkington</td>\n",
       "      <td>https://www.oreilly.com/radar/?p=13589</td>\n",
       "      <td>False</td>\n",
       "      <td>End-to-end Entity Resolution for Big Data — In...</td>\n",
       "      <td>https://www.oreilly.com/radar/four-short-links...</td>\n",
       "      <td>0</td>\n",
       "      <td>https://www.oreilly.com/radar/four-short-links...</td>\n",
       "      <td>text/plain</td>\n",
       "      <td>None</td>\n",
       "      <td>http://feeds.feedburner.com/oreilly/radar/atom</td>\n",
       "      <td>Four short links: 14 Dec 2020</td>\n",
       "      <td>Nat Torkington</td>\n",
       "      <td>text/html</td>\n",
       "      <td>None</td>\n",
       "    </tr>\n",
       "  </tbody>\n",
       "</table>\n",
       "</div>"
      ],
      "text/plain": [
       "                                               title  \\\n",
       "0  Where Programming, Ops, AI, and the Cloud are ...   \n",
       "1          Seven Legal Questions for Data Scientists   \n",
       "2                                           Patterns   \n",
       "3                Radar trends to watch: January 2021   \n",
       "4                      Four short links: 14 Dec 2020   \n",
       "\n",
       "                                                link  \\\n",
       "0  http://feedproxy.google.com/~r/oreilly/radar/a...   \n",
       "1  http://feedproxy.google.com/~r/oreilly/radar/a...   \n",
       "2  http://feedproxy.google.com/~r/oreilly/radar/a...   \n",
       "3  http://feedproxy.google.com/~r/oreilly/radar/a...   \n",
       "4  http://feedproxy.google.com/~r/oreilly/radar/a...   \n",
       "\n",
       "                                            comments  \\\n",
       "0  https://www.oreilly.com/radar/where-programmin...   \n",
       "1  https://www.oreilly.com/radar/seven-legal-ques...   \n",
       "2    https://www.oreilly.com/radar/patterns/#respond   \n",
       "3  https://www.oreilly.com/radar/radar-trends-to-...   \n",
       "4  https://www.oreilly.com/radar/four-short-links...   \n",
       "\n",
       "                         published                       published_parsed  \\\n",
       "0  Mon, 25 Jan 2021 12:03:14 +0000     (2021, 1, 25, 12, 3, 14, 0, 25, 0)   \n",
       "1  Tue, 19 Jan 2021 12:21:18 +0000    (2021, 1, 19, 12, 21, 18, 1, 19, 0)   \n",
       "2  Tue, 12 Jan 2021 12:56:01 +0000     (2021, 1, 12, 12, 56, 1, 1, 12, 0)   \n",
       "3  Tue, 05 Jan 2021 11:40:19 +0000      (2021, 1, 5, 11, 40, 19, 1, 5, 0)   \n",
       "4  Tue, 15 Dec 2020 14:52:18 +0000  (2020, 12, 15, 14, 52, 18, 1, 350, 0)   \n",
       "\n",
       "                            author                                      id  \\\n",
       "0                    Mike Loukides  https://www.oreilly.com/radar/?p=13616   \n",
       "1  Patrick Hall and Ayoub Ouederni  https://www.oreilly.com/radar/?p=13610   \n",
       "2                    Mike Loukides  https://www.oreilly.com/radar/?p=13601   \n",
       "3                    Mike Loukides  https://www.oreilly.com/radar/?p=13596   \n",
       "4                   Nat Torkington  https://www.oreilly.com/radar/?p=13589   \n",
       "\n",
       "   guidislink                                            summary  \\\n",
       "0       False  In this report, we look at the data generated ...   \n",
       "1       False  “[T]he threats to consumers arising from data ...   \n",
       "2       False  A few months ago, I said that &#8220;making ev...   \n",
       "3       False  The last month of the old year showed a lot of...   \n",
       "4       False  End-to-end Entity Resolution for Big Data — In...   \n",
       "\n",
       "                                      wfw_commentrss slash_comments  \\\n",
       "0  https://www.oreilly.com/radar/where-programmin...              0   \n",
       "1  https://www.oreilly.com/radar/seven-legal-ques...              0   \n",
       "2       https://www.oreilly.com/radar/patterns/feed/              0   \n",
       "3  https://www.oreilly.com/radar/radar-trends-to-...              0   \n",
       "4  https://www.oreilly.com/radar/four-short-links...              0   \n",
       "\n",
       "                                 feedburner_origlink title_detail.type  \\\n",
       "0  https://www.oreilly.com/radar/where-programmin...        text/plain   \n",
       "1  https://www.oreilly.com/radar/seven-legal-ques...        text/plain   \n",
       "2            https://www.oreilly.com/radar/patterns/        text/plain   \n",
       "3  https://www.oreilly.com/radar/radar-trends-to-...        text/plain   \n",
       "4  https://www.oreilly.com/radar/four-short-links...        text/plain   \n",
       "\n",
       "  title_detail.language                               title_detail.base  \\\n",
       "0                  None  http://feeds.feedburner.com/oreilly/radar/atom   \n",
       "1                  None  http://feeds.feedburner.com/oreilly/radar/atom   \n",
       "2                  None  http://feeds.feedburner.com/oreilly/radar/atom   \n",
       "3                  None  http://feeds.feedburner.com/oreilly/radar/atom   \n",
       "4                  None  http://feeds.feedburner.com/oreilly/radar/atom   \n",
       "\n",
       "                                  title_detail.value  \\\n",
       "0  Where Programming, Ops, AI, and the Cloud are ...   \n",
       "1          Seven Legal Questions for Data Scientists   \n",
       "2                                           Patterns   \n",
       "3                Radar trends to watch: January 2021   \n",
       "4                      Four short links: 14 Dec 2020   \n",
       "\n",
       "                author_detail.name summary_detail.type summary_detail.language  \n",
       "0                    Mike Loukides           text/html                    None  \n",
       "1  Patrick Hall and Ayoub Ouederni           text/html                    None  \n",
       "2                    Mike Loukides           text/html                    None  \n",
       "3                    Mike Loukides           text/html                    None  \n",
       "4                   Nat Torkington           text/html                    None  "
      ]
     },
     "execution_count": 91,
     "metadata": {},
     "output_type": "execute_result"
    }
   ],
   "source": [
    "df2 = pd.json_normalize(data['entries'])\n",
    "df2 = df2.drop(['links','authors','tags', 'content', 'summary_detail.base', 'summary_detail.value'], axis=1)\n",
    "df2.head()"
   ]
  },
  {
   "cell_type": "markdown",
   "metadata": {},
   "source": [
    "### 10. Count the number of entries per author and sort them in descending order."
   ]
  },
  {
   "cell_type": "code",
   "execution_count": 93,
   "metadata": {},
   "outputs": [
    {
     "data": {
      "text/html": [
       "<div>\n",
       "<style scoped>\n",
       "    .dataframe tbody tr th:only-of-type {\n",
       "        vertical-align: middle;\n",
       "    }\n",
       "\n",
       "    .dataframe tbody tr th {\n",
       "        vertical-align: top;\n",
       "    }\n",
       "\n",
       "    .dataframe thead th {\n",
       "        text-align: right;\n",
       "    }\n",
       "</style>\n",
       "<table border=\"1\" class=\"dataframe\">\n",
       "  <thead>\n",
       "    <tr style=\"text-align: right;\">\n",
       "      <th></th>\n",
       "      <th>author</th>\n",
       "      <th>entries</th>\n",
       "    </tr>\n",
       "  </thead>\n",
       "  <tbody>\n",
       "    <tr>\n",
       "      <th>6</th>\n",
       "      <td>Nat Torkington</td>\n",
       "      <td>38</td>\n",
       "    </tr>\n",
       "    <tr>\n",
       "      <th>5</th>\n",
       "      <td>Mike Loukides</td>\n",
       "      <td>13</td>\n",
       "    </tr>\n",
       "    <tr>\n",
       "      <th>0</th>\n",
       "      <td></td>\n",
       "      <td>2</td>\n",
       "    </tr>\n",
       "    <tr>\n",
       "      <th>1</th>\n",
       "      <td>Alex Castrounis</td>\n",
       "      <td>1</td>\n",
       "    </tr>\n",
       "    <tr>\n",
       "      <th>2</th>\n",
       "      <td>Justin Norman and Mike Loukides</td>\n",
       "      <td>1</td>\n",
       "    </tr>\n",
       "    <tr>\n",
       "      <th>3</th>\n",
       "      <td>Kevlin Henney</td>\n",
       "      <td>1</td>\n",
       "    </tr>\n",
       "    <tr>\n",
       "      <th>4</th>\n",
       "      <td>Matthew Rocklin and Hugo Bowne-Anderson</td>\n",
       "      <td>1</td>\n",
       "    </tr>\n",
       "    <tr>\n",
       "      <th>7</th>\n",
       "      <td>Patrick Hall and Ayoub Ouederni</td>\n",
       "      <td>1</td>\n",
       "    </tr>\n",
       "    <tr>\n",
       "      <th>8</th>\n",
       "      <td>Q Ethan McCallum and Mike Loukides</td>\n",
       "      <td>1</td>\n",
       "    </tr>\n",
       "    <tr>\n",
       "      <th>9</th>\n",
       "      <td>Q Ethan McCallum, Chris Butler and Shane Glynn</td>\n",
       "      <td>1</td>\n",
       "    </tr>\n",
       "  </tbody>\n",
       "</table>\n",
       "</div>"
      ],
      "text/plain": [
       "                                           author  entries\n",
       "6                                  Nat Torkington       38\n",
       "5                                   Mike Loukides       13\n",
       "0                                                        2\n",
       "1                                 Alex Castrounis        1\n",
       "2                 Justin Norman and Mike Loukides        1\n",
       "3                                   Kevlin Henney        1\n",
       "4         Matthew Rocklin and Hugo Bowne-Anderson        1\n",
       "7                 Patrick Hall and Ayoub Ouederni        1\n",
       "8              Q Ethan McCallum and Mike Loukides        1\n",
       "9  Q Ethan McCallum, Chris Butler and Shane Glynn        1"
      ]
     },
     "execution_count": 93,
     "metadata": {},
     "output_type": "execute_result"
    }
   ],
   "source": [
    "authors = df2.groupby('author', as_index=False).agg({'title':'count'})\n",
    "authors.columns = ['author', 'entries']\n",
    "authors.sort_values('entries', ascending=False)"
   ]
  },
  {
   "cell_type": "markdown",
   "metadata": {},
   "source": [
    "### 11. Add a new column to the data frame that contains the length (number of characters) of each entry title. Return a data frame that contains the title, author, and title length of each entry in descending order (longest title length at the top)."
   ]
  },
  {
   "cell_type": "code",
   "execution_count": 96,
   "metadata": {},
   "outputs": [
    {
     "data": {
      "text/html": [
       "<div>\n",
       "<style scoped>\n",
       "    .dataframe tbody tr th:only-of-type {\n",
       "        vertical-align: middle;\n",
       "    }\n",
       "\n",
       "    .dataframe tbody tr th {\n",
       "        vertical-align: top;\n",
       "    }\n",
       "\n",
       "    .dataframe thead th {\n",
       "        text-align: right;\n",
       "    }\n",
       "</style>\n",
       "<table border=\"1\" class=\"dataframe\">\n",
       "  <thead>\n",
       "    <tr style=\"text-align: right;\">\n",
       "      <th></th>\n",
       "      <th>title</th>\n",
       "      <th>author</th>\n",
       "      <th>title_length</th>\n",
       "    </tr>\n",
       "  </thead>\n",
       "  <tbody>\n",
       "    <tr>\n",
       "      <th>50</th>\n",
       "      <td>Why Best-of-Breed is a Better Choice than All-...</td>\n",
       "      <td>Matthew Rocklin and Hugo Bowne-Anderson</td>\n",
       "      <td>79</td>\n",
       "    </tr>\n",
       "    <tr>\n",
       "      <th>0</th>\n",
       "      <td>Where Programming, Ops, AI, and the Cloud are ...</td>\n",
       "      <td>Mike Loukides</td>\n",
       "      <td>60</td>\n",
       "    </tr>\n",
       "    <tr>\n",
       "      <th>6</th>\n",
       "      <td>O’Reilly’s top 20 live online training courses...</td>\n",
       "      <td></td>\n",
       "      <td>54</td>\n",
       "    </tr>\n",
       "    <tr>\n",
       "      <th>1</th>\n",
       "      <td>Seven Legal Questions for Data Scientists</td>\n",
       "      <td>Patrick Hall and Ayoub Ouederni</td>\n",
       "      <td>41</td>\n",
       "    </tr>\n",
       "    <tr>\n",
       "      <th>28</th>\n",
       "      <td>AI Product Management After Deployment</td>\n",
       "      <td>Justin Norman and Mike Loukides</td>\n",
       "      <td>38</td>\n",
       "    </tr>\n",
       "  </tbody>\n",
       "</table>\n",
       "</div>"
      ],
      "text/plain": [
       "                                                title  \\\n",
       "50  Why Best-of-Breed is a Better Choice than All-...   \n",
       "0   Where Programming, Ops, AI, and the Cloud are ...   \n",
       "6   O’Reilly’s top 20 live online training courses...   \n",
       "1           Seven Legal Questions for Data Scientists   \n",
       "28             AI Product Management After Deployment   \n",
       "\n",
       "                                     author  title_length  \n",
       "50  Matthew Rocklin and Hugo Bowne-Anderson            79  \n",
       "0                             Mike Loukides            60  \n",
       "6                                                      54  \n",
       "1           Patrick Hall and Ayoub Ouederni            41  \n",
       "28          Justin Norman and Mike Loukides            38  "
      ]
     },
     "execution_count": 96,
     "metadata": {},
     "output_type": "execute_result"
    }
   ],
   "source": [
    "df2['title_length'] = df2['title'].apply(len)\n",
    "df2[['title', 'author', 'title_length']].sort_values('title_length', ascending=False).head()"
   ]
  },
  {
   "cell_type": "markdown",
   "metadata": {},
   "source": [
    "### 12. Create a list of entry titles whose summary includes the phrase \"machine learning.\""
   ]
  },
  {
   "cell_type": "code",
   "execution_count": null,
   "metadata": {},
   "outputs": [],
   "source": []
  }
 ],
 "metadata": {
  "kernelspec": {
   "display_name": "Python 3",
   "language": "python",
   "name": "python3"
  },
  "language_info": {
   "codemirror_mode": {
    "name": "ipython",
    "version": 3
   },
   "file_extension": ".py",
   "mimetype": "text/x-python",
   "name": "python",
   "nbconvert_exporter": "python",
   "pygments_lexer": "ipython3",
   "version": "3.8.6"
  }
 },
 "nbformat": 4,
 "nbformat_minor": 2
}
