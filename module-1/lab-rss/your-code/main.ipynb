{
 "cells": [
  {
   "cell_type": "markdown",
   "metadata": {},
   "source": [
    "# Working with RSS Feeds Lab\n",
    "\n",
    "Complete the following set of exercises to solidify your knowledge of parsing RSS feeds and extracting information from them."
   ]
  },
  {
   "cell_type": "code",
   "execution_count": 2,
   "metadata": {},
   "outputs": [],
   "source": [
    "import feedparser"
   ]
  },
  {
   "cell_type": "markdown",
   "metadata": {},
   "source": [
    "### 1. Use feedparser to parse the following RSS feed URL."
   ]
  },
  {
   "cell_type": "code",
   "execution_count": 3,
   "metadata": {},
   "outputs": [],
   "source": [
    "url = 'http://feeds.feedburner.com/oreilly/radar/atom'"
   ]
  },
  {
   "cell_type": "code",
   "execution_count": 4,
   "metadata": {},
   "outputs": [],
   "source": [
    "reddit = feedparser.parse(url)"
   ]
  },
  {
   "cell_type": "code",
   "execution_count": 5,
   "metadata": {},
   "outputs": [
    {
     "name": "stdout",
     "output_type": "stream",
     "text": [
      "{'title': 'Radar', 'title_detail': {'type': 'text/plain', 'language': None, 'base': 'http://feeds.feedburner.com/oreilly/radar/atom', 'value': 'Radar'}, 'links': [{'rel': 'alternate', 'type': 'text/html', 'href': 'https://www.oreilly.com/radar'}, {'rel': 'self', 'type': 'application/rss+xml', 'href': 'http://feeds.feedburner.com/oreilly/radar/atom'}, {'rel': 'hub', 'href': 'http://pubsubhubbub.appspot.com/', 'type': 'text/html'}], 'link': 'https://www.oreilly.com/radar', 'subtitle': 'Now, next, and beyond: Tracking need-to-know trends at the intersection of business and technology', 'subtitle_detail': {'type': 'text/html', 'language': None, 'base': 'http://feeds.feedburner.com/oreilly/radar/atom', 'value': 'Now, next, and beyond: Tracking need-to-know trends at the intersection of business and technology'}, 'updated': 'Mon, 25 Jan 2021 12:03:15 +0000', 'updated_parsed': time.struct_time(tm_year=2021, tm_mon=1, tm_mday=25, tm_hour=12, tm_min=3, tm_sec=15, tm_wday=0, tm_yday=25, tm_isdst=0), 'language': 'en-US', 'sy_updateperiod': 'hourly', 'sy_updatefrequency': '1', 'generator_detail': {'name': 'https://wordpress.org/?v=5.3.6'}, 'generator': 'https://wordpress.org/?v=5.3.6', 'feedburner_info': {'uri': 'oreilly/radar/atom'}, 'geo_lat': '38.393314', 'geo_long': '-122.836667', 'feedburner_emailserviceid': 'oreilly/radar/atom', 'feedburner_feedburnerhostname': 'https://feedburner.google.com'}\n"
     ]
    }
   ],
   "source": [
    "print(reddit['feed'])"
   ]
  },
  {
   "cell_type": "markdown",
   "metadata": {},
   "source": [
    "### 2. Obtain a list of components (keys) that are available for this feed."
   ]
  },
  {
   "cell_type": "code",
   "execution_count": 6,
   "metadata": {},
   "outputs": [
    {
     "data": {
      "text/plain": [
       "dict_keys(['feed', 'entries', 'bozo', 'headers', 'etag', 'updated', 'updated_parsed', 'href', 'status', 'encoding', 'version', 'namespaces'])"
      ]
     },
     "execution_count": 6,
     "metadata": {},
     "output_type": "execute_result"
    }
   ],
   "source": [
    "reddit.keys()"
   ]
  },
  {
   "cell_type": "markdown",
   "metadata": {},
   "source": [
    "### 3. Obtain a list of components (keys) that are available for the *feed* component of this RSS feed."
   ]
  },
  {
   "cell_type": "code",
   "execution_count": 8,
   "metadata": {},
   "outputs": [
    {
     "data": {
      "text/plain": [
       "dict_keys(['title', 'title_detail', 'links', 'link', 'subtitle', 'subtitle_detail', 'updated', 'updated_parsed', 'language', 'sy_updateperiod', 'sy_updatefrequency', 'generator_detail', 'generator', 'feedburner_info', 'geo_lat', 'geo_long', 'feedburner_emailserviceid', 'feedburner_feedburnerhostname'])"
      ]
     },
     "execution_count": 8,
     "metadata": {},
     "output_type": "execute_result"
    }
   ],
   "source": [
    "reddit.feed.keys()"
   ]
  },
  {
   "cell_type": "markdown",
   "metadata": {},
   "source": [
    "### 4. Extract and print the feed title, subtitle, author, and link."
   ]
  },
  {
   "cell_type": "code",
   "execution_count": 17,
   "metadata": {},
   "outputs": [
    {
     "name": "stdout",
     "output_type": "stream",
     "text": [
      "Radar\n",
      "\n",
      "Now, next, and beyond: Tracking need-to-know trends at the intersection of business and technology\n",
      "\n",
      "en-US\n",
      "\n",
      "https://www.oreilly.com/radar\n"
     ]
    }
   ],
   "source": [
    "print (reddit.feed.title)\n",
    "print ('')\n",
    "print (reddit.feed.subtitle)\n",
    "print ('')\n",
    "print (reddit.feed.language)\n",
    "print ('')\n",
    "print (reddit.feed.link)"
   ]
  },
  {
   "cell_type": "markdown",
   "metadata": {},
   "source": [
    "### 5. Count the number of entries that are contained in this RSS feed."
   ]
  },
  {
   "cell_type": "code",
   "execution_count": 31,
   "metadata": {},
   "outputs": [
    {
     "data": {
      "text/plain": [
       "60"
      ]
     },
     "execution_count": 31,
     "metadata": {},
     "output_type": "execute_result"
    }
   ],
   "source": [
    "entr=int(len(reddit.entries))\n",
    "entr"
   ]
  },
  {
   "cell_type": "markdown",
   "metadata": {},
   "source": [
    "### 6. Obtain a list of components (keys) available for an entry.\n",
    "\n",
    "*Hint: Remember to index first before requesting the keys*"
   ]
  },
  {
   "cell_type": "code",
   "execution_count": 24,
   "metadata": {},
   "outputs": [
    {
     "data": {
      "text/plain": [
       "dict_keys(['title', 'title_detail', 'links', 'link', 'comments', 'published', 'published_parsed', 'authors', 'author', 'author_detail', 'tags', 'id', 'guidislink', 'summary', 'summary_detail', 'content', 'wfw_commentrss', 'slash_comments', 'feedburner_origlink'])"
      ]
     },
     "execution_count": 24,
     "metadata": {},
     "output_type": "execute_result"
    }
   ],
   "source": [
    "reddit.entries[0].keys()"
   ]
  },
  {
   "cell_type": "markdown",
   "metadata": {},
   "source": [
    "### 7. Extract a list of entry titles."
   ]
  },
  {
   "cell_type": "code",
   "execution_count": 25,
   "metadata": {},
   "outputs": [
    {
     "name": "stdout",
     "output_type": "stream",
     "text": [
      "['Where Programming, Ops, AI, and the Cloud are Headed in 2021', 'Seven Legal Questions for Data Scientists', 'Patterns', 'Radar trends to watch: January 2021', 'Four short links: 14 Dec 2020', 'Four short links: 8 Dec 2020', 'O’Reilly’s top 20 live online training courses of 2020', 'What is functional programming?', 'Four short links: 4 Dec 2020', 'Four short links: 1 Dec 2020', 'Radar trends to watch: December 2020', 'Four short links: 27 Nov 2020', 'Four short links: 24 Nov 2020', 'Four short links: 20 Nov 2020', 'On Exactitude in Technical Debt', 'Four short links: 17 Nov 2020', 'Four short links: 13 Nov 2020', 'Multi-Paradigm Languages', 'Four short links: 10 November 2020', 'Four short links: 6 Nov 2020', 'Four short links: 4 Nov 2020', 'Radar trends to watch: November 2020', 'Four short links: 30 Oct 2020', 'Four short links: 28 Oct 2020', 'Our Favorite Questions', 'Four short links: 21 Oct 2020', 'Four Short Links: 16 October 2020', 'Four short links: 14 Oct 2020', 'AI Product Management After Deployment', 'Four short links: 9 October 2020', 'AI and Creativity', 'Four short links: 6 October 2020', 'Four short links: 2 October 2020', 'Radar trends to watch: October 2020', 'Four short links: 29 Sep 2020', 'Four short links: 25 September 2020', 'Four short links: 18 Sep 2020', 'Four short links: 16 Sep 2020', 'How to Set AI Goals', 'Four short links: 11 Sep 2020', 'Four short links: 9 Sep 2020', 'Pair Programming with AI', 'Four short links: 4 September 2020', 'Four short links: 2 September 2020', 'Radar trends to watch: September 2020', 'Four short links: 28 August 2020', 'An Agent of Change', 'Four short links: 25 August 2020', 'Four short links: 21 August 2020', 'Four Short Links: 19 August 2020', 'Why Best-of-Breed is a Better Choice than All-in-One Platforms for Data Science', 'Four short links: 14 August 2020', 'The Least Liked Programming Languages', 'Four short links: 11 Aug 2020', 'Four short links: 7 Aug 2020', 'Four short links: 5 August 2020', 'Radar trends to watch: August 2020', 'Four short links: 31 July 2020', 'Four short links: 30 July 2020', 'Four short links: 29 July 2020']\n"
     ]
    }
   ],
   "source": [
    "titles = [reddit.entries[i].title for i in range(len(reddit.entries))]\n",
    "print(titles)"
   ]
  },
  {
   "cell_type": "markdown",
   "metadata": {},
   "source": [
    "### 8. Calculate the percentage of \"Four short links\" entry titles."
   ]
  },
  {
   "cell_type": "code",
   "execution_count": 34,
   "metadata": {},
   "outputs": [
    {
     "name": "stdout",
     "output_type": "stream",
     "text": [
      "El porcentaje de entradas con 'Four short links' es: 61.66666666666667\n"
     ]
    }
   ],
   "source": [
    "tit=0\n",
    "porc=0\n",
    "for tlt in titles:\n",
    "    if 'Four short links' in tlt:\n",
    "        tit = tit + 1\n",
    "    else:\n",
    "        pass\n",
    "    \n",
    "porc=((tit/entr)*100)\n",
    "print(\"El porcentaje de entradas con 'Four short links' es: \" +str(porc))\n",
    "        "
   ]
  },
  {
   "cell_type": "markdown",
   "metadata": {},
   "source": [
    "### 9. Create a Pandas data frame from the feed's entries."
   ]
  },
  {
   "cell_type": "code",
   "execution_count": 35,
   "metadata": {},
   "outputs": [],
   "source": [
    "import pandas as pd"
   ]
  },
  {
   "cell_type": "code",
   "execution_count": 36,
   "metadata": {},
   "outputs": [
    {
     "data": {
      "text/html": [
       "<div>\n",
       "<style scoped>\n",
       "    .dataframe tbody tr th:only-of-type {\n",
       "        vertical-align: middle;\n",
       "    }\n",
       "\n",
       "    .dataframe tbody tr th {\n",
       "        vertical-align: top;\n",
       "    }\n",
       "\n",
       "    .dataframe thead th {\n",
       "        text-align: right;\n",
       "    }\n",
       "</style>\n",
       "<table border=\"1\" class=\"dataframe\">\n",
       "  <thead>\n",
       "    <tr style=\"text-align: right;\">\n",
       "      <th></th>\n",
       "      <th>title</th>\n",
       "      <th>title_detail</th>\n",
       "      <th>links</th>\n",
       "      <th>link</th>\n",
       "      <th>comments</th>\n",
       "      <th>published</th>\n",
       "      <th>published_parsed</th>\n",
       "      <th>authors</th>\n",
       "      <th>author</th>\n",
       "      <th>author_detail</th>\n",
       "      <th>tags</th>\n",
       "      <th>id</th>\n",
       "      <th>guidislink</th>\n",
       "      <th>summary</th>\n",
       "      <th>summary_detail</th>\n",
       "      <th>content</th>\n",
       "      <th>wfw_commentrss</th>\n",
       "      <th>slash_comments</th>\n",
       "      <th>feedburner_origlink</th>\n",
       "    </tr>\n",
       "  </thead>\n",
       "  <tbody>\n",
       "    <tr>\n",
       "      <th>0</th>\n",
       "      <td>Where Programming, Ops, AI, and the Cloud are ...</td>\n",
       "      <td>{'type': 'text/plain', 'language': None, 'base...</td>\n",
       "      <td>[{'rel': 'alternate', 'type': 'text/html', 'hr...</td>\n",
       "      <td>http://feedproxy.google.com/~r/oreilly/radar/a...</td>\n",
       "      <td>https://www.oreilly.com/radar/where-programmin...</td>\n",
       "      <td>Mon, 25 Jan 2021 12:03:14 +0000</td>\n",
       "      <td>(2021, 1, 25, 12, 3, 14, 0, 25, 0)</td>\n",
       "      <td>[{'name': 'Mike Loukides'}]</td>\n",
       "      <td>Mike Loukides</td>\n",
       "      <td>{'name': 'Mike Loukides'}</td>\n",
       "      <td>[{'term': 'AI &amp; ML', 'scheme': None, 'label': ...</td>\n",
       "      <td>https://www.oreilly.com/radar/?p=13616</td>\n",
       "      <td>False</td>\n",
       "      <td>In this report, we look at the data generated ...</td>\n",
       "      <td>{'type': 'text/html', 'language': None, 'base'...</td>\n",
       "      <td>[{'type': 'text/html', 'language': None, 'base...</td>\n",
       "      <td>https://www.oreilly.com/radar/where-programmin...</td>\n",
       "      <td>0</td>\n",
       "      <td>https://www.oreilly.com/radar/where-programmin...</td>\n",
       "    </tr>\n",
       "    <tr>\n",
       "      <th>1</th>\n",
       "      <td>Seven Legal Questions for Data Scientists</td>\n",
       "      <td>{'type': 'text/plain', 'language': None, 'base...</td>\n",
       "      <td>[{'rel': 'alternate', 'type': 'text/html', 'hr...</td>\n",
       "      <td>http://feedproxy.google.com/~r/oreilly/radar/a...</td>\n",
       "      <td>https://www.oreilly.com/radar/seven-legal-ques...</td>\n",
       "      <td>Tue, 19 Jan 2021 12:21:18 +0000</td>\n",
       "      <td>(2021, 1, 19, 12, 21, 18, 1, 19, 0)</td>\n",
       "      <td>[{'name': 'Patrick Hall and Ayoub Ouederni'}]</td>\n",
       "      <td>Patrick Hall and Ayoub Ouederni</td>\n",
       "      <td>{'name': 'Patrick Hall and Ayoub Ouederni'}</td>\n",
       "      <td>[{'term': 'Artificial Intelligence', 'scheme':...</td>\n",
       "      <td>https://www.oreilly.com/radar/?p=13610</td>\n",
       "      <td>False</td>\n",
       "      <td>“[T]he threats to consumers arising from data ...</td>\n",
       "      <td>{'type': 'text/html', 'language': None, 'base'...</td>\n",
       "      <td>[{'type': 'text/html', 'language': None, 'base...</td>\n",
       "      <td>https://www.oreilly.com/radar/seven-legal-ques...</td>\n",
       "      <td>0</td>\n",
       "      <td>https://www.oreilly.com/radar/seven-legal-ques...</td>\n",
       "    </tr>\n",
       "    <tr>\n",
       "      <th>2</th>\n",
       "      <td>Patterns</td>\n",
       "      <td>{'type': 'text/plain', 'language': None, 'base...</td>\n",
       "      <td>[{'rel': 'alternate', 'type': 'text/html', 'hr...</td>\n",
       "      <td>http://feedproxy.google.com/~r/oreilly/radar/a...</td>\n",
       "      <td>https://www.oreilly.com/radar/patterns/#respond</td>\n",
       "      <td>Tue, 12 Jan 2021 12:56:01 +0000</td>\n",
       "      <td>(2021, 1, 12, 12, 56, 1, 1, 12, 0)</td>\n",
       "      <td>[{'name': 'Mike Loukides'}]</td>\n",
       "      <td>Mike Loukides</td>\n",
       "      <td>{'name': 'Mike Loukides'}</td>\n",
       "      <td>[{'term': 'Radar Column', 'scheme': None, 'lab...</td>\n",
       "      <td>https://www.oreilly.com/radar/?p=13601</td>\n",
       "      <td>False</td>\n",
       "      <td>A few months ago, I said that &amp;#8220;making ev...</td>\n",
       "      <td>{'type': 'text/html', 'language': None, 'base'...</td>\n",
       "      <td>[{'type': 'text/html', 'language': None, 'base...</td>\n",
       "      <td>https://www.oreilly.com/radar/patterns/feed/</td>\n",
       "      <td>0</td>\n",
       "      <td>https://www.oreilly.com/radar/patterns/</td>\n",
       "    </tr>\n",
       "    <tr>\n",
       "      <th>3</th>\n",
       "      <td>Radar trends to watch: January 2021</td>\n",
       "      <td>{'type': 'text/plain', 'language': None, 'base...</td>\n",
       "      <td>[{'rel': 'alternate', 'type': 'text/html', 'hr...</td>\n",
       "      <td>http://feedproxy.google.com/~r/oreilly/radar/a...</td>\n",
       "      <td>https://www.oreilly.com/radar/radar-trends-to-...</td>\n",
       "      <td>Tue, 05 Jan 2021 11:40:19 +0000</td>\n",
       "      <td>(2021, 1, 5, 11, 40, 19, 1, 5, 0)</td>\n",
       "      <td>[{'name': 'Mike Loukides'}]</td>\n",
       "      <td>Mike Loukides</td>\n",
       "      <td>{'name': 'Mike Loukides'}</td>\n",
       "      <td>[{'term': 'Radar Trends', 'scheme': None, 'lab...</td>\n",
       "      <td>https://www.oreilly.com/radar/?p=13596</td>\n",
       "      <td>False</td>\n",
       "      <td>The last month of the old year showed a lot of...</td>\n",
       "      <td>{'type': 'text/html', 'language': None, 'base'...</td>\n",
       "      <td>[{'type': 'text/html', 'language': None, 'base...</td>\n",
       "      <td>https://www.oreilly.com/radar/radar-trends-to-...</td>\n",
       "      <td>0</td>\n",
       "      <td>https://www.oreilly.com/radar/radar-trends-to-...</td>\n",
       "    </tr>\n",
       "    <tr>\n",
       "      <th>4</th>\n",
       "      <td>Four short links: 14 Dec 2020</td>\n",
       "      <td>{'type': 'text/plain', 'language': None, 'base...</td>\n",
       "      <td>[{'rel': 'alternate', 'type': 'text/html', 'hr...</td>\n",
       "      <td>http://feedproxy.google.com/~r/oreilly/radar/a...</td>\n",
       "      <td>https://www.oreilly.com/radar/four-short-links...</td>\n",
       "      <td>Tue, 15 Dec 2020 14:52:18 +0000</td>\n",
       "      <td>(2020, 12, 15, 14, 52, 18, 1, 350, 0)</td>\n",
       "      <td>[{'name': 'Nat Torkington'}]</td>\n",
       "      <td>Nat Torkington</td>\n",
       "      <td>{'name': 'Nat Torkington'}</td>\n",
       "      <td>[{'term': 'Four Short Links', 'scheme': None, ...</td>\n",
       "      <td>https://www.oreilly.com/radar/?p=13589</td>\n",
       "      <td>False</td>\n",
       "      <td>End-to-end Entity Resolution for Big Data — In...</td>\n",
       "      <td>{'type': 'text/html', 'language': None, 'base'...</td>\n",
       "      <td>[{'type': 'text/html', 'language': None, 'base...</td>\n",
       "      <td>https://www.oreilly.com/radar/four-short-links...</td>\n",
       "      <td>0</td>\n",
       "      <td>https://www.oreilly.com/radar/four-short-links...</td>\n",
       "    </tr>\n",
       "  </tbody>\n",
       "</table>\n",
       "</div>"
      ],
      "text/plain": [
       "                                               title  \\\n",
       "0  Where Programming, Ops, AI, and the Cloud are ...   \n",
       "1          Seven Legal Questions for Data Scientists   \n",
       "2                                           Patterns   \n",
       "3                Radar trends to watch: January 2021   \n",
       "4                      Four short links: 14 Dec 2020   \n",
       "\n",
       "                                        title_detail  \\\n",
       "0  {'type': 'text/plain', 'language': None, 'base...   \n",
       "1  {'type': 'text/plain', 'language': None, 'base...   \n",
       "2  {'type': 'text/plain', 'language': None, 'base...   \n",
       "3  {'type': 'text/plain', 'language': None, 'base...   \n",
       "4  {'type': 'text/plain', 'language': None, 'base...   \n",
       "\n",
       "                                               links  \\\n",
       "0  [{'rel': 'alternate', 'type': 'text/html', 'hr...   \n",
       "1  [{'rel': 'alternate', 'type': 'text/html', 'hr...   \n",
       "2  [{'rel': 'alternate', 'type': 'text/html', 'hr...   \n",
       "3  [{'rel': 'alternate', 'type': 'text/html', 'hr...   \n",
       "4  [{'rel': 'alternate', 'type': 'text/html', 'hr...   \n",
       "\n",
       "                                                link  \\\n",
       "0  http://feedproxy.google.com/~r/oreilly/radar/a...   \n",
       "1  http://feedproxy.google.com/~r/oreilly/radar/a...   \n",
       "2  http://feedproxy.google.com/~r/oreilly/radar/a...   \n",
       "3  http://feedproxy.google.com/~r/oreilly/radar/a...   \n",
       "4  http://feedproxy.google.com/~r/oreilly/radar/a...   \n",
       "\n",
       "                                            comments  \\\n",
       "0  https://www.oreilly.com/radar/where-programmin...   \n",
       "1  https://www.oreilly.com/radar/seven-legal-ques...   \n",
       "2    https://www.oreilly.com/radar/patterns/#respond   \n",
       "3  https://www.oreilly.com/radar/radar-trends-to-...   \n",
       "4  https://www.oreilly.com/radar/four-short-links...   \n",
       "\n",
       "                         published                       published_parsed  \\\n",
       "0  Mon, 25 Jan 2021 12:03:14 +0000     (2021, 1, 25, 12, 3, 14, 0, 25, 0)   \n",
       "1  Tue, 19 Jan 2021 12:21:18 +0000    (2021, 1, 19, 12, 21, 18, 1, 19, 0)   \n",
       "2  Tue, 12 Jan 2021 12:56:01 +0000     (2021, 1, 12, 12, 56, 1, 1, 12, 0)   \n",
       "3  Tue, 05 Jan 2021 11:40:19 +0000      (2021, 1, 5, 11, 40, 19, 1, 5, 0)   \n",
       "4  Tue, 15 Dec 2020 14:52:18 +0000  (2020, 12, 15, 14, 52, 18, 1, 350, 0)   \n",
       "\n",
       "                                         authors  \\\n",
       "0                    [{'name': 'Mike Loukides'}]   \n",
       "1  [{'name': 'Patrick Hall and Ayoub Ouederni'}]   \n",
       "2                    [{'name': 'Mike Loukides'}]   \n",
       "3                    [{'name': 'Mike Loukides'}]   \n",
       "4                   [{'name': 'Nat Torkington'}]   \n",
       "\n",
       "                            author  \\\n",
       "0                    Mike Loukides   \n",
       "1  Patrick Hall and Ayoub Ouederni   \n",
       "2                    Mike Loukides   \n",
       "3                    Mike Loukides   \n",
       "4                   Nat Torkington   \n",
       "\n",
       "                                 author_detail  \\\n",
       "0                    {'name': 'Mike Loukides'}   \n",
       "1  {'name': 'Patrick Hall and Ayoub Ouederni'}   \n",
       "2                    {'name': 'Mike Loukides'}   \n",
       "3                    {'name': 'Mike Loukides'}   \n",
       "4                   {'name': 'Nat Torkington'}   \n",
       "\n",
       "                                                tags  \\\n",
       "0  [{'term': 'AI & ML', 'scheme': None, 'label': ...   \n",
       "1  [{'term': 'Artificial Intelligence', 'scheme':...   \n",
       "2  [{'term': 'Radar Column', 'scheme': None, 'lab...   \n",
       "3  [{'term': 'Radar Trends', 'scheme': None, 'lab...   \n",
       "4  [{'term': 'Four Short Links', 'scheme': None, ...   \n",
       "\n",
       "                                       id  guidislink  \\\n",
       "0  https://www.oreilly.com/radar/?p=13616       False   \n",
       "1  https://www.oreilly.com/radar/?p=13610       False   \n",
       "2  https://www.oreilly.com/radar/?p=13601       False   \n",
       "3  https://www.oreilly.com/radar/?p=13596       False   \n",
       "4  https://www.oreilly.com/radar/?p=13589       False   \n",
       "\n",
       "                                             summary  \\\n",
       "0  In this report, we look at the data generated ...   \n",
       "1  “[T]he threats to consumers arising from data ...   \n",
       "2  A few months ago, I said that &#8220;making ev...   \n",
       "3  The last month of the old year showed a lot of...   \n",
       "4  End-to-end Entity Resolution for Big Data — In...   \n",
       "\n",
       "                                      summary_detail  \\\n",
       "0  {'type': 'text/html', 'language': None, 'base'...   \n",
       "1  {'type': 'text/html', 'language': None, 'base'...   \n",
       "2  {'type': 'text/html', 'language': None, 'base'...   \n",
       "3  {'type': 'text/html', 'language': None, 'base'...   \n",
       "4  {'type': 'text/html', 'language': None, 'base'...   \n",
       "\n",
       "                                             content  \\\n",
       "0  [{'type': 'text/html', 'language': None, 'base...   \n",
       "1  [{'type': 'text/html', 'language': None, 'base...   \n",
       "2  [{'type': 'text/html', 'language': None, 'base...   \n",
       "3  [{'type': 'text/html', 'language': None, 'base...   \n",
       "4  [{'type': 'text/html', 'language': None, 'base...   \n",
       "\n",
       "                                      wfw_commentrss slash_comments  \\\n",
       "0  https://www.oreilly.com/radar/where-programmin...              0   \n",
       "1  https://www.oreilly.com/radar/seven-legal-ques...              0   \n",
       "2       https://www.oreilly.com/radar/patterns/feed/              0   \n",
       "3  https://www.oreilly.com/radar/radar-trends-to-...              0   \n",
       "4  https://www.oreilly.com/radar/four-short-links...              0   \n",
       "\n",
       "                                 feedburner_origlink  \n",
       "0  https://www.oreilly.com/radar/where-programmin...  \n",
       "1  https://www.oreilly.com/radar/seven-legal-ques...  \n",
       "2            https://www.oreilly.com/radar/patterns/  \n",
       "3  https://www.oreilly.com/radar/radar-trends-to-...  \n",
       "4  https://www.oreilly.com/radar/four-short-links...  "
      ]
     },
     "execution_count": 36,
     "metadata": {},
     "output_type": "execute_result"
    }
   ],
   "source": [
    "df = pd.DataFrame(reddit.entries)\n",
    "df.head()"
   ]
  },
  {
   "cell_type": "markdown",
   "metadata": {},
   "source": [
    "### 10. Count the number of entries per author and sort them in descending order."
   ]
  },
  {
   "cell_type": "code",
   "execution_count": 37,
   "metadata": {},
   "outputs": [
    {
     "data": {
      "text/html": [
       "<div>\n",
       "<style scoped>\n",
       "    .dataframe tbody tr th:only-of-type {\n",
       "        vertical-align: middle;\n",
       "    }\n",
       "\n",
       "    .dataframe tbody tr th {\n",
       "        vertical-align: top;\n",
       "    }\n",
       "\n",
       "    .dataframe thead th {\n",
       "        text-align: right;\n",
       "    }\n",
       "</style>\n",
       "<table border=\"1\" class=\"dataframe\">\n",
       "  <thead>\n",
       "    <tr style=\"text-align: right;\">\n",
       "      <th></th>\n",
       "      <th>author</th>\n",
       "      <th>entries</th>\n",
       "    </tr>\n",
       "  </thead>\n",
       "  <tbody>\n",
       "    <tr>\n",
       "      <th>6</th>\n",
       "      <td>Nat Torkington</td>\n",
       "      <td>38</td>\n",
       "    </tr>\n",
       "    <tr>\n",
       "      <th>5</th>\n",
       "      <td>Mike Loukides</td>\n",
       "      <td>13</td>\n",
       "    </tr>\n",
       "    <tr>\n",
       "      <th>0</th>\n",
       "      <td></td>\n",
       "      <td>2</td>\n",
       "    </tr>\n",
       "    <tr>\n",
       "      <th>1</th>\n",
       "      <td>Alex Castrounis</td>\n",
       "      <td>1</td>\n",
       "    </tr>\n",
       "    <tr>\n",
       "      <th>2</th>\n",
       "      <td>Justin Norman and Mike Loukides</td>\n",
       "      <td>1</td>\n",
       "    </tr>\n",
       "    <tr>\n",
       "      <th>3</th>\n",
       "      <td>Kevlin Henney</td>\n",
       "      <td>1</td>\n",
       "    </tr>\n",
       "    <tr>\n",
       "      <th>4</th>\n",
       "      <td>Matthew Rocklin and Hugo Bowne-Anderson</td>\n",
       "      <td>1</td>\n",
       "    </tr>\n",
       "    <tr>\n",
       "      <th>7</th>\n",
       "      <td>Patrick Hall and Ayoub Ouederni</td>\n",
       "      <td>1</td>\n",
       "    </tr>\n",
       "    <tr>\n",
       "      <th>8</th>\n",
       "      <td>Q Ethan McCallum and Mike Loukides</td>\n",
       "      <td>1</td>\n",
       "    </tr>\n",
       "    <tr>\n",
       "      <th>9</th>\n",
       "      <td>Q Ethan McCallum, Chris Butler and Shane Glynn</td>\n",
       "      <td>1</td>\n",
       "    </tr>\n",
       "  </tbody>\n",
       "</table>\n",
       "</div>"
      ],
      "text/plain": [
       "                                           author  entries\n",
       "6                                  Nat Torkington       38\n",
       "5                                   Mike Loukides       13\n",
       "0                                                        2\n",
       "1                                 Alex Castrounis        1\n",
       "2                 Justin Norman and Mike Loukides        1\n",
       "3                                   Kevlin Henney        1\n",
       "4         Matthew Rocklin and Hugo Bowne-Anderson        1\n",
       "7                 Patrick Hall and Ayoub Ouederni        1\n",
       "8              Q Ethan McCallum and Mike Loukides        1\n",
       "9  Q Ethan McCallum, Chris Butler and Shane Glynn        1"
      ]
     },
     "execution_count": 37,
     "metadata": {},
     "output_type": "execute_result"
    }
   ],
   "source": [
    "authors = df.groupby('author', as_index=False).agg({'title':'count'})\n",
    "authors.columns = ['author', 'entries']\n",
    "authors.sort_values('entries', ascending=False)"
   ]
  },
  {
   "cell_type": "markdown",
   "metadata": {},
   "source": [
    "### 11. Add a new column to the data frame that contains the length (number of characters) of each entry title. Return a data frame that contains the title, author, and title length of each entry in descending order (longest title length at the top)."
   ]
  },
  {
   "cell_type": "code",
   "execution_count": 38,
   "metadata": {},
   "outputs": [
    {
     "data": {
      "text/html": [
       "<div>\n",
       "<style scoped>\n",
       "    .dataframe tbody tr th:only-of-type {\n",
       "        vertical-align: middle;\n",
       "    }\n",
       "\n",
       "    .dataframe tbody tr th {\n",
       "        vertical-align: top;\n",
       "    }\n",
       "\n",
       "    .dataframe thead th {\n",
       "        text-align: right;\n",
       "    }\n",
       "</style>\n",
       "<table border=\"1\" class=\"dataframe\">\n",
       "  <thead>\n",
       "    <tr style=\"text-align: right;\">\n",
       "      <th></th>\n",
       "      <th>title</th>\n",
       "      <th>author</th>\n",
       "      <th>title_length</th>\n",
       "    </tr>\n",
       "  </thead>\n",
       "  <tbody>\n",
       "    <tr>\n",
       "      <th>50</th>\n",
       "      <td>Why Best-of-Breed is a Better Choice than All-...</td>\n",
       "      <td>Matthew Rocklin and Hugo Bowne-Anderson</td>\n",
       "      <td>79</td>\n",
       "    </tr>\n",
       "    <tr>\n",
       "      <th>0</th>\n",
       "      <td>Where Programming, Ops, AI, and the Cloud are ...</td>\n",
       "      <td>Mike Loukides</td>\n",
       "      <td>60</td>\n",
       "    </tr>\n",
       "    <tr>\n",
       "      <th>6</th>\n",
       "      <td>O’Reilly’s top 20 live online training courses...</td>\n",
       "      <td></td>\n",
       "      <td>54</td>\n",
       "    </tr>\n",
       "    <tr>\n",
       "      <th>1</th>\n",
       "      <td>Seven Legal Questions for Data Scientists</td>\n",
       "      <td>Patrick Hall and Ayoub Ouederni</td>\n",
       "      <td>41</td>\n",
       "    </tr>\n",
       "    <tr>\n",
       "      <th>28</th>\n",
       "      <td>AI Product Management After Deployment</td>\n",
       "      <td>Justin Norman and Mike Loukides</td>\n",
       "      <td>38</td>\n",
       "    </tr>\n",
       "  </tbody>\n",
       "</table>\n",
       "</div>"
      ],
      "text/plain": [
       "                                                title  \\\n",
       "50  Why Best-of-Breed is a Better Choice than All-...   \n",
       "0   Where Programming, Ops, AI, and the Cloud are ...   \n",
       "6   O’Reilly’s top 20 live online training courses...   \n",
       "1           Seven Legal Questions for Data Scientists   \n",
       "28             AI Product Management After Deployment   \n",
       "\n",
       "                                     author  title_length  \n",
       "50  Matthew Rocklin and Hugo Bowne-Anderson            79  \n",
       "0                             Mike Loukides            60  \n",
       "6                                                      54  \n",
       "1           Patrick Hall and Ayoub Ouederni            41  \n",
       "28          Justin Norman and Mike Loukides            38  "
      ]
     },
     "execution_count": 38,
     "metadata": {},
     "output_type": "execute_result"
    }
   ],
   "source": [
    "df['title_length'] = df['title'].apply(len)\n",
    "df[['title', 'author', 'title_length']].sort_values('title_length', ascending=False).head()"
   ]
  },
  {
   "cell_type": "markdown",
   "metadata": {},
   "source": [
    "### 12. Create a list of entry titles whose summary includes the phrase \"machine learning.\""
   ]
  },
  {
   "cell_type": "code",
   "execution_count": 39,
   "metadata": {},
   "outputs": [
    {
     "name": "stdout",
     "output_type": "stream",
     "text": [
      "['Seven Legal Questions for Data Scientists']\n"
     ]
    }
   ],
   "source": [
    "summary_list = [df.loc[i, 'title'] for i in range(len(df['summary'])) if 'machine learning' in df.loc[i, 'summary']]\n",
    "print(summary_list)\n",
    " "
   ]
  },
  {
   "cell_type": "code",
   "execution_count": null,
   "metadata": {},
   "outputs": [],
   "source": []
  }
 ],
 "metadata": {
  "kernelspec": {
   "display_name": "Python 3",
   "language": "python",
   "name": "python3"
  },
  "language_info": {
   "codemirror_mode": {
    "name": "ipython",
    "version": 3
   },
   "file_extension": ".py",
   "mimetype": "text/x-python",
   "name": "python",
   "nbconvert_exporter": "python",
   "pygments_lexer": "ipython3",
   "version": "3.8.5"
  }
 },
 "nbformat": 4,
 "nbformat_minor": 2
}
