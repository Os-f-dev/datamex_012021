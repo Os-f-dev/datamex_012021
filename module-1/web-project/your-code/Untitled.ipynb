{
 "cells": [
  {
   "cell_type": "code",
   "execution_count": 55,
   "metadata": {},
   "outputs": [],
   "source": [
    "import json\n",
    "import requests\n",
    "import pandas as pd\n",
    "from pandas.io.json import json_normalize\n"
   ]
  },
  {
   "cell_type": "code",
   "execution_count": 56,
   "metadata": {},
   "outputs": [],
   "source": [
    "suby = ['VIXY-MM','SHK-GS']"
   ]
  },
  {
   "cell_type": "code",
   "execution_count": 57,
   "metadata": {},
   "outputs": [
    {
     "data": {
      "text/plain": [
       "'https://sandbox.iexapis.com/stable/stock/SHK-GS/chart/1m?token=Tpk_12408ef88e28400f845e4acea5dd0f6e'"
      ]
     },
     "execution_count": 57,
     "metadata": {},
     "output_type": "execute_result"
    }
   ],
   "source": [
    "n = 'VIXY-MM'\n",
    "url=f'https://sandbox.iexapis.com/stable/stock/{suby[1]}/chart/1m?token=Tpk_12408ef88e28400f845e4acea5dd0f6e'\n",
    "\n",
    "url"
   ]
  },
  {
   "cell_type": "code",
   "execution_count": 58,
   "metadata": {},
   "outputs": [],
   "source": [
    "response = requests.get(url)"
   ]
  },
  {
   "cell_type": "code",
   "execution_count": 59,
   "metadata": {},
   "outputs": [
    {
     "data": {
      "text/plain": [
       "b'[{\"close\":0.331,\"high\":0.329,\"low\":0.341,\"open\":0.335,\"symbol\":\"SHK-GS\",\"volume\":0,\"id\":\"TIAOSL_RSHPRCICIE\",\"key\":\"SHK-GS\",\"subkey\":\"0\",\"date\":\"2021-01-04\",\"updated\":1631305786135,\"changeOverTime\":0,\"marketChangeOverTime\":0,\"uOpen\":0.332,\"uClose\":0.334,\"uHigh\":0.336,\"uLow\":0.343,\"fOpen\":0.338,\"fClose\":0.343,\"fHigh\":0.33,\"fLow\":0.329,\"label\":\"Jan 4, 21\",\"change\":0,\"changePercent\":0},{\"close\":0.33,\"high\":0.33,\"low\":0.343,\"open\":0.342,\"symbol\":\"SHK-GS\",\"volume\":0,\"id\":\"PRSLRCAHICITIOS_E\",\"key\":\"SHKG-S\",\"subkey\":\"0\",\"date\":\"2021-01-05\",\"updated\":1638138968450,\"changeOverTime\":0,\"marketChangeOverTime\":0,\"uOpen\":0.331,\"uClose\":0.332,\"uHigh\":0.34,\"uLow\":0.337,\"fOpen\":0.336,\"fClose\":0.344,\"fHigh\":0.335,\"fLow\":0.342,\"label\":\"Jan 5, 21\",\"change\":0,\"changePercent\":0},{\"close\":0.34,\"high\":0.34,\"low\":0.34,\"open\":0.34,\"symbol\":\"SHK-GS\",\"volume\":0,\"id\":\"HACC_SLRISIPRTEIO\",\"key\":\"SKSH-G\",\"subkey\":\"0\",\"date\":\"2021-01-06\",\"updated\":1684591100349,\"changeOverTime\":0.006257372307745214,\"marketChangeOverTime\":0.0063719954269784865,\"uOpen\":0.34,\"uClose\":0.34,\"uHigh\":0.34,\"uLow\":0.33,\"fOpen\":0.34,\"fClose\":0.34,\"fHigh\":0.35,\"fLow\":0.34,\"label\":\"Jan 6, 21\",\"change\":0.0020747488356945357,\"changePercent\":0.0062},{\"close\":0.338,\"high\":0.338,\"low\":0.347,\"open\":0.344,\"symbol\":\"SHK-GS\",\"volume\":0,\"id\":\"SI_AORISPCLIETCHR\",\"key\":\"GSK-HS\",\"subkey\":\"0\",\"date\":\"2021-01-08\",\"updated\":1669027325517,\"changeOverTime\":0.01263962226388282,\"marketChangeOverTime\":0.012381636693195783,\"uOpen\":0.345,\"uClose\":0.342,\"uHigh\":0.348,\"uLow\":0.342,\"fOpen\":0.346,\"fClose\":0.341,\"fHigh\":0.338,\"fLow\":0.342,\"label\":\"Jan 8, 21\",\"change\":0.0020128200038583566,\"changePercent\":0.0061},{\"close\":0.339,\"high\":0.349,\"low\":0.34,\"open\":0.337,\"symbol\":\"SHK-GS\",\"volume\":0,\"id\":\"OIIH_EPRILCCSTSRA\",\"key\":\"SHK-SG\",\"subkey\":\"0\",\"date\":\"2021-01-11\",\"updated\":1644715366180,\"changeOverTime\":0.02552509848556525,\"marketChangeOverTime\":0.025194961584365173,\"uOpen\":0.338,\"uClose\":0.344,\"uHigh\":0.346,\"uLow\":0.342,\"fOpen\":0.344,\"fClose\":0.341,\"fHigh\":0.351,\"fLow\":0.344,\"label\":\"Jan 11, 21\",\"change\":0.004029945653390864,\"changePercent\":0.012},{\"close\":0.36,\"high\":0.359,\"low\":0.34,\"open\":0.344,\"symbol\":\"SHK-GS\",\"volume\":0,\"id\":\"ISSPRLREAITI_OCHC\",\"key\":\"HGS-KS\",\"subkey\":\"0\",\"date\":\"2021-01-12\",\"updated\":1661606481794,\"changeOverTime\":0.03710011533806411,\"marketChangeOverTime\":0.0379872536181509,\"uOpen\":0.344,\"uClose\":0.34,\"uHigh\":0.358,\"uLow\":0.35,\"fOpen\":0.356,\"fClose\":0.35,\"fHigh\":0.346,\"fLow\":0.35,\"label\":\"Jan 12, 21\",\"change\":0.004073116795950744,\"changePercent\":0.0121},{\"close\":0.346,\"high\":0.34,\"low\":0.342,\"open\":0.354,\"symbol\":\"SHK-GS\",\"volume\":0,\"id\":\"_IRROITIECHASSPLC\",\"key\":\"HKSS-G\",\"subkey\":\"0\",\"date\":\"2021-01-13\",\"updated\":1648572351717,\"changeOverTime\":0.031076971407401052,\"marketChangeOverTime\":0.030554129777157938,\"uOpen\":0.342,\"uClose\":0.351,\"uHigh\":0.339,\"uLow\":0.348,\"fOpen\":0.343,\"fClose\":0.344,\"fHigh\":0.35,\"fLow\":0.351,\"label\":\"Jan 13, 21\",\"change\":-0.002004902641136933,\"changePercent\":-0.0059},{\"close\":0.342,\"high\":0.346,\"low\":0.342,\"open\":0.341,\"symbol\":\"SHK-GS\",\"volume\":0,\"id\":\"CRLI_CSIHPTIRESOA\",\"key\":\"SGK-SH\",\"subkey\":\"0\",\"date\":\"2021-01-14\",\"updated\":1629235295790,\"changeOverTime\":0.03167071285800388,\"marketChangeOverTime\":0.030976312676762055,\"uOpen\":0.352,\"uClose\":0.355,\"uHigh\":0.354,\"uLow\":0.338,\"fOpen\":0.348,\"fClose\":0.339,\"fHigh\":0.344,\"fLow\":0.35,\"label\":\"Jan 14, 21\",\"change\":0,\"changePercent\":0},{\"close\":0.343,\"high\":0.344,\"low\":0.348,\"open\":0.351,\"symbol\":\"SHK-GS\",\"volume\":0,\"id\":\"_ITIORHSEPCISLCRA\",\"key\":\"KHSG-S\",\"subkey\":\"0\",\"date\":\"2021-01-15\",\"updated\":1650574702097,\"changeOverTime\":0.025047769172633412,\"marketChangeOverTime\":0.02547480465298116,\"uOpen\":0.35,\"uClose\":0.343,\"uHigh\":0.348,\"uLow\":0.341,\"fOpen\":0.351,\"fClose\":0.338,\"fHigh\":0.336,\"fLow\":0.343,\"label\":\"Jan 15, 21\",\"change\":-0.0020559734097136623,\"changePercent\":-0.006},{\"close\":0.34,\"high\":0.35,\"low\":0.35,\"open\":0.34,\"symbol\":\"SHK-GS\",\"volume\":0,\"id\":\"CICSIAS_LOETPIHRR\",\"key\":\"HKGSS-\",\"subkey\":\"0\",\"date\":\"2021-01-18\",\"updated\":1621182884986,\"changeOverTime\":0.03782623232631546,\"marketChangeOverTime\":0.03777473608972129,\"uOpen\":0.35,\"uClose\":0.34,\"uHigh\":0.35,\"uLow\":0.36,\"fOpen\":0.35,\"fClose\":0.34,\"fHigh\":0.36,\"fLow\":0.36,\"label\":\"Jan 18, 21\",\"change\":0.004169709774587613,\"changePercent\":0.0123},{\"close\":0.35,\"high\":0.35,\"low\":0.35,\"open\":0.35,\"symbol\":\"SHK-GS\",\"volume\":0,\"id\":\"LPRESC_TCIOSIIRAH\",\"key\":\"GKSS-H\",\"subkey\":\"0\",\"date\":\"2021-01-19\",\"updated\":1645473102005,\"changeOverTime\":0.03799329826179847,\"marketChangeOverTime\":0.03714431921849575,\"uOpen\":0.34,\"uClose\":0.34,\"uHigh\":0.35,\"uLow\":0.34,\"fOpen\":0.35,\"fClose\":0.35,\"fHigh\":0.34,\"fLow\":0.34,\"label\":\"Jan 19, 21\",\"change\":0,\"changePercent\":0},{\"close\":0.345,\"high\":0.353,\"low\":0.347,\"open\":0.35,\"symbol\":\"SHK-GS\",\"volume\":0,\"id\":\"PIRECTHSOARL_ISCI\",\"key\":\"GS-KHS\",\"subkey\":\"0\",\"date\":\"2021-01-20\",\"updated\":1683089354571,\"changeOverTime\":0.03183321611044953,\"marketChangeOverTime\":0.030938891976653577,\"uOpen\":0.351,\"uClose\":0.349,\"uHigh\":0.347,\"uLow\":0.34,\"fOpen\":0.353,\"fClose\":0.346,\"fHigh\":0.351,\"fLow\":0.346,\"label\":\"Jan 20, 21\",\"change\":-0.002042705581608362,\"changePercent\":-0.006},{\"close\":0.355,\"high\":0.345,\"low\":0.339,\"open\":0.343,\"symbol\":\"SHK-GS\",\"volume\":0,\"id\":\"HSPR_TAIIREILCSOC\",\"key\":\"GS-SKH\",\"subkey\":\"0\",\"date\":\"2021-01-21\",\"updated\":1635004932954,\"changeOverTime\":0.03150743076669832,\"marketChangeOverTime\":0.03180163630578298,\"uOpen\":0.343,\"uClose\":0.348,\"uHigh\":0.353,\"uLow\":0.352,\"fOpen\":0.346,\"fClose\":0.347,\"fHigh\":0.348,\"fLow\":0.355,\"label\":\"Jan 21, 21\",\"change\":0,\"changePercent\":0},{\"close\":0.38,\"high\":0.36,\"low\":0.336,\"open\":0.349,\"symbol\":\"SHK-GS\",\"volume\":4101,\"id\":\"RC_ROSIHIAEPSTCLI\",\"key\":\"KGH-SS\",\"subkey\":\"0\",\"date\":\"2021-01-22\",\"updated\":1655470890107,\"changeOverTime\":0.10222293798406624,\"marketChangeOverTime\":0.10159598191761092,\"uOpen\":0.348,\"uClose\":0.37,\"uHigh\":0.38,\"uLow\":0.335,\"uVolume\":4025,\"fOpen\":0.349,\"fClose\":0.38,\"fHigh\":0.36,\"fLow\":0.337,\"fVolume\":4185,\"label\":\"Jan 22, 21\",\"change\":0.02304796663566876,\"changePercent\":0.0652},{\"close\":0.34,\"high\":0.337,\"low\":0.347,\"open\":0.347,\"symbol\":\"SHK-GS\",\"volume\":0,\"id\":\"RPSTICSACREOH_ILI\",\"key\":\"GSHKS-\",\"subkey\":\"0\",\"date\":\"2021-01-25\",\"updated\":1648034144030,\"changeOverTime\":0.018816284628246728,\"marketChangeOverTime\":0.018608425672949225,\"uOpen\":0.349,\"uClose\":0.338,\"uHigh\":0.349,\"uLow\":0.349,\"fOpen\":0.336,\"fClose\":0.347,\"fHigh\":0.336,\"fLow\":0.348,\"label\":\"Jan 25, 21\",\"change\":-0.026787541958325774,\"changePercent\":-0.0745},{\"close\":0.335,\"high\":0.34,\"low\":0.345,\"open\":0.343,\"symbol\":\"SHK-GS\",\"volume\":0,\"id\":\"ICTAPIROHLEIS_SRC\",\"key\":\"SG-HKS\",\"subkey\":\"0\",\"date\":\"2021-01-26\",\"updated\":1644919074366,\"changeOverTime\":0.019189085350306487,\"marketChangeOverTime\":0.018900322575194122,\"uOpen\":0.341,\"uClose\":0.342,\"uHigh\":0.339,\"uLow\":0.347,\"fOpen\":0.344,\"fClose\":0.343,\"fHigh\":0.347,\"fLow\":0.343,\"label\":\"Jan 26, 21\",\"change\":0,\"changePercent\":0},{\"close\":0.34,\"high\":0.34,\"low\":0.33,\"open\":0.34,\"symbol\":\"SHK-GS\",\"volume\":0,\"id\":\"_ICLROEHCIRASIPTS\",\"key\":\"KS-GHS\",\"subkey\":\"0\",\"date\":\"2021-01-27\",\"updated\":1640875843865,\"changeOverTime\":0.006195534137580664,\"marketChangeOverTime\":0.006257036893349594,\"uOpen\":0.33,\"uClose\":0.34,\"uHigh\":0.34,\"uLow\":0.34,\"fOpen\":0.34,\"fClose\":0.35,\"fHigh\":0.33,\"fLow\":0.34,\"label\":\"Jan 27, 21\",\"change\":-0.004051944205480189,\"changePercent\":-0.012},{\"close\":0.33,\"high\":0.33,\"low\":0.34,\"open\":0.33,\"symbol\":\"SHK-GS\",\"volume\":0,\"id\":\"CO_HRICIISRATEPLS\",\"key\":\"HKS-GS\",\"subkey\":\"0\",\"date\":\"2021-01-28\",\"updated\":1659875026250,\"changeOverTime\":0.006394205776961882,\"marketChangeOverTime\":0.0063139388776135294,\"uOpen\":0.34,\"uClose\":0.34,\"uHigh\":0.34,\"uLow\":0.33,\"fOpen\":0.34,\"fClose\":0.33,\"fHigh\":0.34,\"fLow\":0.33,\"label\":\"Jan 28, 21\",\"change\":0,\"changePercent\":0},{\"close\":0.337,\"high\":0.335,\"low\":0.327,\"open\":0.326,\"symbol\":\"SHK-GS\",\"volume\":0,\"id\":\"IHPORRCAIE_SILTCS\",\"key\":\"GKSS-H\",\"subkey\":\"0\",\"date\":\"2021-01-29\",\"updated\":1651231024476,\"changeOverTime\":-0.019087629018847977,\"marketChangeOverTime\":-0.0184308067165148,\"uOpen\":0.333,\"uClose\":0.325,\"uHigh\":0.328,\"uLow\":0.338,\"fOpen\":0.337,\"fClose\":0.322,\"fHigh\":0.33,\"fLow\":0.331,\"label\":\"Jan 29, 21\",\"change\":-0.008343357140627818,\"changePercent\":-0.0252}]'"
      ]
     },
     "execution_count": 59,
     "metadata": {},
     "output_type": "execute_result"
    }
   ],
   "source": [
    "response.content"
   ]
  },
  {
   "cell_type": "code",
   "execution_count": 60,
   "metadata": {},
   "outputs": [
    {
     "name": "stdout",
     "output_type": "stream",
     "text": [
      "[{\"close\":0.331,\"high\":0.329,\"low\":0.341,\"open\":0.335,\"symbol\":\"SHK-GS\",\"volume\":0,\"id\":\"TIAOSL_RSHPRCICIE\",\"key\":\"SHK-GS\",\"subkey\":\"0\",\"date\":\"2021-01-04\",\"updated\":1631305786135,\"changeOverTime\":0,\"marketChangeOverTime\":0,\"uOpen\":0.332,\"uClose\":0.334,\"uHigh\":0.336,\"uLow\":0.343,\"fOpen\":0.338,\"fClose\":0.343,\"fHigh\":0.33,\"fLow\":0.329,\"label\":\"Jan 4, 21\",\"change\":0,\"changePercent\":0},{\"close\":0.33,\"high\":0.33,\"low\":0.343,\"open\":0.342,\"symbol\":\"SHK-GS\",\"volume\":0,\"id\":\"PRSLRCAHICITIOS_E\",\"key\":\"SHKG-S\",\"subkey\":\"0\",\"date\":\"2021-01-05\",\"updated\":1638138968450,\"changeOverTime\":0,\"marketChangeOverTime\":0,\"uOpen\":0.331,\"uClose\":0.332,\"uHigh\":0.34,\"uLow\":0.337,\"fOpen\":0.336,\"fClose\":0.344,\"fHigh\":0.335,\"fLow\":0.342,\"label\":\"Jan 5, 21\",\"change\":0,\"changePercent\":0},{\"close\":0.34,\"high\":0.34,\"low\":0.34,\"open\":0.34,\"symbol\":\"SHK-GS\",\"volume\":0,\"id\":\"HACC_SLRISIPRTEIO\",\"key\":\"SKSH-G\",\"subkey\":\"0\",\"date\":\"2021-01-06\",\"updated\":1684591100349,\"changeOverTime\":0.006257372307745214,\"marketChangeOverTime\":0.0063719954269784865,\"uOpen\":0.34,\"uClose\":0.34,\"uHigh\":0.34,\"uLow\":0.33,\"fOpen\":0.34,\"fClose\":0.34,\"fHigh\":0.35,\"fLow\":0.34,\"label\":\"Jan 6, 21\",\"change\":0.0020747488356945357,\"changePercent\":0.0062},{\"close\":0.338,\"high\":0.338,\"low\":0.347,\"open\":0.344,\"symbol\":\"SHK-GS\",\"volume\":0,\"id\":\"SI_AORISPCLIETCHR\",\"key\":\"GSK-HS\",\"subkey\":\"0\",\"date\":\"2021-01-08\",\"updated\":1669027325517,\"changeOverTime\":0.01263962226388282,\"marketChangeOverTime\":0.012381636693195783,\"uOpen\":0.345,\"uClose\":0.342,\"uHigh\":0.348,\"uLow\":0.342,\"fOpen\":0.346,\"fClose\":0.341,\"fHigh\":0.338,\"fLow\":0.342,\"label\":\"Jan 8, 21\",\"change\":0.0020128200038583566,\"changePercent\":0.0061},{\"close\":0.339,\"high\":0.349,\"low\":0.34,\"open\":0.337,\"symbol\":\"SHK-GS\",\"volume\":0,\"id\":\"OIIH_EPRILCCSTSRA\",\"key\":\"SHK-SG\",\"subkey\":\"0\",\"date\":\"2021-01-11\",\"updated\":1644715366180,\"changeOverTime\":0.02552509848556525,\"marketChangeOverTime\":0.025194961584365173,\"uOpen\":0.338,\"uClose\":0.344,\"uHigh\":0.346,\"uLow\":0.342,\"fOpen\":0.344,\"fClose\":0.341,\"fHigh\":0.351,\"fLow\":0.344,\"label\":\"Jan 11, 21\",\"change\":0.004029945653390864,\"changePercent\":0.012},{\"close\":0.36,\"high\":0.359,\"low\":0.34,\"open\":0.344,\"symbol\":\"SHK-GS\",\"volume\":0,\"id\":\"ISSPRLREAITI_OCHC\",\"key\":\"HGS-KS\",\"subkey\":\"0\",\"date\":\"2021-01-12\",\"updated\":1661606481794,\"changeOverTime\":0.03710011533806411,\"marketChangeOverTime\":0.0379872536181509,\"uOpen\":0.344,\"uClose\":0.34,\"uHigh\":0.358,\"uLow\":0.35,\"fOpen\":0.356,\"fClose\":0.35,\"fHigh\":0.346,\"fLow\":0.35,\"label\":\"Jan 12, 21\",\"change\":0.004073116795950744,\"changePercent\":0.0121},{\"close\":0.346,\"high\":0.34,\"low\":0.342,\"open\":0.354,\"symbol\":\"SHK-GS\",\"volume\":0,\"id\":\"_IRROITIECHASSPLC\",\"key\":\"HKSS-G\",\"subkey\":\"0\",\"date\":\"2021-01-13\",\"updated\":1648572351717,\"changeOverTime\":0.031076971407401052,\"marketChangeOverTime\":0.030554129777157938,\"uOpen\":0.342,\"uClose\":0.351,\"uHigh\":0.339,\"uLow\":0.348,\"fOpen\":0.343,\"fClose\":0.344,\"fHigh\":0.35,\"fLow\":0.351,\"label\":\"Jan 13, 21\",\"change\":-0.002004902641136933,\"changePercent\":-0.0059},{\"close\":0.342,\"high\":0.346,\"low\":0.342,\"open\":0.341,\"symbol\":\"SHK-GS\",\"volume\":0,\"id\":\"CRLI_CSIHPTIRESOA\",\"key\":\"SGK-SH\",\"subkey\":\"0\",\"date\":\"2021-01-14\",\"updated\":1629235295790,\"changeOverTime\":0.03167071285800388,\"marketChangeOverTime\":0.030976312676762055,\"uOpen\":0.352,\"uClose\":0.355,\"uHigh\":0.354,\"uLow\":0.338,\"fOpen\":0.348,\"fClose\":0.339,\"fHigh\":0.344,\"fLow\":0.35,\"label\":\"Jan 14, 21\",\"change\":0,\"changePercent\":0},{\"close\":0.343,\"high\":0.344,\"low\":0.348,\"open\":0.351,\"symbol\":\"SHK-GS\",\"volume\":0,\"id\":\"_ITIORHSEPCISLCRA\",\"key\":\"KHSG-S\",\"subkey\":\"0\",\"date\":\"2021-01-15\",\"updated\":1650574702097,\"changeOverTime\":0.025047769172633412,\"marketChangeOverTime\":0.02547480465298116,\"uOpen\":0.35,\"uClose\":0.343,\"uHigh\":0.348,\"uLow\":0.341,\"fOpen\":0.351,\"fClose\":0.338,\"fHigh\":0.336,\"fLow\":0.343,\"label\":\"Jan 15, 21\",\"change\":-0.0020559734097136623,\"changePercent\":-0.006},{\"close\":0.34,\"high\":0.35,\"low\":0.35,\"open\":0.34,\"symbol\":\"SHK-GS\",\"volume\":0,\"id\":\"CICSIAS_LOETPIHRR\",\"key\":\"HKGSS-\",\"subkey\":\"0\",\"date\":\"2021-01-18\",\"updated\":1621182884986,\"changeOverTime\":0.03782623232631546,\"marketChangeOverTime\":0.03777473608972129,\"uOpen\":0.35,\"uClose\":0.34,\"uHigh\":0.35,\"uLow\":0.36,\"fOpen\":0.35,\"fClose\":0.34,\"fHigh\":0.36,\"fLow\":0.36,\"label\":\"Jan 18, 21\",\"change\":0.004169709774587613,\"changePercent\":0.0123},{\"close\":0.35,\"high\":0.35,\"low\":0.35,\"open\":0.35,\"symbol\":\"SHK-GS\",\"volume\":0,\"id\":\"LPRESC_TCIOSIIRAH\",\"key\":\"GKSS-H\",\"subkey\":\"0\",\"date\":\"2021-01-19\",\"updated\":1645473102005,\"changeOverTime\":0.03799329826179847,\"marketChangeOverTime\":0.03714431921849575,\"uOpen\":0.34,\"uClose\":0.34,\"uHigh\":0.35,\"uLow\":0.34,\"fOpen\":0.35,\"fClose\":0.35,\"fHigh\":0.34,\"fLow\":0.34,\"label\":\"Jan 19, 21\",\"change\":0,\"changePercent\":0},{\"close\":0.345,\"high\":0.353,\"low\":0.347,\"open\":0.35,\"symbol\":\"SHK-GS\",\"volume\":0,\"id\":\"PIRECTHSOARL_ISCI\",\"key\":\"GS-KHS\",\"subkey\":\"0\",\"date\":\"2021-01-20\",\"updated\":1683089354571,\"changeOverTime\":0.03183321611044953,\"marketChangeOverTime\":0.030938891976653577,\"uOpen\":0.351,\"uClose\":0.349,\"uHigh\":0.347,\"uLow\":0.34,\"fOpen\":0.353,\"fClose\":0.346,\"fHigh\":0.351,\"fLow\":0.346,\"label\":\"Jan 20, 21\",\"change\":-0.002042705581608362,\"changePercent\":-0.006},{\"close\":0.355,\"high\":0.345,\"low\":0.339,\"open\":0.343,\"symbol\":\"SHK-GS\",\"volume\":0,\"id\":\"HSPR_TAIIREILCSOC\",\"key\":\"GS-SKH\",\"subkey\":\"0\",\"date\":\"2021-01-21\",\"updated\":1635004932954,\"changeOverTime\":0.03150743076669832,\"marketChangeOverTime\":0.03180163630578298,\"uOpen\":0.343,\"uClose\":0.348,\"uHigh\":0.353,\"uLow\":0.352,\"fOpen\":0.346,\"fClose\":0.347,\"fHigh\":0.348,\"fLow\":0.355,\"label\":\"Jan 21, 21\",\"change\":0,\"changePercent\":0},{\"close\":0.38,\"high\":0.36,\"low\":0.336,\"open\":0.349,\"symbol\":\"SHK-GS\",\"volume\":4101,\"id\":\"RC_ROSIHIAEPSTCLI\",\"key\":\"KGH-SS\",\"subkey\":\"0\",\"date\":\"2021-01-22\",\"updated\":1655470890107,\"changeOverTime\":0.10222293798406624,\"marketChangeOverTime\":0.10159598191761092,\"uOpen\":0.348,\"uClose\":0.37,\"uHigh\":0.38,\"uLow\":0.335,\"uVolume\":4025,\"fOpen\":0.349,\"fClose\":0.38,\"fHigh\":0.36,\"fLow\":0.337,\"fVolume\":4185,\"label\":\"Jan 22, 21\",\"change\":0.02304796663566876,\"changePercent\":0.0652},{\"close\":0.34,\"high\":0.337,\"low\":0.347,\"open\":0.347,\"symbol\":\"SHK-GS\",\"volume\":0,\"id\":\"RPSTICSACREOH_ILI\",\"key\":\"GSHKS-\",\"subkey\":\"0\",\"date\":\"2021-01-25\",\"updated\":1648034144030,\"changeOverTime\":0.018816284628246728,\"marketChangeOverTime\":0.018608425672949225,\"uOpen\":0.349,\"uClose\":0.338,\"uHigh\":0.349,\"uLow\":0.349,\"fOpen\":0.336,\"fClose\":0.347,\"fHigh\":0.336,\"fLow\":0.348,\"label\":\"Jan 25, 21\",\"change\":-0.026787541958325774,\"changePercent\":-0.0745},{\"close\":0.335,\"high\":0.34,\"low\":0.345,\"open\":0.343,\"symbol\":\"SHK-GS\",\"volume\":0,\"id\":\"ICTAPIROHLEIS_SRC\",\"key\":\"SG-HKS\",\"subkey\":\"0\",\"date\":\"2021-01-26\",\"updated\":1644919074366,\"changeOverTime\":0.019189085350306487,\"marketChangeOverTime\":0.018900322575194122,\"uOpen\":0.341,\"uClose\":0.342,\"uHigh\":0.339,\"uLow\":0.347,\"fOpen\":0.344,\"fClose\":0.343,\"fHigh\":0.347,\"fLow\":0.343,\"label\":\"Jan 26, 21\",\"change\":0,\"changePercent\":0},{\"close\":0.34,\"high\":0.34,\"low\":0.33,\"open\":0.34,\"symbol\":\"SHK-GS\",\"volume\":0,\"id\":\"_ICLROEHCIRASIPTS\",\"key\":\"KS-GHS\",\"subkey\":\"0\",\"date\":\"2021-01-27\",\"updated\":1640875843865,\"changeOverTime\":0.006195534137580664,\"marketChangeOverTime\":0.006257036893349594,\"uOpen\":0.33,\"uClose\":0.34,\"uHigh\":0.34,\"uLow\":0.34,\"fOpen\":0.34,\"fClose\":0.35,\"fHigh\":0.33,\"fLow\":0.34,\"label\":\"Jan 27, 21\",\"change\":-0.004051944205480189,\"changePercent\":-0.012},{\"close\":0.33,\"high\":0.33,\"low\":0.34,\"open\":0.33,\"symbol\":\"SHK-GS\",\"volume\":0,\"id\":\"CO_HRICIISRATEPLS\",\"key\":\"HKS-GS\",\"subkey\":\"0\",\"date\":\"2021-01-28\",\"updated\":1659875026250,\"changeOverTime\":0.006394205776961882,\"marketChangeOverTime\":0.0063139388776135294,\"uOpen\":0.34,\"uClose\":0.34,\"uHigh\":0.34,\"uLow\":0.33,\"fOpen\":0.34,\"fClose\":0.33,\"fHigh\":0.34,\"fLow\":0.33,\"label\":\"Jan 28, 21\",\"change\":0,\"changePercent\":0},{\"close\":0.337,\"high\":0.335,\"low\":0.327,\"open\":0.326,\"symbol\":\"SHK-GS\",\"volume\":0,\"id\":\"IHPORRCAIE_SILTCS\",\"key\":\"GKSS-H\",\"subkey\":\"0\",\"date\":\"2021-01-29\",\"updated\":1651231024476,\"changeOverTime\":-0.019087629018847977,\"marketChangeOverTime\":-0.0184308067165148,\"uOpen\":0.333,\"uClose\":0.325,\"uHigh\":0.328,\"uLow\":0.338,\"fOpen\":0.337,\"fClose\":0.322,\"fHigh\":0.33,\"fLow\":0.331,\"label\":\"Jan 29, 21\",\"change\":-0.008343357140627818,\"changePercent\":-0.0252}]\n"
     ]
    }
   ],
   "source": [
    "print(response.text)"
   ]
  },
  {
   "cell_type": "code",
   "execution_count": 61,
   "metadata": {},
   "outputs": [],
   "source": [
    "res_j = response.json()"
   ]
  },
  {
   "cell_type": "code",
   "execution_count": 62,
   "metadata": {},
   "outputs": [
    {
     "data": {
      "text/plain": [
       "dict_keys(['close', 'high', 'low', 'open', 'symbol', 'volume', 'id', 'key', 'subkey', 'date', 'updated', 'changeOverTime', 'marketChangeOverTime', 'uOpen', 'uClose', 'uHigh', 'uLow', 'fOpen', 'fClose', 'fHigh', 'fLow', 'label', 'change', 'changePercent'])"
      ]
     },
     "execution_count": 62,
     "metadata": {},
     "output_type": "execute_result"
    }
   ],
   "source": [
    "res_j[0].keys()"
   ]
  },
  {
   "cell_type": "code",
   "execution_count": 63,
   "metadata": {},
   "outputs": [],
   "source": [
    "data = pd.DataFrame(res_j)"
   ]
  },
  {
   "cell_type": "code",
   "execution_count": 64,
   "metadata": {},
   "outputs": [
    {
     "data": {
      "text/html": [
       "<div>\n",
       "<style scoped>\n",
       "    .dataframe tbody tr th:only-of-type {\n",
       "        vertical-align: middle;\n",
       "    }\n",
       "\n",
       "    .dataframe tbody tr th {\n",
       "        vertical-align: top;\n",
       "    }\n",
       "\n",
       "    .dataframe thead th {\n",
       "        text-align: right;\n",
       "    }\n",
       "</style>\n",
       "<table border=\"1\" class=\"dataframe\">\n",
       "  <thead>\n",
       "    <tr style=\"text-align: right;\">\n",
       "      <th></th>\n",
       "      <th>date</th>\n",
       "      <th>VIXY-MM</th>\n",
       "      <th>SHK-GS</th>\n",
       "    </tr>\n",
       "  </thead>\n",
       "  <tbody>\n",
       "    <tr>\n",
       "      <th>0</th>\n",
       "      <td>2020-12-30</td>\n",
       "      <td>303.87</td>\n",
       "      <td>0.343</td>\n",
       "    </tr>\n",
       "    <tr>\n",
       "      <th>1</th>\n",
       "      <td>2021-01-04</td>\n",
       "      <td>310.23</td>\n",
       "      <td>0.344</td>\n",
       "    </tr>\n",
       "    <tr>\n",
       "      <th>2</th>\n",
       "      <td>2021-01-05</td>\n",
       "      <td>307.73</td>\n",
       "      <td>0.340</td>\n",
       "    </tr>\n",
       "    <tr>\n",
       "      <th>3</th>\n",
       "      <td>2021-01-06</td>\n",
       "      <td>309.65</td>\n",
       "      <td>0.341</td>\n",
       "    </tr>\n",
       "    <tr>\n",
       "      <th>4</th>\n",
       "      <td>2021-01-07</td>\n",
       "      <td>307.83</td>\n",
       "      <td>0.341</td>\n",
       "    </tr>\n",
       "    <tr>\n",
       "      <th>5</th>\n",
       "      <td>2021-01-11</td>\n",
       "      <td>298.51</td>\n",
       "      <td>0.350</td>\n",
       "    </tr>\n",
       "    <tr>\n",
       "      <th>6</th>\n",
       "      <td>2021-01-13</td>\n",
       "      <td>281.15</td>\n",
       "      <td>0.344</td>\n",
       "    </tr>\n",
       "    <tr>\n",
       "      <th>7</th>\n",
       "      <td>2021-01-14</td>\n",
       "      <td>274.21</td>\n",
       "      <td>0.339</td>\n",
       "    </tr>\n",
       "    <tr>\n",
       "      <th>8</th>\n",
       "      <td>2021-01-15</td>\n",
       "      <td>278.41</td>\n",
       "      <td>0.338</td>\n",
       "    </tr>\n",
       "    <tr>\n",
       "      <th>9</th>\n",
       "      <td>2021-01-18</td>\n",
       "      <td>288.97</td>\n",
       "      <td>0.340</td>\n",
       "    </tr>\n",
       "    <tr>\n",
       "      <th>10</th>\n",
       "      <td>2021-01-19</td>\n",
       "      <td>277.80</td>\n",
       "      <td>0.350</td>\n",
       "    </tr>\n",
       "    <tr>\n",
       "      <th>11</th>\n",
       "      <td>2021-01-20</td>\n",
       "      <td>271.00</td>\n",
       "      <td>0.346</td>\n",
       "    </tr>\n",
       "    <tr>\n",
       "      <th>12</th>\n",
       "      <td>2021-01-21</td>\n",
       "      <td>271.00</td>\n",
       "      <td>0.347</td>\n",
       "    </tr>\n",
       "    <tr>\n",
       "      <th>13</th>\n",
       "      <td>2021-01-22</td>\n",
       "      <td>271.00</td>\n",
       "      <td>0.380</td>\n",
       "    </tr>\n",
       "    <tr>\n",
       "      <th>14</th>\n",
       "      <td>2021-01-25</td>\n",
       "      <td>276.08</td>\n",
       "      <td>0.347</td>\n",
       "    </tr>\n",
       "    <tr>\n",
       "      <th>15</th>\n",
       "      <td>2021-01-26</td>\n",
       "      <td>282.80</td>\n",
       "      <td>0.343</td>\n",
       "    </tr>\n",
       "    <tr>\n",
       "      <th>16</th>\n",
       "      <td>2021-01-27</td>\n",
       "      <td>284.24</td>\n",
       "      <td>0.350</td>\n",
       "    </tr>\n",
       "    <tr>\n",
       "      <th>17</th>\n",
       "      <td>2021-01-28</td>\n",
       "      <td>333.00</td>\n",
       "      <td>0.330</td>\n",
       "    </tr>\n",
       "    <tr>\n",
       "      <th>18</th>\n",
       "      <td>2021-01-29</td>\n",
       "      <td>336.80</td>\n",
       "      <td>0.322</td>\n",
       "    </tr>\n",
       "  </tbody>\n",
       "</table>\n",
       "</div>"
      ],
      "text/plain": [
       "          date  VIXY-MM  SHK-GS\n",
       "0   2020-12-30   303.87   0.343\n",
       "1   2021-01-04   310.23   0.344\n",
       "2   2021-01-05   307.73   0.340\n",
       "3   2021-01-06   309.65   0.341\n",
       "4   2021-01-07   307.83   0.341\n",
       "5   2021-01-11   298.51   0.350\n",
       "6   2021-01-13   281.15   0.344\n",
       "7   2021-01-14   274.21   0.339\n",
       "8   2021-01-15   278.41   0.338\n",
       "9   2021-01-18   288.97   0.340\n",
       "10  2021-01-19   277.80   0.350\n",
       "11  2021-01-20   271.00   0.346\n",
       "12  2021-01-21   271.00   0.347\n",
       "13  2021-01-22   271.00   0.380\n",
       "14  2021-01-25   276.08   0.347\n",
       "15  2021-01-26   282.80   0.343\n",
       "16  2021-01-27   284.24   0.350\n",
       "17  2021-01-28   333.00   0.330\n",
       "18  2021-01-29   336.80   0.322"
      ]
     },
     "execution_count": 64,
     "metadata": {},
     "output_type": "execute_result"
    }
   ],
   "source": [
    "data_ca = data.copy()\n",
    "data_ca=  data[['fClose']]\n",
    "data_ca = data_ca.rename(columns={'fClose': f'{suby[1]}'})\n",
    "\n",
    "df_ori= pd.concat([df_new, data_ca], axis=1,)\n",
    "df_ori"
   ]
  },
  {
   "cell_type": "code",
   "execution_count": 65,
   "metadata": {},
   "outputs": [],
   "source": [
    "data1 = data[['date','fClose']]\n",
    "df_new = data1.rename(columns={'fClose': f'{n}'})\n"
   ]
  },
  {
   "cell_type": "code",
   "execution_count": null,
   "metadata": {},
   "outputs": [],
   "source": []
  },
  {
   "cell_type": "code",
   "execution_count": null,
   "metadata": {},
   "outputs": [],
   "source": []
  },
  {
   "cell_type": "code",
   "execution_count": 66,
   "metadata": {},
   "outputs": [],
   "source": [
    "import re\n",
    "import requests\n",
    "from bs4 import BeautifulSoup\n",
    "import time\n",
    "import pandas as pd"
   ]
  },
  {
   "cell_type": "code",
   "execution_count": 67,
   "metadata": {},
   "outputs": [],
   "source": [
    "url = 'https://www.bloomberg.com/quote/NFX:LN'"
   ]
  },
  {
   "cell_type": "code",
   "execution_count": 68,
   "metadata": {},
   "outputs": [],
   "source": [
    "req = requests.get(url)"
   ]
  },
  {
   "cell_type": "code",
   "execution_count": 69,
   "metadata": {},
   "outputs": [
    {
     "data": {
      "text/plain": [
       "<Response [200]>"
      ]
     },
     "execution_count": 69,
     "metadata": {},
     "output_type": "execute_result"
    }
   ],
   "source": [
    "req"
   ]
  },
  {
   "cell_type": "code",
   "execution_count": 70,
   "metadata": {},
   "outputs": [],
   "source": [
    "req_text= req.text"
   ]
  },
  {
   "cell_type": "code",
   "execution_count": 71,
   "metadata": {},
   "outputs": [
    {
     "data": {
      "text/plain": [
       "'<!doctype html>\\n<html>\\n<head>\\n    <title>Bloomberg - Are you a robot?</title>\\n    <meta name=\"viewport\" content=\"width=device-width, initial-scale=1\">\\n    <link rel=\"stylesheet\" type=\"text/css\" href=\"https://assets.bwbx.io/font-service/css/BWHaasGrotesk-55Roman-Web,BWHaasGrotesk-75Bold-Web,BW%20Haas%20Text%20Mono%20A-55%20Roman/font-face.css\">\\n    <style rel=\"stylesheet\" type=\"text/css\">\\n        html, body, div, span, applet, object, iframe,\\n        h1, h2, h3, h4, h5, h6, p, blockquote, pre,\\n        a, abbr, acronym, address, big, cite, code,\\n        del, dfn, em, img, ins, kbd, q, s, samp,\\n        small, strike, strong, sub, sup, tt, var,\\n        b, u, i, center,\\n        dl, dt, dd, ol, ul, li,\\n        fieldset, form, label, legend,\\n        table, caption, tbody, tfoot, thead, tr, th, td,\\n        article, aside, canvas, details, embed,\\n        figure, figcaption, footer, header, hgroup,\\n        menu, nav, output, ruby, section, summary,\\n        time, mark, audio, video {\\n            margin: 0;\\n            padding: 0;\\n            border: 0;\\n            font-size: 100%;\\n            font: inherit;\\n            vertical-align: baseline;\\n        }\\n        /* HTML5 display-role reset for older browsers */\\n        article, aside, details, figcaption, figure,\\n        footer, header, hgroup, menu, nav, section {\\n            display: block;\\n        }\\n        body {\\n            line-height: 1;\\n        }\\n        ol, ul {\\n            list-style: none;\\n        }\\n        blockquote, q {\\n            quotes: none;\\n        }\\n        blockquote:before, blockquote:after,\\n        q:before, q:after {\\n            content: \\'\\';\\n            content: none;\\n        }\\n        table {\\n            border-collapse: collapse;\\n            border-spacing: 0;\\n        }\\n\\n        * {\\n            box-sizing: border-box;\\n        }\\n\\n        body {\\n            background-color: #f2f2f2;\\n            font-family: \"BWHaasGrotesk-55Roman-Web\";\\n            line-height: 1.2;\\n        }\\n\\n        .header {\\n            margin: 0;\\n            height: 60px;\\n            width: 100%;\\n            background-color: black;\\n            color: white;\\n            overflow-x: hidden;\\n        }\\n\\n        .logo {\\n            float: left;\\n            margin: 0 20px;\\n            height: 60px;\\n            width: 140px;\\n            background-image: url(\\'data:image/svg+xml;base64,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\\');\\n            background-repeat: no-repeat;\\n            background-position: center;\\n            font-size: 0;\\n        }\\n\\n        .contact-us {\\n            float: right;\\n            margin: 0 20px;\\n            line-height: 60px;\\n            font-family: \"BWHaasGrotesk-55Roman-Web\";\\n            font-size: 14px;\\n            color: white;\\n            text-decoration: underline;\\n        }\\n\\n        .box {\\n            margin: 30px auto;\\n            padding: 30px;\\n            width: 680px;\\n            background-color: white;\\n        }\\n\\n        @media (max-width:760px) {\\n            .box {\\n                width: calc(100% - 20px);\\n            }\\n        }\\n\\n        .main__heading, .info__heading {\\n            font-family: \"BWHaasGrotesk-75Bold-Web\";\\n        }\\n\\n        .main__heading {\\n            font-size: 19px;\\n            padding-bottom: 9px;\\n        }\\n\\n        .continue {\\n            font-size: 18px;\\n        }\\n\\n        #px-captcha {\\n            margin-top: 20px;\\n            min-height: 80px;\\n        }\\n\\n        .info {\\n            border-top: dotted 1px black;\\n            padding-top: 9px;\\n        }\\n\\n        .info + .info {\\n            margin-top: 30px;\\n        }\\n\\n        .info__link {\\n            color: black;\\n            text-decoration: underline;\\n        }\\n\\n        .info__heading {\\n            font-size: 16px;\\n            line-height: 20px;\\n            padding-bottom: 9px;\\n        }\\n\\n        .info__text {\\n            padding-bottom: 9px;\\n        }\\n\\n        #block_uuid {\\n            display: inline-block;\\n            padding: 6px;\\n            background-color: #f2f2f2;\\n            font-family: \"BW Haas Text Mono A-55 Roman\";\\n            font-size: 14px;\\n        }\\n\\n    </style>\\n    <script>\\n        window._pxAppId = \"PX8FCGYgk4\";\\n        window._pxJsClientSrc = \"/8FCGYgk4/init.js\";\\n        window._pxFirstPartyEnabled = true;\\n        window._pxHostUrl = \"/8FCGYgk4/xhr\";\\n        window._pxreCaptchaTheme = \"light\";\\n        window._pxUuid = qs(\"uuid\");\\n\\n        if(!window._pxUuid) {\\n            window.pxInit = function (px) {\\n                px.Events.one(\"uid\", function (uuid) {\\n                    if (uuid) {\\n                        document.getElementById(\"block_uuid\").innerText = \"Block reference ID: \" + uuid;\\n                    }\\n                });\\n            };\\n        }\\n\\n        function qs(name) {\\n            var search = window.location.search;\\n            var rx = new RegExp(\"[?&]\" + name + \"(=([^&#]*)|&|#|$)\");\\n            var match = rx.exec(search);\\n            return match ? decodeURIComponent(match[2].replace(/\\\\+/g, \" \")) : \"\";\\n        }\\n    </script>\\n    <script src=\"/8FCGYgk4/captcha/captcha.js?a=c&m=0\" async></script>\\n</head>\\n<body>\\n    <header class=\"header\">\\n        <h1 class=\"logo\">Bloomberg</h1>\\n        <a class=\"contact-us\" href=\"/feedback\">Need help? Contact us</a>\\n    </header>\\n    <section class=\"box main\">\\n        <h2 class=\"main__heading\">We\\'ve detected unusual activity from your computer network</h2>\\n        <p class=\"continue\">To continue, please click the box below to let us know you\\'re not a robot.</p>\\n        <div id=\"px-captcha\"></div>\\n    </section>\\n    <section class=\"box\">\\n        <section class=\"info\">\\n            <h3 class=\"info__heading\">Why did this happen?</h3>\\n            <p class=\"info__text\">Please make sure your browser supports JavaScript and cookies and that you are not blocking them from loading. For more information you can review our <a class=\"info__link\" href=\"/notices/tos\">Terms of Service</a> and <a class=\"info__link\" href=\"/notices/tos\">Cookie Policy</a>.</p>\\n        </section>\\n        <section class=\"info\">\\n            <h3 class=\"info__heading\">Need Help?</h3>\\n            <p class=\"info__text\">For inquiries related to this message please <a class=\"info__link\" href=\"/feedback\">contact our support team</a> and provide the reference ID below.</p>\\n            <div id=\"block_uuid\">Block reference ID: </div>\\n        </section>\\n    </section>\\n    <script type=\"text/javascript\">\\n    document.getElementById(\"block_uuid\").innerText = \"Block reference ID: \" + window._pxUuid;\\n    </script>\\n    <!-- Google Tag Manager -->\\n    <script>(function(w, d, s, l, i) {\\n        w[l] = w[l] || [];\\n        w[l].push({ \\'gtm.start\\': new Date().getTime(), event: \\'gtm.js\\' });\\n        var f = d.getElementsByTagName(s)[0], j = d.createElement(s), dl = l != \\'dataLayer\\' ? \\'&l=\\' + l : \\'\\';\\n        j.defer = true;\\n        j.src = \\'https://www.googletagmanager.com/gtm.js?id=\\' + i + dl;\\n        f.parentNode.insertBefore(j, f);\\n    })(window, document, \\'script\\', \\'dataLayer\\', \\'GTM-MNTH5N\\');</script>\\n    <!-- End Google Tag Manager -->\\n</body>\\n</html>\\n'"
      ]
     },
     "execution_count": 71,
     "metadata": {},
     "output_type": "execute_result"
    }
   ],
   "source": [
    "req_text"
   ]
  },
  {
   "cell_type": "code",
   "execution_count": 72,
   "metadata": {},
   "outputs": [
    {
     "data": {
      "text/plain": [
       "<!DOCTYPE html>\n",
       "\n",
       "<html>\n",
       "<head>\n",
       "<title>Bloomberg - Are you a robot?</title>\n",
       "<meta content=\"width=device-width, initial-scale=1\" name=\"viewport\"/>\n",
       "<link href=\"https://assets.bwbx.io/font-service/css/BWHaasGrotesk-55Roman-Web,BWHaasGrotesk-75Bold-Web,BW%20Haas%20Text%20Mono%20A-55%20Roman/font-face.css\" rel=\"stylesheet\" type=\"text/css\"/>\n",
       "<style rel=\"stylesheet\" type=\"text/css\">\n",
       "        html, body, div, span, applet, object, iframe,\n",
       "        h1, h2, h3, h4, h5, h6, p, blockquote, pre,\n",
       "        a, abbr, acronym, address, big, cite, code,\n",
       "        del, dfn, em, img, ins, kbd, q, s, samp,\n",
       "        small, strike, strong, sub, sup, tt, var,\n",
       "        b, u, i, center,\n",
       "        dl, dt, dd, ol, ul, li,\n",
       "        fieldset, form, label, legend,\n",
       "        table, caption, tbody, tfoot, thead, tr, th, td,\n",
       "        article, aside, canvas, details, embed,\n",
       "        figure, figcaption, footer, header, hgroup,\n",
       "        menu, nav, output, ruby, section, summary,\n",
       "        time, mark, audio, video {\n",
       "            margin: 0;\n",
       "            padding: 0;\n",
       "            border: 0;\n",
       "            font-size: 100%;\n",
       "            font: inherit;\n",
       "            vertical-align: baseline;\n",
       "        }\n",
       "        /* HTML5 display-role reset for older browsers */\n",
       "        article, aside, details, figcaption, figure,\n",
       "        footer, header, hgroup, menu, nav, section {\n",
       "            display: block;\n",
       "        }\n",
       "        body {\n",
       "            line-height: 1;\n",
       "        }\n",
       "        ol, ul {\n",
       "            list-style: none;\n",
       "        }\n",
       "        blockquote, q {\n",
       "            quotes: none;\n",
       "        }\n",
       "        blockquote:before, blockquote:after,\n",
       "        q:before, q:after {\n",
       "            content: '';\n",
       "            content: none;\n",
       "        }\n",
       "        table {\n",
       "            border-collapse: collapse;\n",
       "            border-spacing: 0;\n",
       "        }\n",
       "\n",
       "        * {\n",
       "            box-sizing: border-box;\n",
       "        }\n",
       "\n",
       "        body {\n",
       "            background-color: #f2f2f2;\n",
       "            font-family: \"BWHaasGrotesk-55Roman-Web\";\n",
       "            line-height: 1.2;\n",
       "        }\n",
       "\n",
       "        .header {\n",
       "            margin: 0;\n",
       "            height: 60px;\n",
       "            width: 100%;\n",
       "            background-color: black;\n",
       "            color: white;\n",
       "            overflow-x: hidden;\n",
       "        }\n",
       "\n",
       "        .logo {\n",
       "            float: left;\n",
       "            margin: 0 20px;\n",
       "            height: 60px;\n",
       "            width: 140px;\n",
       "            background-image: url('data:image/svg+xml;base64,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');\n",
       "            background-repeat: no-repeat;\n",
       "            background-position: center;\n",
       "            font-size: 0;\n",
       "        }\n",
       "\n",
       "        .contact-us {\n",
       "            float: right;\n",
       "            margin: 0 20px;\n",
       "            line-height: 60px;\n",
       "            font-family: \"BWHaasGrotesk-55Roman-Web\";\n",
       "            font-size: 14px;\n",
       "            color: white;\n",
       "            text-decoration: underline;\n",
       "        }\n",
       "\n",
       "        .box {\n",
       "            margin: 30px auto;\n",
       "            padding: 30px;\n",
       "            width: 680px;\n",
       "            background-color: white;\n",
       "        }\n",
       "\n",
       "        @media (max-width:760px) {\n",
       "            .box {\n",
       "                width: calc(100% - 20px);\n",
       "            }\n",
       "        }\n",
       "\n",
       "        .main__heading, .info__heading {\n",
       "            font-family: \"BWHaasGrotesk-75Bold-Web\";\n",
       "        }\n",
       "\n",
       "        .main__heading {\n",
       "            font-size: 19px;\n",
       "            padding-bottom: 9px;\n",
       "        }\n",
       "\n",
       "        .continue {\n",
       "            font-size: 18px;\n",
       "        }\n",
       "\n",
       "        #px-captcha {\n",
       "            margin-top: 20px;\n",
       "            min-height: 80px;\n",
       "        }\n",
       "\n",
       "        .info {\n",
       "            border-top: dotted 1px black;\n",
       "            padding-top: 9px;\n",
       "        }\n",
       "\n",
       "        .info + .info {\n",
       "            margin-top: 30px;\n",
       "        }\n",
       "\n",
       "        .info__link {\n",
       "            color: black;\n",
       "            text-decoration: underline;\n",
       "        }\n",
       "\n",
       "        .info__heading {\n",
       "            font-size: 16px;\n",
       "            line-height: 20px;\n",
       "            padding-bottom: 9px;\n",
       "        }\n",
       "\n",
       "        .info__text {\n",
       "            padding-bottom: 9px;\n",
       "        }\n",
       "\n",
       "        #block_uuid {\n",
       "            display: inline-block;\n",
       "            padding: 6px;\n",
       "            background-color: #f2f2f2;\n",
       "            font-family: \"BW Haas Text Mono A-55 Roman\";\n",
       "            font-size: 14px;\n",
       "        }\n",
       "\n",
       "    </style>\n",
       "<script>\n",
       "        window._pxAppId = \"PX8FCGYgk4\";\n",
       "        window._pxJsClientSrc = \"/8FCGYgk4/init.js\";\n",
       "        window._pxFirstPartyEnabled = true;\n",
       "        window._pxHostUrl = \"/8FCGYgk4/xhr\";\n",
       "        window._pxreCaptchaTheme = \"light\";\n",
       "        window._pxUuid = qs(\"uuid\");\n",
       "\n",
       "        if(!window._pxUuid) {\n",
       "            window.pxInit = function (px) {\n",
       "                px.Events.one(\"uid\", function (uuid) {\n",
       "                    if (uuid) {\n",
       "                        document.getElementById(\"block_uuid\").innerText = \"Block reference ID: \" + uuid;\n",
       "                    }\n",
       "                });\n",
       "            };\n",
       "        }\n",
       "\n",
       "        function qs(name) {\n",
       "            var search = window.location.search;\n",
       "            var rx = new RegExp(\"[?&]\" + name + \"(=([^&#]*)|&|#|$)\");\n",
       "            var match = rx.exec(search);\n",
       "            return match ? decodeURIComponent(match[2].replace(/\\+/g, \" \")) : \"\";\n",
       "        }\n",
       "    </script>\n",
       "<script async=\"\" src=\"/8FCGYgk4/captcha/captcha.js?a=c&amp;m=0\"></script>\n",
       "</head>\n",
       "<body>\n",
       "<header class=\"header\">\n",
       "<h1 class=\"logo\">Bloomberg</h1>\n",
       "<a class=\"contact-us\" href=\"/feedback\">Need help? Contact us</a>\n",
       "</header>\n",
       "<section class=\"box main\">\n",
       "<h2 class=\"main__heading\">We've detected unusual activity from your computer network</h2>\n",
       "<p class=\"continue\">To continue, please click the box below to let us know you're not a robot.</p>\n",
       "<div id=\"px-captcha\"></div>\n",
       "</section>\n",
       "<section class=\"box\">\n",
       "<section class=\"info\">\n",
       "<h3 class=\"info__heading\">Why did this happen?</h3>\n",
       "<p class=\"info__text\">Please make sure your browser supports JavaScript and cookies and that you are not blocking them from loading. For more information you can review our <a class=\"info__link\" href=\"/notices/tos\">Terms of Service</a> and <a class=\"info__link\" href=\"/notices/tos\">Cookie Policy</a>.</p>\n",
       "</section>\n",
       "<section class=\"info\">\n",
       "<h3 class=\"info__heading\">Need Help?</h3>\n",
       "<p class=\"info__text\">For inquiries related to this message please <a class=\"info__link\" href=\"/feedback\">contact our support team</a> and provide the reference ID below.</p>\n",
       "<div id=\"block_uuid\">Block reference ID: </div>\n",
       "</section>\n",
       "</section>\n",
       "<script type=\"text/javascript\">\n",
       "    document.getElementById(\"block_uuid\").innerText = \"Block reference ID: \" + window._pxUuid;\n",
       "    </script>\n",
       "<!-- Google Tag Manager -->\n",
       "<script>(function(w, d, s, l, i) {\n",
       "        w[l] = w[l] || [];\n",
       "        w[l].push({ 'gtm.start': new Date().getTime(), event: 'gtm.js' });\n",
       "        var f = d.getElementsByTagName(s)[0], j = d.createElement(s), dl = l != 'dataLayer' ? '&l=' + l : '';\n",
       "        j.defer = true;\n",
       "        j.src = 'https://www.googletagmanager.com/gtm.js?id=' + i + dl;\n",
       "        f.parentNode.insertBefore(j, f);\n",
       "    })(window, document, 'script', 'dataLayer', 'GTM-MNTH5N');</script>\n",
       "<!-- End Google Tag Manager -->\n",
       "</body>\n",
       "</html>"
      ]
     },
     "execution_count": 72,
     "metadata": {},
     "output_type": "execute_result"
    }
   ],
   "source": [
    "sopa = BeautifulSoup(req.content, 'html.parser') #xml\n",
    "sopa"
   ]
  },
  {
   "cell_type": "code",
   "execution_count": 73,
   "metadata": {},
   "outputs": [],
   "source": [
    "imagen = sopa.find('img')\n",
    "img = sopa.find('svg', {'class':'largeChart__19929aa3'})"
   ]
  },
  {
   "cell_type": "code",
   "execution_count": null,
   "metadata": {},
   "outputs": [],
   "source": []
  }
 ],
 "metadata": {
  "kernelspec": {
   "display_name": "Python 3",
   "language": "python",
   "name": "python3"
  },
  "language_info": {
   "codemirror_mode": {
    "name": "ipython",
    "version": 3
   },
   "file_extension": ".py",
   "mimetype": "text/x-python",
   "name": "python",
   "nbconvert_exporter": "python",
   "pygments_lexer": "ipython3",
   "version": "3.8.5"
  }
 },
 "nbformat": 4,
 "nbformat_minor": 4
}
