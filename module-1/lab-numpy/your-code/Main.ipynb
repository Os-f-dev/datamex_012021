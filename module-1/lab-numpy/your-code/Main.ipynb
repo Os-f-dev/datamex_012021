{
 "cells": [
  {
   "cell_type": "markdown",
   "metadata": {},
   "source": [
    "## 1. Import the NUMPY package under the name np."
   ]
  },
  {
   "cell_type": "code",
   "execution_count": 1,
   "metadata": {},
   "outputs": [],
   "source": [
    "import numpy as np"
   ]
  },
  {
   "cell_type": "markdown",
   "metadata": {},
   "source": [
    "## 2. Print the NUMPY version and the configuration."
   ]
  },
  {
   "cell_type": "code",
   "execution_count": 2,
   "metadata": {},
   "outputs": [
    {
     "data": {
      "text/plain": [
       "'1.18.5'"
      ]
     },
     "execution_count": 2,
     "metadata": {},
     "output_type": "execute_result"
    }
   ],
   "source": [
    "np.__version__"
   ]
  },
  {
   "cell_type": "code",
   "execution_count": 3,
   "metadata": {},
   "outputs": [
    {
     "name": "stdout",
     "output_type": "stream",
     "text": [
      "blas_mkl_info:\n",
      "    libraries = ['mkl_rt']\n",
      "    library_dirs = ['C:/Users/Mercantil/anaconda3\\\\Library\\\\lib']\n",
      "    define_macros = [('SCIPY_MKL_H', None), ('HAVE_CBLAS', None)]\n",
      "    include_dirs = ['C:\\\\Program Files (x86)\\\\IntelSWTools\\\\compilers_and_libraries_2019.0.117\\\\windows\\\\mkl', 'C:\\\\Program Files (x86)\\\\IntelSWTools\\\\compilers_and_libraries_2019.0.117\\\\windows\\\\mkl\\\\include', 'C:\\\\Program Files (x86)\\\\IntelSWTools\\\\compilers_and_libraries_2019.0.117\\\\windows\\\\mkl\\\\lib', 'C:/Users/Mercantil/anaconda3\\\\Library\\\\include']\n",
      "blas_opt_info:\n",
      "    libraries = ['mkl_rt']\n",
      "    library_dirs = ['C:/Users/Mercantil/anaconda3\\\\Library\\\\lib']\n",
      "    define_macros = [('SCIPY_MKL_H', None), ('HAVE_CBLAS', None)]\n",
      "    include_dirs = ['C:\\\\Program Files (x86)\\\\IntelSWTools\\\\compilers_and_libraries_2019.0.117\\\\windows\\\\mkl', 'C:\\\\Program Files (x86)\\\\IntelSWTools\\\\compilers_and_libraries_2019.0.117\\\\windows\\\\mkl\\\\include', 'C:\\\\Program Files (x86)\\\\IntelSWTools\\\\compilers_and_libraries_2019.0.117\\\\windows\\\\mkl\\\\lib', 'C:/Users/Mercantil/anaconda3\\\\Library\\\\include']\n",
      "lapack_mkl_info:\n",
      "    libraries = ['mkl_rt']\n",
      "    library_dirs = ['C:/Users/Mercantil/anaconda3\\\\Library\\\\lib']\n",
      "    define_macros = [('SCIPY_MKL_H', None), ('HAVE_CBLAS', None)]\n",
      "    include_dirs = ['C:\\\\Program Files (x86)\\\\IntelSWTools\\\\compilers_and_libraries_2019.0.117\\\\windows\\\\mkl', 'C:\\\\Program Files (x86)\\\\IntelSWTools\\\\compilers_and_libraries_2019.0.117\\\\windows\\\\mkl\\\\include', 'C:\\\\Program Files (x86)\\\\IntelSWTools\\\\compilers_and_libraries_2019.0.117\\\\windows\\\\mkl\\\\lib', 'C:/Users/Mercantil/anaconda3\\\\Library\\\\include']\n",
      "lapack_opt_info:\n",
      "    libraries = ['mkl_rt']\n",
      "    library_dirs = ['C:/Users/Mercantil/anaconda3\\\\Library\\\\lib']\n",
      "    define_macros = [('SCIPY_MKL_H', None), ('HAVE_CBLAS', None)]\n",
      "    include_dirs = ['C:\\\\Program Files (x86)\\\\IntelSWTools\\\\compilers_and_libraries_2019.0.117\\\\windows\\\\mkl', 'C:\\\\Program Files (x86)\\\\IntelSWTools\\\\compilers_and_libraries_2019.0.117\\\\windows\\\\mkl\\\\include', 'C:\\\\Program Files (x86)\\\\IntelSWTools\\\\compilers_and_libraries_2019.0.117\\\\windows\\\\mkl\\\\lib', 'C:/Users/Mercantil/anaconda3\\\\Library\\\\include']\n"
     ]
    }
   ],
   "source": [
    "np.show_config()"
   ]
  },
  {
   "cell_type": "markdown",
   "metadata": {},
   "source": [
    "## 3. Generate a 2x3x5 3-dimensional array with random values. Assign the array to variable \"a\"\n",
    "\n",
    "## Challenge: there are at least three easy ways that use numpy to generate random arrays. How many ways can you find?"
   ]
  },
  {
   "cell_type": "code",
   "execution_count": 5,
   "metadata": {},
   "outputs": [],
   "source": [
    "a = np.random.random((2,3,5))"
   ]
  },
  {
   "cell_type": "markdown",
   "metadata": {},
   "source": [
    "## 4. Print a."
   ]
  },
  {
   "cell_type": "code",
   "execution_count": 6,
   "metadata": {},
   "outputs": [
    {
     "name": "stdout",
     "output_type": "stream",
     "text": [
      "[[[0.20976129 0.98922952 0.79532364 0.05359902 0.84062828]\n",
      "  [0.70393953 0.89062011 0.49491715 0.83886076 0.66737558]\n",
      "  [0.83710767 0.56593365 0.79836452 0.19985396 0.37920097]]\n",
      "\n",
      " [[0.53473062 0.21962644 0.5225848  0.64101904 0.9936683 ]\n",
      "  [0.63791131 0.10726594 0.16005253 0.92219557 0.9620372 ]\n",
      "  [0.72056202 0.34953024 0.35734773 0.06636382 0.01312549]]]\n"
     ]
    }
   ],
   "source": [
    "print(a)"
   ]
  },
  {
   "cell_type": "markdown",
   "metadata": {},
   "source": [
    "## 5. Create a 5x2x3 3-dimensional array with all values equaling 1.\n",
    "## Assign the array to variable \"b\""
   ]
  },
  {
   "cell_type": "code",
   "execution_count": 30,
   "metadata": {},
   "outputs": [],
   "source": [
    "b = np.random.random((5,3,2))"
   ]
  },
  {
   "cell_type": "markdown",
   "metadata": {},
   "source": [
    "## 6. Print b."
   ]
  },
  {
   "cell_type": "code",
   "execution_count": 31,
   "metadata": {},
   "outputs": [
    {
     "name": "stdout",
     "output_type": "stream",
     "text": [
      "[[[0.71531427 0.32420646]\n",
      "  [0.54538628 0.37277345]\n",
      "  [0.70109268 0.58720299]]\n",
      "\n",
      " [[0.66883222 0.95507506]\n",
      "  [0.79726152 0.21038635]\n",
      "  [0.67642649 0.07027667]]\n",
      "\n",
      " [[0.23881473 0.85812923]\n",
      "  [0.65102743 0.85967929]\n",
      "  [0.53225845 0.9666941 ]]\n",
      "\n",
      " [[0.9648159  0.11232106]\n",
      "  [0.05693907 0.02730735]\n",
      "  [0.11127478 0.55728146]]\n",
      "\n",
      " [[0.79921891 0.37591721]\n",
      "  [0.760047   0.83289893]\n",
      "  [0.52783671 0.97349083]]]\n"
     ]
    }
   ],
   "source": [
    "print(b)"
   ]
  },
  {
   "cell_type": "markdown",
   "metadata": {},
   "source": [
    "## 7. Do a and b have the same size? How do you prove that in Python code?"
   ]
  },
  {
   "cell_type": "code",
   "execution_count": 32,
   "metadata": {},
   "outputs": [
    {
     "name": "stdout",
     "output_type": "stream",
     "text": [
      "30\n",
      "30\n"
     ]
    }
   ],
   "source": [
    "print(a.size)\n",
    "print(b.size)"
   ]
  },
  {
   "cell_type": "markdown",
   "metadata": {},
   "source": [
    "## 8. Are you able to add a and b? Why or why not?"
   ]
  },
  {
   "cell_type": "code",
   "execution_count": 33,
   "metadata": {},
   "outputs": [
    {
     "ename": "ValueError",
     "evalue": "operands could not be broadcast together with shapes (2,3,5) (5,3,2) ",
     "output_type": "error",
     "traceback": [
      "\u001b[1;31m---------------------------------------------------------------------------\u001b[0m",
      "\u001b[1;31mValueError\u001b[0m                                Traceback (most recent call last)",
      "\u001b[1;32m<ipython-input-33-c31925ac01ba>\u001b[0m in \u001b[0;36m<module>\u001b[1;34m\u001b[0m\n\u001b[1;32m----> 1\u001b[1;33m \u001b[0ma\u001b[0m \u001b[1;33m+\u001b[0m \u001b[0mb\u001b[0m\u001b[1;33m\u001b[0m\u001b[1;33m\u001b[0m\u001b[0m\n\u001b[0m\u001b[0;32m      2\u001b[0m \u001b[1;31m#no se pueden sumar por la diferencia de sus dimensiones\u001b[0m\u001b[1;33m\u001b[0m\u001b[1;33m\u001b[0m\u001b[1;33m\u001b[0m\u001b[0m\n",
      "\u001b[1;31mValueError\u001b[0m: operands could not be broadcast together with shapes (2,3,5) (5,3,2) "
     ]
    }
   ],
   "source": [
    "a + b\n",
    "#no se pueden sumar por la diferencia de sus dimensiones"
   ]
  },
  {
   "cell_type": "markdown",
   "metadata": {},
   "source": [
    "## 9. Transpose b so that it has the same structure of a (i.e. become a 2x3x5 array). Assign the transposed array to varialbe \"c\".\n"
   ]
  },
  {
   "cell_type": "code",
   "execution_count": 34,
   "metadata": {},
   "outputs": [
    {
     "data": {
      "text/plain": [
       "(2, 3, 5)"
      ]
     },
     "execution_count": 34,
     "metadata": {},
     "output_type": "execute_result"
    }
   ],
   "source": [
    "c = np.transpose(b)\n",
    "np.transpose(b).shape\n"
   ]
  },
  {
   "cell_type": "markdown",
   "metadata": {},
   "source": [
    "## 10. Try to add a and c. Now it should work. Assign the sum to varialbe \"d\". But why does it work now?\n"
   ]
  },
  {
   "cell_type": "code",
   "execution_count": 53,
   "metadata": {},
   "outputs": [],
   "source": [
    "d = np.add(a, c)\n",
    "# funciona porque los arrays tienen las mismas dimensiones"
   ]
  },
  {
   "cell_type": "markdown",
   "metadata": {},
   "source": [
    "## 11. Print a and d. Notice the difference and relation of the two array in terms of the values? Explain.\n"
   ]
  },
  {
   "cell_type": "code",
   "execution_count": 41,
   "metadata": {},
   "outputs": [
    {
     "name": "stdout",
     "output_type": "stream",
     "text": [
      "[[[0.20976129 0.98922952 0.79532364 0.05359902 0.84062828]\n",
      "  [0.70393953 0.89062011 0.49491715 0.83886076 0.66737558]\n",
      "  [0.83710767 0.56593365 0.79836452 0.19985396 0.37920097]]\n",
      "\n",
      " [[0.53473062 0.21962644 0.5225848  0.64101904 0.9936683 ]\n",
      "  [0.63791131 0.10726594 0.16005253 0.92219557 0.9620372 ]\n",
      "  [0.72056202 0.34953024 0.35734773 0.06636382 0.01312549]]]\n"
     ]
    }
   ],
   "source": [
    "print(a)"
   ]
  },
  {
   "cell_type": "code",
   "execution_count": 39,
   "metadata": {},
   "outputs": [
    {
     "name": "stdout",
     "output_type": "stream",
     "text": [
      "[[[0.92507557 1.65806174 1.03413837 1.01841492 1.63984719]\n",
      "  [1.24932581 1.68788164 1.14594458 0.89579984 1.42742258]\n",
      "  [1.53820035 1.24236014 1.33062297 0.31112874 0.90703768]]\n",
      "\n",
      " [[0.85893708 1.17470149 1.38071403 0.7533401  1.36958551]\n",
      "  [1.01068476 0.3176523  1.01973182 0.94950292 1.79493613]\n",
      "  [1.30776501 0.41980691 1.32404183 0.62364528 0.98661632]]]\n"
     ]
    }
   ],
   "source": [
    "print(d)\n",
    "#la diferencia es que la mayoria de los valores de D es mayor a"
   ]
  },
  {
   "cell_type": "markdown",
   "metadata": {},
   "source": [
    "## 12. Multiply a and c. Assign the result to e."
   ]
  },
  {
   "cell_type": "code",
   "execution_count": 59,
   "metadata": {},
   "outputs": [],
   "source": [
    "e = np.multiply(a, c)"
   ]
  },
  {
   "cell_type": "markdown",
   "metadata": {},
   "source": [
    "## 13. Does e equal to a? Why or why not?"
   ]
  },
  {
   "cell_type": "code",
   "execution_count": 60,
   "metadata": {},
   "outputs": [
    {
     "name": "stdout",
     "output_type": "stream",
     "text": [
      "[[[0.15004525 0.66162858 0.189935   0.05171319 0.67184602]\n",
      "  [0.38391896 0.71005715 0.32220464 0.04776395 0.50723681]\n",
      "  [0.58689006 0.38281251 0.42493626 0.02223871 0.20015619]]\n",
      "\n",
      " [[0.17336312 0.20975973 0.44844529 0.07199994 0.37353701]\n",
      "  [0.2377964  0.02256729 0.13759385 0.02518272 0.80127975]\n",
      "  [0.42311617 0.02456382 0.34544594 0.03698333 0.01277754]]]\n"
     ]
    }
   ],
   "source": [
    "print(e)"
   ]
  },
  {
   "cell_type": "code",
   "execution_count": 81,
   "metadata": {},
   "outputs": [
    {
     "name": "stdout",
     "output_type": "stream",
     "text": [
      "[[[0.20976129 0.98922952 0.79532364 0.05359902 0.84062828]\n",
      "  [0.70393953 0.89062011 0.49491715 0.83886076 0.66737558]\n",
      "  [0.83710767 0.56593365 0.79836452 0.19985396 0.37920097]]\n",
      "\n",
      " [[0.53473062 0.21962644 0.5225848  0.64101904 0.9936683 ]\n",
      "  [0.63791131 0.10726594 0.16005253 0.92219557 0.9620372 ]\n",
      "  [0.72056202 0.34953024 0.35734773 0.06636382 0.01312549]]]\n"
     ]
    }
   ],
   "source": [
    "print(a)"
   ]
  },
  {
   "cell_type": "markdown",
   "metadata": {},
   "source": [
    "## 14. Identify the max, min, and mean values in d. Assign those values to variables \"d_max\", \"d_min\", and \"d_mean\"\n"
   ]
  },
  {
   "cell_type": "code",
   "execution_count": 58,
   "metadata": {},
   "outputs": [],
   "source": [
    "d_max = np.max(d)\n",
    "d_min = np.min(d)\n",
    "d_mean = np.mean(d)"
   ]
  },
  {
   "cell_type": "markdown",
   "metadata": {},
   "source": [
    "## 15. Now we want to label the values in d. First create an empty array \"f\" with the same shape (i.e. 2x3x5) as d using `np.empty`."
   ]
  },
  {
   "cell_type": "code",
   "execution_count": 61,
   "metadata": {},
   "outputs": [],
   "source": [
    "f = np.empty((2,3,5))"
   ]
  },
  {
   "cell_type": "markdown",
   "metadata": {},
   "source": [
    "\n",
    "## 16. Populate the values in f. For each value in d, if it's larger than d_min but smaller than d_mean, assign 25 to the corresponding value in f.\n",
    "## If a value in d is larger than d_mean but smaller than d_max, assign 75 to the corresponding value in f.\n",
    "## If a value equals to d_mean, assign 50 to the corresponding value in f.\n",
    "## Assign 0 to the corresponding value(s) in f for d_min in d.\n",
    "## Assign 100 to the corresponding value(s) in f for d_max in d.\n",
    "## In the end, f should have only the following values: 0, 25, 50, 75, and 100.\n",
    "Note: you don't have to use Numpy in this question.\n"
   ]
  },
  {
   "cell_type": "code",
   "execution_count": 69,
   "metadata": {},
   "outputs": [],
   "source": [
    "xc = 0\n",
    "yc = 0\n",
    "ic = 0\n",
    "for x in d:\n",
    "    for y in x:\n",
    "        for i in y:\n",
    "            if i > d_min and i < d_mean:\n",
    "                f[xc][yc][ic] = 25\n",
    "            elif i > d_mean and i < d_max:\n",
    "                f[xc][yc][ic] = 75\n",
    "            elif i == d_mean:\n",
    "                f[xc][yc][ic] = 50\n",
    "            elif i == d_min:\n",
    "                f[xc][yc][ic] = 0\n",
    "            elif i == d_max:\n",
    "                f[xc][yc][ic] = 100\n",
    "            ic+=1\n",
    "        ic=0\n",
    "        yc+=1\n",
    "    ic=0\n",
    "    yc=0\n",
    "    xc+=1"
   ]
  },
  {
   "cell_type": "markdown",
   "metadata": {},
   "source": [
    "\n",
    "## 17. Print d and f. Do you have your expected f?\n",
    "For instance, if your d is:\n",
    "   array([[[1.85836099, 1.67064465, 1.62576044, 1.40243961, 1.88454931],\n",
    "        [1.75354326, 1.69403643, 1.36729252, 1.61415071, 1.12104981],\n",
    "        [1.72201435, 1.1862918 , 1.87078449, 1.7726778 , 1.88180042]],\n",
    "\n",
    "       [[1.44747908, 1.31673383, 1.02000951, 1.52218947, 1.97066381],\n",
    "        [1.79129243, 1.74983003, 1.96028037, 1.85166831, 1.65450881],\n",
    "        [1.18068344, 1.9587381 , 1.00656599, 1.93402165, 1.73514584]]])\n",
    "\n",
    "Your f should be:\n",
    "array([[[ 75.,  75.,  75.,  25.,  75.],\n",
    "        [ 75.,  75.,  25.,  25.,  25.],\n",
    "        [ 75.,  25.,  75.,  75.,  75.]],\n",
    "\n",
    "       [[ 25.,  25.,  25.,  25., 100.],\n",
    "        [ 75.,  75.,  75.,  75.,  75.],\n",
    "        [ 25.,  75.,   0.,  75.,  75.]]])\n"
   ]
  },
  {
   "cell_type": "code",
   "execution_count": 70,
   "metadata": {},
   "outputs": [
    {
     "name": "stdout",
     "output_type": "stream",
     "text": [
      "[[[ 25.  75.  25.  25.  75.]\n",
      "  [ 75.  75.  75.  25.  75.]\n",
      "  [ 75.  75.  75.   0.  25.]]\n",
      "\n",
      " [[ 25.  75.  75.  25.  75.]\n",
      "  [ 25.  25.  25.  25. 100.]\n",
      "  [ 75.  25.  75.  25.  25.]]]\n"
     ]
    }
   ],
   "source": [
    "print(f)"
   ]
  },
  {
   "cell_type": "markdown",
   "metadata": {},
   "source": [
    "\n",
    "## 18. Bonus question: instead of using numbers (i.e. 0, 25, 50, 75, and 100), how to use string values \n",
    "(\"A\", \"B\", \"C\", \"D\", and \"E\") to label the array elements? You are expecting the result to be:\n",
    "array([[[ 'D',  'D',  'D',  'B',  'D'],\n",
    "        [ 'D',  'D',  'B',  'B',  'B'],\n",
    "        [ 'D',  'B',  'D',  'D',  'D']],\n",
    "\n",
    "       [[ 'B',  'B',  'B',  'B',  'E'],\n",
    "        [ 'D',  'D',  'D',  'D',  'D'],\n",
    "        [ 'B',  'D',   'A',  'D', 'D']]])\n",
    "Again, you don't need Numpy in this question.\n"
   ]
  },
  {
   "cell_type": "code",
   "execution_count": 87,
   "metadata": {},
   "outputs": [
    {
     "name": "stdout",
     "output_type": "stream",
     "text": [
      "[[['B' 'D' 'B' 'B' 'D']\n",
      "  ['D' 'D' 'D' 'B' 'D']\n",
      "  ['D' 'D' 'D' 'A' 'B']]\n",
      "\n",
      " [['B' 'D' 'D' 'B' 'D']\n",
      "  ['B' 'B' 'B' 'B' 'E']\n",
      "  ['D' 'B' 'D' 'B' 'B']]]\n"
     ]
    }
   ],
   "source": [
    "xc = 0\n",
    "yc = 0\n",
    "ic = 0\n",
    "fstr = np.empty((2,3,5), dtype=str)\n",
    "for x in d:\n",
    "    for y in x:\n",
    "        for i in y:\n",
    "            if i > d_min and i < d_mean:\n",
    "                fstr[xc][yc][ic] = \"B\"\n",
    "            elif i > d_mean and i < d_max:\n",
    "                fstr[xc][yc][ic] = \"D\"\n",
    "            elif i == d_mean:\n",
    "                fstr[xc][yc][ic] = \"C\"\n",
    "            elif i == d_min:\n",
    "                fstr[xc][yc][ic] = \"A\"\n",
    "            elif i == d_max:\n",
    "                fstr[xc][yc][ic] = \"E\"\n",
    "            ic+=1\n",
    "        ic=0\n",
    "        yc+=1\n",
    "    ic=0\n",
    "    yc=0\n",
    "    xc+=1\n",
    "print(fstr)"
   ]
  }
 ],
 "metadata": {
  "kernelspec": {
   "display_name": "Python 3",
   "language": "python",
   "name": "python3"
  },
  "language_info": {
   "codemirror_mode": {
    "name": "ipython",
    "version": 3
   },
   "file_extension": ".py",
   "mimetype": "text/x-python",
   "name": "python",
   "nbconvert_exporter": "python",
   "pygments_lexer": "ipython3",
   "version": "3.8.3"
  }
 },
 "nbformat": 4,
 "nbformat_minor": 4
}
