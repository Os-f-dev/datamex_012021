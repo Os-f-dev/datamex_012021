{
 "cells": [
  {
   "cell_type": "code",
   "execution_count": 1,
   "metadata": {},
   "outputs": [],
   "source": [
    "#1\n",
    "import numpy as np"
   ]
  },
  {
   "cell_type": "code",
   "execution_count": 2,
   "metadata": {},
   "outputs": [
    {
     "name": "stdout",
     "output_type": "stream",
     "text": [
      "<module 'numpy.version' from 'C:\\\\Users\\\\Mercantil\\\\anaconda3\\\\lib\\\\site-packages\\\\numpy\\\\version.py'>\n",
      "blas_mkl_info:\n",
      "    libraries = ['mkl_rt']\n",
      "    library_dirs = ['C:/Users/Mercantil/anaconda3\\\\Library\\\\lib']\n",
      "    define_macros = [('SCIPY_MKL_H', None), ('HAVE_CBLAS', None)]\n",
      "    include_dirs = ['C:/Users/Mercantil/anaconda3\\\\Library\\\\include']\n",
      "blas_opt_info:\n",
      "    libraries = ['mkl_rt']\n",
      "    library_dirs = ['C:/Users/Mercantil/anaconda3\\\\Library\\\\lib']\n",
      "    define_macros = [('SCIPY_MKL_H', None), ('HAVE_CBLAS', None)]\n",
      "    include_dirs = ['C:/Users/Mercantil/anaconda3\\\\Library\\\\include']\n",
      "lapack_mkl_info:\n",
      "    libraries = ['mkl_rt']\n",
      "    library_dirs = ['C:/Users/Mercantil/anaconda3\\\\Library\\\\lib']\n",
      "    define_macros = [('SCIPY_MKL_H', None), ('HAVE_CBLAS', None)]\n",
      "    include_dirs = ['C:/Users/Mercantil/anaconda3\\\\Library\\\\include']\n",
      "lapack_opt_info:\n",
      "    libraries = ['mkl_rt']\n",
      "    library_dirs = ['C:/Users/Mercantil/anaconda3\\\\Library\\\\lib']\n",
      "    define_macros = [('SCIPY_MKL_H', None), ('HAVE_CBLAS', None)]\n",
      "    include_dirs = ['C:/Users/Mercantil/anaconda3\\\\Library\\\\include']\n",
      "None\n"
     ]
    }
   ],
   "source": [
    "#2\n",
    "print(np.version)\n",
    "print(np.show_config())"
   ]
  },
  {
   "cell_type": "code",
   "execution_count": 3,
   "metadata": {},
   "outputs": [],
   "source": [
    "#3\n",
    "a = np.random.random((2,3,5))"
   ]
  },
  {
   "cell_type": "code",
   "execution_count": 4,
   "metadata": {},
   "outputs": [
    {
     "name": "stdout",
     "output_type": "stream",
     "text": [
      "[[[0.62175307 0.70250791 0.94447289 0.05256955 0.9717233 ]\n",
      "  [0.00547325 0.77335789 0.64606898 0.28281538 0.95806249]\n",
      "  [0.1962534  0.70985146 0.95905522 0.90226583 0.78319686]]\n",
      "\n",
      " [[0.95393549 0.61984797 0.78338206 0.01270616 0.58869454]\n",
      "  [0.10957848 0.76927911 0.86671159 0.45167796 0.49028887]\n",
      "  [0.20637975 0.40546419 0.53869626 0.38734078 0.86004463]]]\n"
     ]
    }
   ],
   "source": [
    "#4\n",
    "print(a)"
   ]
  },
  {
   "cell_type": "code",
   "execution_count": 5,
   "metadata": {},
   "outputs": [],
   "source": [
    "#5\n",
    "b = np.ones((5,3,2))"
   ]
  },
  {
   "cell_type": "code",
   "execution_count": 6,
   "metadata": {},
   "outputs": [
    {
     "name": "stdout",
     "output_type": "stream",
     "text": [
      "[[[1. 1.]\n",
      "  [1. 1.]\n",
      "  [1. 1.]]\n",
      "\n",
      " [[1. 1.]\n",
      "  [1. 1.]\n",
      "  [1. 1.]]\n",
      "\n",
      " [[1. 1.]\n",
      "  [1. 1.]\n",
      "  [1. 1.]]\n",
      "\n",
      " [[1. 1.]\n",
      "  [1. 1.]\n",
      "  [1. 1.]]\n",
      "\n",
      " [[1. 1.]\n",
      "  [1. 1.]\n",
      "  [1. 1.]]]\n"
     ]
    }
   ],
   "source": [
    "#6\n",
    "print(b)"
   ]
  },
  {
   "cell_type": "code",
   "execution_count": 7,
   "metadata": {},
   "outputs": [
    {
     "data": {
      "text/plain": [
       "False"
      ]
     },
     "execution_count": 7,
     "metadata": {},
     "output_type": "execute_result"
    }
   ],
   "source": [
    "#7\n",
    "np.array_equal(a,b)"
   ]
  },
  {
   "cell_type": "code",
   "execution_count": 8,
   "metadata": {},
   "outputs": [],
   "source": [
    "#8\n",
    "#No se puede agregar ya que la estructura de los arrays son distintas. 5 cajas, 2 filas y 3 columnas vs 2 cajas 3 filas y 5 columnas\n"
   ]
  },
  {
   "cell_type": "code",
   "execution_count": 9,
   "metadata": {},
   "outputs": [
    {
     "data": {
      "text/plain": [
       "array([[[1., 1., 1., 1., 1.],\n",
       "        [1., 1., 1., 1., 1.],\n",
       "        [1., 1., 1., 1., 1.]],\n",
       "\n",
       "       [[1., 1., 1., 1., 1.],\n",
       "        [1., 1., 1., 1., 1.],\n",
       "        [1., 1., 1., 1., 1.]]])"
      ]
     },
     "execution_count": 9,
     "metadata": {},
     "output_type": "execute_result"
    }
   ],
   "source": [
    "#9\n",
    "c = np.transpose(b)\n",
    "c"
   ]
  },
  {
   "cell_type": "code",
   "execution_count": 31,
   "metadata": {},
   "outputs": [],
   "source": [
    "#10 \n",
    "#Funciona porque ahora si son dos arreglos con las mismas dimensiones\n",
    "d = np.concatenate((a, c), axis=0)"
   ]
  },
  {
   "cell_type": "code",
   "execution_count": 32,
   "metadata": {},
   "outputs": [
    {
     "name": "stdout",
     "output_type": "stream",
     "text": [
      "[[[0.62175307 0.70250791 0.94447289 0.05256955 0.9717233 ]\n",
      "  [0.00547325 0.77335789 0.64606898 0.28281538 0.95806249]\n",
      "  [0.1962534  0.70985146 0.95905522 0.90226583 0.78319686]]\n",
      "\n",
      " [[0.95393549 0.61984797 0.78338206 0.01270616 0.58869454]\n",
      "  [0.10957848 0.76927911 0.86671159 0.45167796 0.49028887]\n",
      "  [0.20637975 0.40546419 0.53869626 0.38734078 0.86004463]]]\n",
      "[[[0.62175307 0.70250791 0.94447289 0.05256955 0.9717233 ]\n",
      "  [0.00547325 0.77335789 0.64606898 0.28281538 0.95806249]\n",
      "  [0.1962534  0.70985146 0.95905522 0.90226583 0.78319686]]\n",
      "\n",
      " [[0.95393549 0.61984797 0.78338206 0.01270616 0.58869454]\n",
      "  [0.10957848 0.76927911 0.86671159 0.45167796 0.49028887]\n",
      "  [0.20637975 0.40546419 0.53869626 0.38734078 0.86004463]]\n",
      "\n",
      " [[1.         1.         1.         1.         1.        ]\n",
      "  [1.         1.         1.         1.         1.        ]\n",
      "  [1.         1.         1.         1.         1.        ]]\n",
      "\n",
      " [[1.         1.         1.         1.         1.        ]\n",
      "  [1.         1.         1.         1.         1.        ]\n",
      "  [1.         1.         1.         1.         1.        ]]]\n"
     ]
    }
   ],
   "source": [
    "#11\n",
    "print(a)\n",
    "print(d)"
   ]
  },
  {
   "cell_type": "code",
   "execution_count": 30,
   "metadata": {},
   "outputs": [
    {
     "name": "stdout",
     "output_type": "stream",
     "text": [
      "[[[0.62175307 0.70250791 0.94447289 0.05256955 0.9717233 ]\n",
      "  [0.00547325 0.77335789 0.64606898 0.28281538 0.95806249]\n",
      "  [0.1962534  0.70985146 0.95905522 0.90226583 0.78319686]]\n",
      "\n",
      " [[0.95393549 0.61984797 0.78338206 0.01270616 0.58869454]\n",
      "  [0.10957848 0.76927911 0.86671159 0.45167796 0.49028887]\n",
      "  [0.20637975 0.40546419 0.53869626 0.38734078 0.86004463]]]\n"
     ]
    }
   ],
   "source": [
    "#12\n",
    "e = np.multiply(a,c)\n",
    "print(e)\n"
   ]
  },
  {
   "cell_type": "code",
   "execution_count": 15,
   "metadata": {},
   "outputs": [],
   "source": [
    "#13 es igual porque se está multiplicando por 1\n"
   ]
  },
  {
   "cell_type": "code",
   "execution_count": 18,
   "metadata": {},
   "outputs": [
    {
     "name": "stdout",
     "output_type": "stream",
     "text": [
      "Valos Max: 0.9717233039906976  Valor Min: 0.005473250247454153  Valor Mean: 0.5851151781714405\n"
     ]
    }
   ],
   "source": [
    "#14\n",
    "d_max= np.max(e)\n",
    "d_min = np.min(e)\n",
    "d_mean = np.mean(e)\n",
    "print(\"Valos Max: \" +str(d_max)+ \"  Valor Min: \" + str(d_min)+ \"  Valor Mean: \" + str(d_mean))"
   ]
  },
  {
   "cell_type": "code",
   "execution_count": 21,
   "metadata": {},
   "outputs": [],
   "source": [
    "#15\n",
    "f = np.empty([2,3,5])\n"
   ]
  },
  {
   "cell_type": "code",
   "execution_count": 28,
   "metadata": {},
   "outputs": [],
   "source": [
    "#16\n",
    "\n",
    "for i in range(d.shape[ 0 ]):\n",
    "    for j in range(d.shape[ 1 ]):\n",
    "        for k in range( d.shape[ 2 ]):\n",
    "            if ((d[i,j,k]> d_min) and (d[i,j,k] < d_mean)):  \n",
    "                f[i,j,k] = 25\n",
    "            if ((d[i,j,k] > d_mean) and (d[i,j,k]< d_max)):\n",
    "                f[i,j,k] = 75\n",
    "            if (d[i,j,k] == d_mean):\n",
    "                f[i,j,k] = 50\n",
    "            if  (d[i,j,k] ==  d_min):\n",
    "                f[i,j,k] = 0\n",
    "            if (d[i,j,k]==  d_max):\n",
    "                f[i,j,k] = 100\n"
   ]
  },
  {
   "cell_type": "code",
   "execution_count": 29,
   "metadata": {},
   "outputs": [
    {
     "name": "stdout",
     "output_type": "stream",
     "text": [
      "[[[0.62175307 0.70250791 0.94447289 0.05256955 0.9717233 ]\n",
      "  [0.00547325 0.77335789 0.64606898 0.28281538 0.95806249]\n",
      "  [0.1962534  0.70985146 0.95905522 0.90226583 0.78319686]]\n",
      "\n",
      " [[0.95393549 0.61984797 0.78338206 0.01270616 0.58869454]\n",
      "  [0.10957848 0.76927911 0.86671159 0.45167796 0.49028887]\n",
      "  [0.20637975 0.40546419 0.53869626 0.38734078 0.86004463]]\n",
      "\n",
      " [[1.         1.         1.         1.         1.        ]\n",
      "  [1.         1.         1.         1.         1.        ]\n",
      "  [1.         1.         1.         1.         1.        ]]\n",
      "\n",
      " [[1.         1.         1.         1.         1.        ]\n",
      "  [1.         1.         1.         1.         1.        ]\n",
      "  [1.         1.         1.         1.         1.        ]]]\n",
      "[[[ 75.  75.  75.  25. 100.]\n",
      "  [  0.  75.  75.  25.  75.]\n",
      "  [ 25.  75.  75.  75.  75.]]\n",
      "\n",
      " [[ 75.  75.  75.  25.  75.]\n",
      "  [ 25.  75.  75.  25.  25.]\n",
      "  [ 25.  25.  25.  25.  75.]]]\n"
     ]
    }
   ],
   "source": [
    "#17\n",
    "print(d)\n",
    "print(f)"
   ]
  },
  {
   "cell_type": "code",
   "execution_count": 38,
   "metadata": {},
   "outputs": [
    {
     "ename": "SyntaxError",
     "evalue": "cannot assign to function call (<ipython-input-38-b834e7c31776>, line 5)",
     "output_type": "error",
     "traceback": [
      "\u001b[1;36m  File \u001b[1;32m\"<ipython-input-38-b834e7c31776>\"\u001b[1;36m, line \u001b[1;32m5\u001b[0m\n\u001b[1;33m    str(f[i,j,k]) = str('A')\u001b[0m\n\u001b[1;37m    ^\u001b[0m\n\u001b[1;31mSyntaxError\u001b[0m\u001b[1;31m:\u001b[0m cannot assign to function call\n"
     ]
    }
   ],
   "source": [
    "for i in range(d.shape[ 0 ]):\n",
    "    for j in range(d.shape[ 1 ]):\n",
    "        for k in range( d.shape[ 2 ]):\n",
    "            if ((d[i,j,k]> d_min) and (d[i,j,k] < d_mean)):  \n",
    "                f[i,j,k] = str('A')\n",
    "            if ((d[i,j,k] > d_mean) and (d[i,j,k]< d_max)):\n",
    "                f[i,j,k] = str('B')\n",
    "            if (d[i,j,k] == d_mean):\n",
    "                f[i,j,k] = str('C')\n",
    "            if  (d[i,j,k] ==  d_min):\n",
    "                f[i,j,k] = str('D')\n",
    "            if (d[i,j,k]==  d_max):\n",
    "                f[i,j,k]= str('E')\n",
    "                \n",
    "print(f)"
   ]
  },
  {
   "cell_type": "code",
   "execution_count": null,
   "metadata": {},
   "outputs": [],
   "source": []
  }
 ],
 "metadata": {
  "kernelspec": {
   "display_name": "Python 3",
   "language": "python",
   "name": "python3"
  },
  "language_info": {
   "codemirror_mode": {
    "name": "ipython",
    "version": 3
   },
   "file_extension": ".py",
   "mimetype": "text/x-python",
   "name": "python",
   "nbconvert_exporter": "python",
   "pygments_lexer": "ipython3",
   "version": "3.8.5"
  }
 },
 "nbformat": 4,
 "nbformat_minor": 4
}
