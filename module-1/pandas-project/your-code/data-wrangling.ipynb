{
 "cells": [
  {
   "cell_type": "markdown",
   "metadata": {},
   "source": [
    "### 1 - Importar librerias y set configuracion"
   ]
  },
  {
   "cell_type": "code",
   "execution_count": 881,
   "metadata": {},
   "outputs": [],
   "source": [
    "import pandas as pd\n",
    "import numpy as np\n",
    "import regex as re\n",
    "pd.set_option('display.width', 100)\n",
    "pd.set_option('display.max_rows', 100)"
   ]
  },
  {
   "cell_type": "markdown",
   "metadata": {},
   "source": [
    "#### - Importar archivo csv"
   ]
  },
  {
   "cell_type": "code",
   "execution_count": 882,
   "metadata": {},
   "outputs": [],
   "source": [
    "shark = pd.read_csv('attacks.csv', sep=',', encoding='latin-1')\n",
    "#shark"
   ]
  },
  {
   "cell_type": "markdown",
   "metadata": {},
   "source": [
    "### 2 - revisar tipos de datos de columnas"
   ]
  },
  {
   "cell_type": "code",
   "execution_count": 883,
   "metadata": {},
   "outputs": [
    {
     "data": {
      "text/plain": [
       "Case Number                object\n",
       "Date                       object\n",
       "Year                      float64\n",
       "Type                       object\n",
       "Country                    object\n",
       "Area                       object\n",
       "Location                   object\n",
       "Activity                   object\n",
       "Name                       object\n",
       "Sex                        object\n",
       "Age                        object\n",
       "Injury                     object\n",
       "Fatal (Y/N)                object\n",
       "Time                       object\n",
       "Species                    object\n",
       "Investigator or Source     object\n",
       "pdf                        object\n",
       "href formula               object\n",
       "href                       object\n",
       "Case Number.1              object\n",
       "Case Number.2              object\n",
       "original order            float64\n",
       "Unnamed: 22                object\n",
       "Unnamed: 23                object\n",
       "dtype: object"
      ]
     },
     "execution_count": 883,
     "metadata": {},
     "output_type": "execute_result"
    }
   ],
   "source": [
    "shark.dtypes"
   ]
  },
  {
   "cell_type": "code",
   "execution_count": 884,
   "metadata": {},
   "outputs": [
    {
     "data": {
      "text/html": [
       "<div>\n",
       "<style scoped>\n",
       "    .dataframe tbody tr th:only-of-type {\n",
       "        vertical-align: middle;\n",
       "    }\n",
       "\n",
       "    .dataframe tbody tr th {\n",
       "        vertical-align: top;\n",
       "    }\n",
       "\n",
       "    .dataframe thead th {\n",
       "        text-align: right;\n",
       "    }\n",
       "</style>\n",
       "<table border=\"1\" class=\"dataframe\">\n",
       "  <thead>\n",
       "    <tr style=\"text-align: right;\">\n",
       "      <th></th>\n",
       "      <th>case_number</th>\n",
       "      <th>date</th>\n",
       "      <th>year</th>\n",
       "      <th>type</th>\n",
       "      <th>country</th>\n",
       "      <th>area</th>\n",
       "      <th>location</th>\n",
       "      <th>activity</th>\n",
       "      <th>name</th>\n",
       "      <th>sex</th>\n",
       "      <th>...</th>\n",
       "      <th>species</th>\n",
       "      <th>investigator_or_source</th>\n",
       "      <th>pdf</th>\n",
       "      <th>href_formula</th>\n",
       "      <th>href</th>\n",
       "      <th>case_number.1</th>\n",
       "      <th>case_number.2</th>\n",
       "      <th>original_order</th>\n",
       "      <th>unnamed:_22</th>\n",
       "      <th>unnamed:_23</th>\n",
       "    </tr>\n",
       "  </thead>\n",
       "  <tbody>\n",
       "    <tr>\n",
       "      <th>0</th>\n",
       "      <td>2018.06.25</td>\n",
       "      <td>25-Jun-2018</td>\n",
       "      <td>2018.0</td>\n",
       "      <td>Boating</td>\n",
       "      <td>USA</td>\n",
       "      <td>California</td>\n",
       "      <td>Oceanside, San Diego County</td>\n",
       "      <td>Paddling</td>\n",
       "      <td>Julie Wolfe</td>\n",
       "      <td>F</td>\n",
       "      <td>...</td>\n",
       "      <td>White shark</td>\n",
       "      <td>R. Collier, GSAF</td>\n",
       "      <td>2018.06.25-Wolfe.pdf</td>\n",
       "      <td>http://sharkattackfile.net/spreadsheets/pdf_di...</td>\n",
       "      <td>http://sharkattackfile.net/spreadsheets/pdf_di...</td>\n",
       "      <td>2018.06.25</td>\n",
       "      <td>2018.06.25</td>\n",
       "      <td>6303.0</td>\n",
       "      <td>NaN</td>\n",
       "      <td>NaN</td>\n",
       "    </tr>\n",
       "    <tr>\n",
       "      <th>1</th>\n",
       "      <td>2018.06.18</td>\n",
       "      <td>18-Jun-2018</td>\n",
       "      <td>2018.0</td>\n",
       "      <td>Unprovoked</td>\n",
       "      <td>USA</td>\n",
       "      <td>Georgia</td>\n",
       "      <td>St. Simon Island, Glynn County</td>\n",
       "      <td>Standing</td>\n",
       "      <td>Adyson McNeely</td>\n",
       "      <td>F</td>\n",
       "      <td>...</td>\n",
       "      <td>NaN</td>\n",
       "      <td>K.McMurray, TrackingSharks.com</td>\n",
       "      <td>2018.06.18-McNeely.pdf</td>\n",
       "      <td>http://sharkattackfile.net/spreadsheets/pdf_di...</td>\n",
       "      <td>http://sharkattackfile.net/spreadsheets/pdf_di...</td>\n",
       "      <td>2018.06.18</td>\n",
       "      <td>2018.06.18</td>\n",
       "      <td>6302.0</td>\n",
       "      <td>NaN</td>\n",
       "      <td>NaN</td>\n",
       "    </tr>\n",
       "    <tr>\n",
       "      <th>2</th>\n",
       "      <td>2018.06.09</td>\n",
       "      <td>09-Jun-2018</td>\n",
       "      <td>2018.0</td>\n",
       "      <td>Invalid</td>\n",
       "      <td>USA</td>\n",
       "      <td>Hawaii</td>\n",
       "      <td>Habush, Oahu</td>\n",
       "      <td>Surfing</td>\n",
       "      <td>John Denges</td>\n",
       "      <td>M</td>\n",
       "      <td>...</td>\n",
       "      <td>NaN</td>\n",
       "      <td>K.McMurray, TrackingSharks.com</td>\n",
       "      <td>2018.06.09-Denges.pdf</td>\n",
       "      <td>http://sharkattackfile.net/spreadsheets/pdf_di...</td>\n",
       "      <td>http://sharkattackfile.net/spreadsheets/pdf_di...</td>\n",
       "      <td>2018.06.09</td>\n",
       "      <td>2018.06.09</td>\n",
       "      <td>6301.0</td>\n",
       "      <td>NaN</td>\n",
       "      <td>NaN</td>\n",
       "    </tr>\n",
       "    <tr>\n",
       "      <th>3</th>\n",
       "      <td>2018.06.08</td>\n",
       "      <td>08-Jun-2018</td>\n",
       "      <td>2018.0</td>\n",
       "      <td>Unprovoked</td>\n",
       "      <td>AUSTRALIA</td>\n",
       "      <td>New South Wales</td>\n",
       "      <td>Arrawarra Headland</td>\n",
       "      <td>Surfing</td>\n",
       "      <td>male</td>\n",
       "      <td>M</td>\n",
       "      <td>...</td>\n",
       "      <td>2 m shark</td>\n",
       "      <td>B. Myatt, GSAF</td>\n",
       "      <td>2018.06.08-Arrawarra.pdf</td>\n",
       "      <td>http://sharkattackfile.net/spreadsheets/pdf_di...</td>\n",
       "      <td>http://sharkattackfile.net/spreadsheets/pdf_di...</td>\n",
       "      <td>2018.06.08</td>\n",
       "      <td>2018.06.08</td>\n",
       "      <td>6300.0</td>\n",
       "      <td>NaN</td>\n",
       "      <td>NaN</td>\n",
       "    </tr>\n",
       "    <tr>\n",
       "      <th>4</th>\n",
       "      <td>2018.06.04</td>\n",
       "      <td>04-Jun-2018</td>\n",
       "      <td>2018.0</td>\n",
       "      <td>Provoked</td>\n",
       "      <td>MEXICO</td>\n",
       "      <td>Colima</td>\n",
       "      <td>La Ticla</td>\n",
       "      <td>Free diving</td>\n",
       "      <td>Gustavo Ramos</td>\n",
       "      <td>M</td>\n",
       "      <td>...</td>\n",
       "      <td>Tiger shark, 3m</td>\n",
       "      <td>A .Kipper</td>\n",
       "      <td>2018.06.04-Ramos.pdf</td>\n",
       "      <td>http://sharkattackfile.net/spreadsheets/pdf_di...</td>\n",
       "      <td>http://sharkattackfile.net/spreadsheets/pdf_di...</td>\n",
       "      <td>2018.06.04</td>\n",
       "      <td>2018.06.04</td>\n",
       "      <td>6299.0</td>\n",
       "      <td>NaN</td>\n",
       "      <td>NaN</td>\n",
       "    </tr>\n",
       "  </tbody>\n",
       "</table>\n",
       "<p>5 rows × 24 columns</p>\n",
       "</div>"
      ],
      "text/plain": [
       "  case_number         date    year        type    country             area  \\\n",
       "0  2018.06.25  25-Jun-2018  2018.0     Boating        USA       California   \n",
       "1  2018.06.18  18-Jun-2018  2018.0  Unprovoked        USA          Georgia   \n",
       "2  2018.06.09  09-Jun-2018  2018.0     Invalid        USA           Hawaii   \n",
       "3  2018.06.08  08-Jun-2018  2018.0  Unprovoked  AUSTRALIA  New South Wales   \n",
       "4  2018.06.04  04-Jun-2018  2018.0    Provoked     MEXICO           Colima   \n",
       "\n",
       "                         location     activity             name sex  ...          species  \\\n",
       "0     Oceanside, San Diego County     Paddling      Julie Wolfe   F  ...      White shark   \n",
       "1  St. Simon Island, Glynn County     Standing  Adyson McNeely    F  ...              NaN   \n",
       "2                    Habush, Oahu      Surfing      John Denges   M  ...              NaN   \n",
       "3              Arrawarra Headland      Surfing             male   M  ...        2 m shark   \n",
       "4                        La Ticla  Free diving   Gustavo Ramos    M  ...  Tiger shark, 3m   \n",
       "\n",
       "           investigator_or_source                       pdf  \\\n",
       "0                R. Collier, GSAF      2018.06.25-Wolfe.pdf   \n",
       "1  K.McMurray, TrackingSharks.com    2018.06.18-McNeely.pdf   \n",
       "2  K.McMurray, TrackingSharks.com     2018.06.09-Denges.pdf   \n",
       "3                  B. Myatt, GSAF  2018.06.08-Arrawarra.pdf   \n",
       "4                       A .Kipper      2018.06.04-Ramos.pdf   \n",
       "\n",
       "                                        href_formula  \\\n",
       "0  http://sharkattackfile.net/spreadsheets/pdf_di...   \n",
       "1  http://sharkattackfile.net/spreadsheets/pdf_di...   \n",
       "2  http://sharkattackfile.net/spreadsheets/pdf_di...   \n",
       "3  http://sharkattackfile.net/spreadsheets/pdf_di...   \n",
       "4  http://sharkattackfile.net/spreadsheets/pdf_di...   \n",
       "\n",
       "                                                href case_number.1 case_number.2 original_order  \\\n",
       "0  http://sharkattackfile.net/spreadsheets/pdf_di...    2018.06.25    2018.06.25         6303.0   \n",
       "1  http://sharkattackfile.net/spreadsheets/pdf_di...    2018.06.18    2018.06.18         6302.0   \n",
       "2  http://sharkattackfile.net/spreadsheets/pdf_di...    2018.06.09    2018.06.09         6301.0   \n",
       "3  http://sharkattackfile.net/spreadsheets/pdf_di...    2018.06.08    2018.06.08         6300.0   \n",
       "4  http://sharkattackfile.net/spreadsheets/pdf_di...    2018.06.04    2018.06.04         6299.0   \n",
       "\n",
       "  unnamed:_22 unnamed:_23  \n",
       "0         NaN         NaN  \n",
       "1         NaN         NaN  \n",
       "2         NaN         NaN  \n",
       "3         NaN         NaN  \n",
       "4         NaN         NaN  \n",
       "\n",
       "[5 rows x 24 columns]"
      ]
     },
     "execution_count": 884,
     "metadata": {},
     "output_type": "execute_result"
    }
   ],
   "source": [
    "#Revisando los nombres de columna\n",
    "lst_col = shark.columns.tolist()\n",
    "#shark1.columns.tolist()\n",
    "lst_col_clean = []\n",
    "s=''\n",
    "for i in lst_col:\n",
    "    s = re.sub(' $| \\(Y/N\\)', '', i)\n",
    "    s = re.sub(' ', '_', s)\n",
    "    s = s.lower()\n",
    "    lst_col_clean.append(s)\n",
    "#lst_col_clean\n",
    "shark.columns = lst_col_clean\n",
    "shark.head()"
   ]
  },
  {
   "cell_type": "markdown",
   "metadata": {},
   "source": [
    "### 3 - Cantidad de valores null "
   ]
  },
  {
   "cell_type": "code",
   "execution_count": 885,
   "metadata": {},
   "outputs": [
    {
     "data": {
      "text/plain": [
       "case_number               17021\n",
       "date                      19421\n",
       "year                      19423\n",
       "type                      19425\n",
       "country                   19471\n",
       "area                      19876\n",
       "location                  19961\n",
       "activity                  19965\n",
       "name                      19631\n",
       "sex                       19986\n",
       "age                       22252\n",
       "injury                    19449\n",
       "fatal                     19960\n",
       "time                      22775\n",
       "species                   22259\n",
       "investigator_or_source    19438\n",
       "pdf                       19421\n",
       "href_formula              19422\n",
       "href                      19421\n",
       "case_number.1             19421\n",
       "case_number.2             19421\n",
       "original_order            19414\n",
       "unnamed:_22               25722\n",
       "unnamed:_23               25721\n",
       "dtype: int64"
      ]
     },
     "execution_count": 885,
     "metadata": {},
     "output_type": "execute_result"
    }
   ],
   "source": [
    "shark.isna().sum()"
   ]
  },
  {
   "cell_type": "markdown",
   "metadata": {},
   "source": [
    "### 4 - Limpieza de nulls"
   ]
  },
  {
   "cell_type": "code",
   "execution_count": 886,
   "metadata": {},
   "outputs": [
    {
     "data": {
      "text/plain": [
       "case_number                  1\n",
       "date                         0\n",
       "year                         2\n",
       "type                         4\n",
       "country                     50\n",
       "area                       455\n",
       "location                   540\n",
       "activity                   544\n",
       "name                       210\n",
       "sex                        565\n",
       "age                       2831\n",
       "injury                      28\n",
       "fatal                      539\n",
       "time                      3354\n",
       "species                   2838\n",
       "investigator_or_source      17\n",
       "pdf                          0\n",
       "href_formula                 1\n",
       "href                         0\n",
       "case_number.1                0\n",
       "case_number.2                0\n",
       "original_order               0\n",
       "dtype: int64"
      ]
     },
     "execution_count": 886,
     "metadata": {},
     "output_type": "execute_result"
    }
   ],
   "source": [
    "#Eliminar filas que no tenga minimo 12 valores No-Nulls\n",
    "shark1 = shark.dropna(thresh=12)\n",
    "#eliminar duplicados\n",
    "shark1 = shark1.drop_duplicates()\n",
    "#Eliminacion de columnas vacias\n",
    "del shark1['unnamed:_22']\n",
    "del shark1['unnamed:_23']\n",
    "#verificar cantidad luego de limpieza\n",
    "shark1.isna().sum()"
   ]
  },
  {
   "cell_type": "markdown",
   "metadata": {},
   "source": [
    "### 5 - llenar valores nulls"
   ]
  },
  {
   "cell_type": "code",
   "execution_count": 887,
   "metadata": {},
   "outputs": [],
   "source": [
    "shark1.fillna({'year':0}, inplace=True)\n",
    "shark1.fillna({'country':'unknown'}, inplace=True)\n",
    "shark1.fillna({'area':'unknown'}, inplace=True)\n",
    "shark1.fillna({'location':'unknown'}, inplace=True)\n",
    "shark1.fillna({'activity':'unknown'}, inplace=True)\n",
    "shark1.fillna({'time':'unknown'}, inplace=True)\n",
    "shark1.fillna({'type':'unknown'}, inplace=True)\n",
    "shark1.fillna({'age':'unknown'}, inplace=True)\n",
    "shark1.fillna({'species':'unknown'}, inplace=True)"
   ]
  },
  {
   "cell_type": "markdown",
   "metadata": {},
   "source": [
    "### 6  -  cambiar tipo de datos de columnas"
   ]
  },
  {
   "cell_type": "code",
   "execution_count": 888,
   "metadata": {},
   "outputs": [],
   "source": [
    "shark1 = shark1.astype({\"year\": int})\n",
    "shark1 = shark1.astype({\"original_order\": int})\n",
    "#shark1['year'].value_counts()"
   ]
  },
  {
   "cell_type": "markdown",
   "metadata": {},
   "source": [
    "### 7 - limpieza de columnas"
   ]
  },
  {
   "cell_type": "code",
   "execution_count": 889,
   "metadata": {},
   "outputs": [],
   "source": [
    "#nueva copia del dataframe\n",
    "shark2=shark1.copy()  #cambiado por aclaracion durante la presentacion"
   ]
  },
  {
   "cell_type": "markdown",
   "metadata": {},
   "source": [
    "#### - columna activity"
   ]
  },
  {
   "cell_type": "code",
   "execution_count": 890,
   "metadata": {},
   "outputs": [],
   "source": [
    "#extraer actividad \n",
    "shark2['activity_clean'] = shark1['activity'].str.extract(r'([aA-zZ]*ing)' )\n",
    "shark2['activity_clean'] = shark2['activity_clean'].str.lower()\n",
    "#cantidad de actividades\n",
    "#shark2['activity_clean'].value_counts()"
   ]
  },
  {
   "cell_type": "code",
   "execution_count": 891,
   "metadata": {},
   "outputs": [],
   "source": [
    "#shark1[shark1['country'].str.contains(\"VENEZUELA\")]"
   ]
  },
  {
   "cell_type": "markdown",
   "metadata": {},
   "source": [
    "#### - columna type"
   ]
  },
  {
   "cell_type": "code",
   "execution_count": 892,
   "metadata": {},
   "outputs": [
    {
     "data": {
      "text/plain": [
       "unprovoked      4595\n",
       "provoked         574\n",
       "invalid          547\n",
       "boat             341\n",
       "sea disaster     239\n",
       "unknown            4\n",
       "questionable       2\n",
       "Name: type_clean, dtype: int64"
      ]
     },
     "execution_count": 892,
     "metadata": {},
     "output_type": "execute_result"
    }
   ],
   "source": [
    "shark2['type_clean'] = shark2['type'].str.replace(r'ing|omg', '' )\n",
    "shark2['type_clean'] = shark2['type_clean'].str.lower()\n",
    "shark2['type_clean'].value_counts()\n",
    "#shark1[shark1['type'].str.contains(\"Boatomg\")]"
   ]
  },
  {
   "cell_type": "markdown",
   "metadata": {},
   "source": [
    "#### - columna sex"
   ]
  },
  {
   "cell_type": "code",
   "execution_count": 893,
   "metadata": {},
   "outputs": [
    {
     "data": {
      "text/plain": [
       "m          5094\n",
       "f           637\n",
       "unknown     571\n",
       "Name: sex_clean, dtype: int64"
      ]
     },
     "execution_count": 893,
     "metadata": {},
     "output_type": "execute_result"
    }
   ],
   "source": [
    "shark2['sex_clean'] = shark1['sex'].str.lower()\n",
    "shark2['sex_clean'] = shark2['sex_clean'].str.replace(r'n|\\.|lli|m ', 'unknown' )\n",
    "shark2.fillna({'sex_clean':'unknown'}, inplace=True)\n",
    "shark2['sex_clean'].value_counts()"
   ]
  },
  {
   "cell_type": "markdown",
   "metadata": {},
   "source": [
    "#### - columna species"
   ]
  },
  {
   "cell_type": "code",
   "execution_count": 894,
   "metadata": {},
   "outputs": [],
   "source": [
    "#extraer la specie\n",
    "shark2['species_clean'] = shark2['species'].str.extract(r'([aA-zZ]* shark)' )\n",
    "shark2['species_clean'] = shark2['species_clean'].str.lower()\n",
    "regex = r'^ shark|shark $|] shark|m shark|no shark|lb shark|kg shark|a shark|foot shark|small shark|of shark'\n",
    "shark2['species_clean'] = shark2['species_clean'].str.replace(regex, 'shark' )\n",
    "shark2['species_clean'] = shark2['species_clean'].str.replace(r'^shark|unknown', 'unconfirmed species shark' )\n",
    "shark1.fillna({'species_clean':'unconfirmed species shark'}, inplace=True)\n",
    "#cantidad de species\n",
    "#shark2['species_clean'].value_counts()"
   ]
  },
  {
   "cell_type": "markdown",
   "metadata": {},
   "source": [
    "#### - columna fatal"
   ]
  },
  {
   "cell_type": "code",
   "execution_count": 895,
   "metadata": {},
   "outputs": [
    {
     "data": {
      "text/plain": [
       "n          4301\n",
       "y          1389\n",
       "unknown      73\n",
       "Name: fatal_clean, dtype: int64"
      ]
     },
     "execution_count": 895,
     "metadata": {},
     "output_type": "execute_result"
    }
   ],
   "source": [
    "shark2['fatal_clean'] = shark2['fatal'].str.replace(r' ', '' )\n",
    "shark2['fatal_clean'] = shark2['fatal_clean'].str.lower()\n",
    "shark2['fatal_clean'] = shark2['fatal_clean'].str.replace(r'2017|m', 'unknown' )\n",
    "shark2['fatal_clean'].value_counts()"
   ]
  },
  {
   "cell_type": "markdown",
   "metadata": {},
   "source": [
    "#### - columna country"
   ]
  },
  {
   "cell_type": "code",
   "execution_count": 896,
   "metadata": {},
   "outputs": [],
   "source": [
    "#reemplazar regex\n",
    "shark2['country_clean'] = shark2['country'].str.replace(r'^ | $', '' )\n",
    "#convertir en minusculas\n",
    "shark2['country_clean'] = shark2['country_clean'].str.lower()\n",
    "#Primera letra en mayuscula por nombre de paises\n",
    "shark2['country_clean'] = shark2['country_clean'].str.title()\n",
    "#shark2['country_clean'].value_counts()"
   ]
  },
  {
   "cell_type": "markdown",
   "metadata": {},
   "source": [
    "#### - columna time"
   ]
  },
  {
   "cell_type": "code",
   "execution_count": 897,
   "metadata": {},
   "outputs": [],
   "source": [
    "shark2['time_clean'] = shark1['time'].str.lower()\n",
    "regex = r'([0-9][0-9]h[0-9][0-9]|afternoon|morning|night|dusk|evening|unknown)'\n",
    "shark2['time_clean'] = shark2['time_clean'].str.extract(regex, expand=True )\n",
    "#shark2['time_clean'].value_counts()"
   ]
  },
  {
   "cell_type": "code",
   "execution_count": 898,
   "metadata": {},
   "outputs": [],
   "source": [
    "#### - columna date"
   ]
  },
  {
   "cell_type": "code",
   "execution_count": 899,
   "metadata": {},
   "outputs": [
    {
     "data": {
      "text/plain": [
       "1958          14\n",
       "1960          14\n",
       "1950          13\n",
       "1957          13\n",
       "1942          11\n",
       "              ..\n",
       "07-05-1996     1\n",
       "21-10-2008     1\n",
       "23-05-2001     1\n",
       "03-07-1927     1\n",
       "15-01-1954     1\n",
       "Name: date_clean, Length: 5276, dtype: int64"
      ]
     },
     "execution_count": 899,
     "metadata": {},
     "output_type": "execute_result"
    }
   ],
   "source": [
    "shark2['date_clean'] = shark1['date'].str.lower()\n",
    "regex = r'reported |^ *| *$'\n",
    "shark2['date_clean'] = shark2['date_clean'].str.replace(regex, '' )\n",
    "shark2['date_clean'] = shark2['date_clean'].str.replace('jan', '01' )\n",
    "shark2['date_clean'] = shark2['date_clean'].str.replace('feb', '02' )\n",
    "shark2['date_clean'] = shark2['date_clean'].str.replace('mar', '03' )\n",
    "shark2['date_clean'] = shark2['date_clean'].str.replace('apr', '04' )\n",
    "shark2['date_clean'] = shark2['date_clean'].str.replace('may', '05' )\n",
    "shark2['date_clean'] = shark2['date_clean'].str.replace('jun', '06' )\n",
    "shark2['date_clean'] = shark2['date_clean'].str.replace('jul', '07' )\n",
    "shark2['date_clean'] = shark2['date_clean'].str.replace('aug', '08' )\n",
    "shark2['date_clean'] = shark2['date_clean'].str.replace('sep', '09' )\n",
    "shark2['date_clean'] = shark2['date_clean'].str.replace('oct', '10' )\n",
    "shark2['date_clean'] = shark2['date_clean'].str.replace('nov', '11' )\n",
    "shark2['date_clean'] = shark2['date_clean'].str.replace('dec', '12' )\n",
    "shark2['date_clean'] = shark2['date_clean'].str.replace('[a-z]*|,|\\.| *|\"', '' )\n",
    "# llenar valores nulos o vacios\n",
    "shark2['date_clean'] = shark2['date_clean'].str.replace('^$', 'unknown' )\n",
    "shark1.fillna({'date_clean':'unknown'}, inplace=True)\n",
    "shark2['date_clean'].value_counts()"
   ]
  },
  {
   "cell_type": "markdown",
   "metadata": {},
   "source": [
    "### 8 - Comparacion de columnas"
   ]
  },
  {
   "cell_type": "code",
   "execution_count": 900,
   "metadata": {},
   "outputs": [
    {
     "data": {
      "text/plain": [
       "True     6278\n",
       "False      24\n",
       "Name: 0, dtype: int64"
      ]
     },
     "execution_count": 900,
     "metadata": {},
     "output_type": "execute_result"
    }
   ],
   "source": [
    "#comparar case_number\n",
    "comp_col = np.where(shark2[\"case_number.1\"] == shark2[\"case_number.2\"], True, False)\n",
    "#c = pd.DataFrame(comp_col)\n",
    "#c[0].value_counts()\n",
    "comp_col = np.where(shark2[\"case_number\"] == shark2[\"case_number.1\"], True, False)\n",
    "c = pd.DataFrame(comp_col)\n",
    "c[0].value_counts()"
   ]
  },
  {
   "cell_type": "code",
   "execution_count": 901,
   "metadata": {},
   "outputs": [
    {
     "data": {
      "text/plain": [
       "True     6242\n",
       "False      60\n",
       "Name: 0, dtype: int64"
      ]
     },
     "execution_count": 901,
     "metadata": {},
     "output_type": "execute_result"
    }
   ],
   "source": [
    "#comparar case_number\n",
    "comp_col = np.where(shark2[\"href\"] == shark2[\"href_formula\"], True, False)\n",
    "c = pd.DataFrame(comp_col)\n",
    "c[0].value_counts()"
   ]
  },
  {
   "cell_type": "code",
   "execution_count": 902,
   "metadata": {},
   "outputs": [
    {
     "data": {
      "text/plain": [
       "True     6265\n",
       "False      37\n",
       "Name: 0, dtype: int64"
      ]
     },
     "execution_count": 902,
     "metadata": {},
     "output_type": "execute_result"
    }
   ],
   "source": [
    "#limpio la url de href para saber si contiene pdf\n",
    "shark2['pdf2'] = shark2['href'].str.replace('http://sharkattackfile.net/spreadsheets/pdf_directory/', '' )\n",
    "comp_col = np.where(shark2[\"pdf\"] == shark2[\"pdf2\"], True, False)\n",
    "c = pd.DataFrame(comp_col)\n",
    "c[0].value_counts()"
   ]
  },
  {
   "cell_type": "markdown",
   "metadata": {},
   "source": [
    "#### - Eliminacion columnas iguales"
   ]
  },
  {
   "cell_type": "code",
   "execution_count": 903,
   "metadata": {},
   "outputs": [],
   "source": [
    "del shark2['href_formula']\n",
    "del shark2['case_number.1']\n",
    "del shark2['case_number.2']\n",
    "del shark2['pdf']\n",
    "del shark2['pdf2']\n",
    "#igual al indice\n",
    "del shark2['original_order']"
   ]
  },
  {
   "cell_type": "markdown",
   "metadata": {},
   "source": [
    "#### - Eliminacion columnas que ya fueron limpiadas"
   ]
  },
  {
   "cell_type": "code",
   "execution_count": 904,
   "metadata": {},
   "outputs": [],
   "source": [
    "del shark2['time']\n",
    "del shark2['fatal']\n",
    "del shark2['species']\n",
    "del shark2['type']\n",
    "del shark2['activity']\n",
    "del shark2['country']\n",
    "del shark2['date']\n",
    "del shark2['year']\n",
    "del shark2['sex']"
   ]
  },
  {
   "cell_type": "markdown",
   "metadata": {},
   "source": [
    "### 9 - Reestructuracion"
   ]
  },
  {
   "cell_type": "code",
   "execution_count": 905,
   "metadata": {},
   "outputs": [],
   "source": [
    "#copia de dataframe para exportar\n",
    "shark3 = shark2.copy()  #cambiado por aclaracion durante la presentacion"
   ]
  },
  {
   "cell_type": "code",
   "execution_count": 906,
   "metadata": {},
   "outputs": [],
   "source": [
    "#Quitando la terminacion _clean\n",
    "lst_col = shark3.columns.tolist()\n",
    "lst_col_clean = []\n",
    "s=''\n",
    "for i in lst_col:\n",
    "    s = re.sub('_clean$', '', i)\n",
    "    lst_col_clean.append(s)\n",
    "#lst_col_clean\n",
    "shark3.columns = lst_col_clean"
   ]
  },
  {
   "cell_type": "code",
   "execution_count": 907,
   "metadata": {},
   "outputs": [
    {
     "data": {
      "text/html": [
       "<div>\n",
       "<style scoped>\n",
       "    .dataframe tbody tr th:only-of-type {\n",
       "        vertical-align: middle;\n",
       "    }\n",
       "\n",
       "    .dataframe tbody tr th {\n",
       "        vertical-align: top;\n",
       "    }\n",
       "\n",
       "    .dataframe thead th {\n",
       "        text-align: right;\n",
       "    }\n",
       "</style>\n",
       "<table border=\"1\" class=\"dataframe\">\n",
       "  <thead>\n",
       "    <tr style=\"text-align: right;\">\n",
       "      <th></th>\n",
       "      <th>date</th>\n",
       "      <th>time</th>\n",
       "      <th>type</th>\n",
       "      <th>country</th>\n",
       "      <th>area</th>\n",
       "      <th>location</th>\n",
       "      <th>activity</th>\n",
       "      <th>species</th>\n",
       "      <th>name</th>\n",
       "      <th>sex</th>\n",
       "      <th>age</th>\n",
       "      <th>injury</th>\n",
       "      <th>fatal</th>\n",
       "      <th>case_number</th>\n",
       "      <th>investigator_or_source</th>\n",
       "      <th>href</th>\n",
       "    </tr>\n",
       "  </thead>\n",
       "  <tbody>\n",
       "    <tr>\n",
       "      <th>0</th>\n",
       "      <td>25-06-2018</td>\n",
       "      <td>18h00</td>\n",
       "      <td>boat</td>\n",
       "      <td>Usa</td>\n",
       "      <td>California</td>\n",
       "      <td>Oceanside, San Diego County</td>\n",
       "      <td>paddling</td>\n",
       "      <td>white shark</td>\n",
       "      <td>Julie Wolfe</td>\n",
       "      <td>f</td>\n",
       "      <td>57</td>\n",
       "      <td>No injury to occupant, outrigger canoe and pad...</td>\n",
       "      <td>n</td>\n",
       "      <td>2018.06.25</td>\n",
       "      <td>R. Collier, GSAF</td>\n",
       "      <td>http://sharkattackfile.net/spreadsheets/pdf_di...</td>\n",
       "    </tr>\n",
       "    <tr>\n",
       "      <th>1</th>\n",
       "      <td>18-06-2018</td>\n",
       "      <td>14h00</td>\n",
       "      <td>unprovoked</td>\n",
       "      <td>Usa</td>\n",
       "      <td>Georgia</td>\n",
       "      <td>St. Simon Island, Glynn County</td>\n",
       "      <td>standing</td>\n",
       "      <td>NaN</td>\n",
       "      <td>Adyson McNeely</td>\n",
       "      <td>f</td>\n",
       "      <td>11</td>\n",
       "      <td>Minor injury to left thigh</td>\n",
       "      <td>n</td>\n",
       "      <td>2018.06.18</td>\n",
       "      <td>K.McMurray, TrackingSharks.com</td>\n",
       "      <td>http://sharkattackfile.net/spreadsheets/pdf_di...</td>\n",
       "    </tr>\n",
       "    <tr>\n",
       "      <th>2</th>\n",
       "      <td>09-06-2018</td>\n",
       "      <td>07h45</td>\n",
       "      <td>invalid</td>\n",
       "      <td>Usa</td>\n",
       "      <td>Hawaii</td>\n",
       "      <td>Habush, Oahu</td>\n",
       "      <td>surfing</td>\n",
       "      <td>NaN</td>\n",
       "      <td>John Denges</td>\n",
       "      <td>m</td>\n",
       "      <td>48</td>\n",
       "      <td>Injury to left lower leg from surfboard skeg</td>\n",
       "      <td>n</td>\n",
       "      <td>2018.06.09</td>\n",
       "      <td>K.McMurray, TrackingSharks.com</td>\n",
       "      <td>http://sharkattackfile.net/spreadsheets/pdf_di...</td>\n",
       "    </tr>\n",
       "    <tr>\n",
       "      <th>3</th>\n",
       "      <td>08-06-2018</td>\n",
       "      <td>unknown</td>\n",
       "      <td>unprovoked</td>\n",
       "      <td>Australia</td>\n",
       "      <td>New South Wales</td>\n",
       "      <td>Arrawarra Headland</td>\n",
       "      <td>surfing</td>\n",
       "      <td>unconfirmed species shark</td>\n",
       "      <td>male</td>\n",
       "      <td>m</td>\n",
       "      <td>unknown</td>\n",
       "      <td>Minor injury to lower leg</td>\n",
       "      <td>n</td>\n",
       "      <td>2018.06.08</td>\n",
       "      <td>B. Myatt, GSAF</td>\n",
       "      <td>http://sharkattackfile.net/spreadsheets/pdf_di...</td>\n",
       "    </tr>\n",
       "    <tr>\n",
       "      <th>4</th>\n",
       "      <td>04-06-2018</td>\n",
       "      <td>unknown</td>\n",
       "      <td>provoked</td>\n",
       "      <td>Mexico</td>\n",
       "      <td>Colima</td>\n",
       "      <td>La Ticla</td>\n",
       "      <td>diving</td>\n",
       "      <td>tiger shark</td>\n",
       "      <td>Gustavo Ramos</td>\n",
       "      <td>m</td>\n",
       "      <td>unknown</td>\n",
       "      <td>Lacerations to leg &amp; hand shark PROVOKED INCIDENT</td>\n",
       "      <td>n</td>\n",
       "      <td>2018.06.04</td>\n",
       "      <td>A .Kipper</td>\n",
       "      <td>http://sharkattackfile.net/spreadsheets/pdf_di...</td>\n",
       "    </tr>\n",
       "  </tbody>\n",
       "</table>\n",
       "</div>"
      ],
      "text/plain": [
       "         date     time        type    country             area                        location  \\\n",
       "0  25-06-2018    18h00        boat        Usa       California     Oceanside, San Diego County   \n",
       "1  18-06-2018    14h00  unprovoked        Usa          Georgia  St. Simon Island, Glynn County   \n",
       "2  09-06-2018    07h45     invalid        Usa           Hawaii                    Habush, Oahu   \n",
       "3  08-06-2018  unknown  unprovoked  Australia  New South Wales              Arrawarra Headland   \n",
       "4  04-06-2018  unknown    provoked     Mexico           Colima                        La Ticla   \n",
       "\n",
       "   activity                    species             name sex      age  \\\n",
       "0  paddling                white shark      Julie Wolfe   f       57   \n",
       "1  standing                        NaN  Adyson McNeely    f       11   \n",
       "2   surfing                        NaN      John Denges   m       48   \n",
       "3   surfing  unconfirmed species shark             male   m  unknown   \n",
       "4    diving                tiger shark   Gustavo Ramos    m  unknown   \n",
       "\n",
       "                                              injury fatal case_number  \\\n",
       "0  No injury to occupant, outrigger canoe and pad...     n  2018.06.25   \n",
       "1                         Minor injury to left thigh     n  2018.06.18   \n",
       "2       Injury to left lower leg from surfboard skeg     n  2018.06.09   \n",
       "3                          Minor injury to lower leg     n  2018.06.08   \n",
       "4  Lacerations to leg & hand shark PROVOKED INCIDENT     n  2018.06.04   \n",
       "\n",
       "           investigator_or_source                                               href  \n",
       "0                R. Collier, GSAF  http://sharkattackfile.net/spreadsheets/pdf_di...  \n",
       "1  K.McMurray, TrackingSharks.com  http://sharkattackfile.net/spreadsheets/pdf_di...  \n",
       "2  K.McMurray, TrackingSharks.com  http://sharkattackfile.net/spreadsheets/pdf_di...  \n",
       "3                  B. Myatt, GSAF  http://sharkattackfile.net/spreadsheets/pdf_di...  \n",
       "4                       A .Kipper  http://sharkattackfile.net/spreadsheets/pdf_di...  "
      ]
     },
     "execution_count": 907,
     "metadata": {},
     "output_type": "execute_result"
    }
   ],
   "source": [
    "#moviendo posicion columnas\n",
    "shark3.columns.tolist()\n",
    "mov = ['date',\n",
    " 'time',\n",
    " 'type',\n",
    " 'country',\n",
    " 'area',\n",
    " 'location',\n",
    " 'activity',\n",
    " 'species',\n",
    " 'name',\n",
    " 'sex',\n",
    " 'age',\n",
    " 'injury',\n",
    " 'fatal',\n",
    " 'case_number',\n",
    " 'investigator_or_source',\n",
    " 'href']\n",
    "shark3 = shark3[mov]\n",
    "shark3.head()"
   ]
  },
  {
   "cell_type": "code",
   "execution_count": 908,
   "metadata": {},
   "outputs": [],
   "source": [
    "#Ultima comprobacion de valores null antes de exportar\n",
    "#Se volvieron a cambiar los valores 'unknown' por null\n",
    "shark3 = shark3.replace('unknown', np.NaN)\n",
    "#shark4.isna().sum()\n",
    "# Como ahora hay menos columnas se fijo que una fila tiene que tener al menos 14 valores No-Nulls para no ser eliminada\n",
    "shark3 = shark3.dropna(thresh=14)"
   ]
  },
  {
   "cell_type": "markdown",
   "metadata": {},
   "source": [
    "### 10 - Export CSV"
   ]
  },
  {
   "cell_type": "code",
   "execution_count": 909,
   "metadata": {},
   "outputs": [],
   "source": [
    "# Exportar el dataframe como un archivo CSV\n",
    "shark3.to_csv('shark.csv', sep=',', index=False)"
   ]
  },
  {
   "cell_type": "markdown",
   "metadata": {},
   "source": [
    "### 11 - Graficas"
   ]
  },
  {
   "cell_type": "code",
   "execution_count": 910,
   "metadata": {},
   "outputs": [],
   "source": [
    "#### Top 10 de paises con ataques de tiburon "
   ]
  },
  {
   "cell_type": "code",
   "execution_count": 911,
   "metadata": {},
   "outputs": [
    {
     "data": {
      "text/plain": [
       "<matplotlib.axes._subplots.AxesSubplot at 0x1d1e2ca0>"
      ]
     },
     "execution_count": 911,
     "metadata": {},
     "output_type": "execute_result"
    },
    {
     "data": {
      "image/png": "[encoded data removed]",
      "text/plain": [
       "<Figure size 432x288 with 1 Axes>"
      ]
     },
     "metadata": {
      "needs_background": "light"
     },
     "output_type": "display_data"
    }
   ],
   "source": [
    "temp = shark3['country'].value_counts()\n",
    "temp10 = temp.head(10)\n",
    "temp10.plot(kind = 'bar')"
   ]
  },
  {
   "cell_type": "code",
   "execution_count": 912,
   "metadata": {},
   "outputs": [],
   "source": [
    "#### Las 5 especies de tiburon que causan mas ataques"
   ]
  },
  {
   "cell_type": "code",
   "execution_count": 913,
   "metadata": {},
   "outputs": [
    {
     "data": {
      "text/plain": [
       "<matplotlib.axes._subplots.AxesSubplot at 0x1ea663e8>"
      ]
     },
     "execution_count": 913,
     "metadata": {},
     "output_type": "execute_result"
    },
    {
     "data": {
      "image/png": "[encoded data removed]",
      "text/plain": [
       "<Figure size 432x288 with 1 Axes>"
      ]
     },
     "metadata": {},
     "output_type": "display_data"
    }
   ],
   "source": [
    "temp = shark3['species'].value_counts()\n",
    "temp10 = temp.head(6)\n",
    "temp5 = temp10.tail(5)\n",
    "temp5.plot(kind = 'pie')"
   ]
  },
  {
   "cell_type": "markdown",
   "metadata": {},
   "source": [
    "#### Cantidad de ataques de tiburon por sexo"
   ]
  },
  {
   "cell_type": "code",
   "execution_count": 914,
   "metadata": {},
   "outputs": [
    {
     "data": {
      "text/plain": [
       "<matplotlib.axes._subplots.AxesSubplot at 0x1ea539b8>"
      ]
     },
     "execution_count": 914,
     "metadata": {},
     "output_type": "execute_result"
    },
    {
     "data": {
      "image/png": "[encoded data removed]",
      "text/plain": [
       "<Figure size 432x288 with 1 Axes>"
      ]
     },
     "metadata": {},
     "output_type": "display_data"
    }
   ],
   "source": [
    "shark3['sex'].value_counts().plot(kind = 'pie')"
   ]
  },
  {
   "cell_type": "markdown",
   "metadata": {},
   "source": [
    "#### Top de actividades durante los ataques"
   ]
  },
  {
   "cell_type": "code",
   "execution_count": 915,
   "metadata": {},
   "outputs": [
    {
     "data": {
      "text/plain": [
       "<matplotlib.axes._subplots.AxesSubplot at 0x1ea84f58>"
      ]
     },
     "execution_count": 915,
     "metadata": {},
     "output_type": "execute_result"
    },
    {
     "data": {
      "image/png": "[encoded data removed]",
      "text/plain": [
       "<Figure size 432x288 with 1 Axes>"
      ]
     },
     "metadata": {
      "needs_background": "light"
     },
     "output_type": "display_data"
    }
   ],
   "source": [
    "temp = shark3['activity'].value_counts()\n",
    "temp10 = temp.head(10)\n",
    "temp10.plot(kind = 'barh')"
   ]
  },
  {
   "cell_type": "markdown",
   "metadata": {},
   "source": [
    "#### Cantidad de ataques con provocacion o sin provocacion"
   ]
  },
  {
   "cell_type": "code",
   "execution_count": 916,
   "metadata": {},
   "outputs": [
    {
     "data": {
      "text/plain": [
       "<matplotlib.axes._subplots.AxesSubplot at 0x1eaa1070>"
      ]
     },
     "execution_count": 916,
     "metadata": {},
     "output_type": "execute_result"
    },
    {
     "data": {
      "image/png": "[encoded data removed]",
      "text/plain": [
       "<Figure size 432x288 with 1 Axes>"
      ]
     },
     "metadata": {},
     "output_type": "display_data"
    }
   ],
   "source": [
    "temp = shark3['type'].value_counts()\n",
    "temp10 = temp.head(2)\n",
    "temp10.plot(kind = 'pie')"
   ]
  }
 ],
 "metadata": {
  "kernelspec": {
   "display_name": "Python 3",
   "language": "python",
   "name": "python3"
  },
  "language_info": {
   "codemirror_mode": {
    "name": "ipython",
    "version": 3
   },
   "file_extension": ".py",
   "mimetype": "text/x-python",
   "name": "python",
   "nbconvert_exporter": "python",
   "pygments_lexer": "ipython3",
   "version": "3.8.3"
  }
 },
 "nbformat": 4,
 "nbformat_minor": 4
}
