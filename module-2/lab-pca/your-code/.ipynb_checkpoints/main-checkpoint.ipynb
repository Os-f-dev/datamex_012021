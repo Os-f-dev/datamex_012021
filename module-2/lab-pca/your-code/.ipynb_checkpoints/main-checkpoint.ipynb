{
 "cells": [
  {
   "cell_type": "markdown",
   "metadata": {},
   "source": [
    "# Before your start:\n",
    "- Read the README.md file\n",
    "- Comment as much as you can and use the resources (README.md file)\n",
    "- Happy learning!"
   ]
  },
  {
   "cell_type": "code",
   "execution_count": 1,
   "metadata": {},
   "outputs": [],
   "source": [
    "# Run this code:\n",
    "\n",
    "%matplotlib inline\n",
    "\n",
    "import matplotlib.pyplot as plt"
   ]
  },
  {
   "cell_type": "code",
   "execution_count": 2,
   "metadata": {},
   "outputs": [],
   "source": [
    "# Import numpy and pandas:\n",
    "import pandas as pd \n",
    "import numpy as np "
   ]
  },
  {
   "cell_type": "markdown",
   "metadata": {},
   "source": [
    "# Challenge 1 - Reading and Standardizing the Data\n",
    "\n",
    "In this challenge we will work with image data and reduce the dimensions of the data to create a 2 dimensional plot. While we have not worked much with image data before, it can be represented as a numpy array where each pixel is assigned a numeric value. In this lesson, we will look at a dataset of cats and a dataset of dogs and see whether reducing them to two dimensions allows us to see if the data is separable. We will start by loading and processing the data. Run the cell below to load the two csv files and convert them into numpy arrays."
   ]
  },
  {
   "cell_type": "code",
   "execution_count": 3,
   "metadata": {},
   "outputs": [],
   "source": [
    "# Run this code\n",
    "\n",
    "cats = np.array(pd.read_csv(\"https://raw.githubusercontent.com/bioramble/pca/master/cat.csv\", header=None))\n",
    "dogs = np.array(pd.read_csv(\"https://raw.githubusercontent.com/bioramble/pca/master/dog.csv\", header=None))"
   ]
  },
  {
   "cell_type": "markdown",
   "metadata": {},
   "source": [
    "Next, we'll examine the shape of both the cats and the dogs arrays. Print out both shapes below."
   ]
  },
  {
   "cell_type": "code",
   "execution_count": 5,
   "metadata": {},
   "outputs": [
    {
     "name": "stdout",
     "output_type": "stream",
     "text": [
      "(4096, 80)\n",
      "(4096, 80)\n"
     ]
    }
   ],
   "source": [
    "# Your code here:\n",
    "\n",
    "print(cats.shape)\n",
    "print(dogs.shape)"
   ]
  },
  {
   "cell_type": "markdown",
   "metadata": {},
   "source": [
    "What this means is that both arrays contain 80 images each (the number of columns). Each image is comprised of 64x64 pixels (so a total of 4096 pixels per image). The images have been flattened such that all 4096 are in a single row.\n",
    "\n",
    "Print out column 0 of the cats array to see what the pixels values look like."
   ]
  },
  {
   "cell_type": "code",
   "execution_count": 7,
   "metadata": {},
   "outputs": [
    {
     "data": {
      "text/plain": [
       "array([64, 64, 64, ..., 64, 64, 61], dtype=int64)"
      ]
     },
     "execution_count": 7,
     "metadata": {},
     "output_type": "execute_result"
    }
   ],
   "source": [
    "cats[:,0]"
   ]
  },
  {
   "cell_type": "markdown",
   "metadata": {},
   "source": [
    "Using `matplotlib` we can plot a single cat or a single dog. We do this by reshaping the vector back to a 64x64 image and then using the `imshow` function.\n",
    "\n",
    "Run the code below to look at the first dog and the first cat."
   ]
  },
  {
   "cell_type": "code",
   "execution_count": 8,
   "metadata": {},
   "outputs": [
    {
     "data": {
      "text/plain": [
       "<matplotlib.image.AxesImage at 0x9b2abf8>"
      ]
     },
     "execution_count": 8,
     "metadata": {},
     "output_type": "execute_result"
    },
    {
     "data": {
      "image/png": "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