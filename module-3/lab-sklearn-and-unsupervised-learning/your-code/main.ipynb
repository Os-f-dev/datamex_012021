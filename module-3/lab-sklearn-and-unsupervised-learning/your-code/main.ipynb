{
  "nbformat": 4,
  "nbformat_minor": 0,
  "metadata": {
    "kernelspec": {
      "display_name": "Python 3",
      "language": "python",
      "name": "python3"
    },
    "language_info": {
      "codemirror_mode": {
        "name": "ipython",
        "version": 3
      },
      "file_extension": ".py",
      "mimetype": "text/x-python",
      "name": "python",
      "nbconvert_exporter": "python",
      "pygments_lexer": "ipython3",
      "version": "3.9.2"
    },
    "colab": {
      "name": "main.ipynb",
      "provenance": [],
      "collapsed_sections": []
    }
  },
  "cells": [
    {
      "cell_type": "markdown",
      "metadata": {
        "id": "7DhFbRtjaepo"
      },
      "source": [
        "# Before your start:\n",
        "- Read the README.md file\n",
        "- Comment as much as you can and use the resources in the README.md file\n",
        "- Happy learning!\n"
      ]
    },
    {
      "cell_type": "code",
      "metadata": {
        "id": "pbMgnf-taepv"
      },
      "source": [
        "#Import your libraries\n",
        "import pandas as pd\n",
        "import numpy as np"
      ],
      "execution_count": 67,
      "outputs": []
    },
    {
      "cell_type": "markdown",
      "metadata": {
        "id": "4V5IkjN3aepw"
      },
      "source": [
        "# Challenge 1 -  Explore the Internal Dataset\n",
        "\n",
        "In this lab, we will start off by working with the wine dataset in scikit-learn. We will select the wine dataset and use a clustering algorithm to learn more about the functionalities of this library. \n",
        "\n",
        "We start off by loading the dataset using the `load_wine` function ([documentation](https://scikit-learn.org/stable/modules/generated/sklearn.datasets.load_wine.html)). In the cell below, we will import the function from scikit-learn."
      ]
    },
    {
      "cell_type": "code",
      "metadata": {
        "scrolled": true,
        "id": "JOPMi4Pvaepw"
      },
      "source": [
        "from sklearn.datasets import load_wine"
      ],
      "execution_count": 68,
      "outputs": []
    },
    {
      "cell_type": "markdown",
      "metadata": {
        "id": "4iHujerraepw"
      },
      "source": [
        "In the cell below, use the `load_wine` function and assign the wine dataset to a variable called `wine`."
      ]
    },
    {
      "cell_type": "code",
      "metadata": {
        "id": "u6n6I7Qyaepx"
      },
      "source": [
        "# Your code here:\n",
        "wine = load_wine()"
      ],
      "execution_count": 69,
      "outputs": []
    },
    {
      "cell_type": "markdown",
      "metadata": {
        "id": "8pByqvyXaepx"
      },
      "source": [
        "In the next step, list the keys of the variable `wine` to examine its contents. Note that the `load_wine` function does not return dataframes. It returns you a Python dictionary."
      ]
    },
    {
      "cell_type": "code",
      "metadata": {
        "colab": {
          "base_uri": "https://localhost:8080/"
        },
        "id": "Va3I8dw-aepx",
        "outputId": "b164046c-c044-4474-e3db-3cb3bbfd97e4"
      },
      "source": [
        "# Your code here:\n",
        "wine.keys()"
      ],
      "execution_count": 70,
      "outputs": [
        {
          "output_type": "execute_result",
          "data": {
            "text/plain": [
              "dict_keys(['data', 'target', 'target_names', 'DESCR', 'feature_names'])"
            ]
          },
          "metadata": {
            "tags": []
          },
          "execution_count": 70
        }
      ]
    },
    {
      "cell_type": "markdown",
      "metadata": {
        "id": "3F-jYWW7aepy"
      },
      "source": [
        "Next, list the feature names. These are the different characteristics of the wine. "
      ]
    },
    {
      "cell_type": "code",
      "metadata": {
        "colab": {
          "base_uri": "https://localhost:8080/"
        },
        "id": "IhmBQUK4aepy",
        "outputId": "39b4651d-cbe9-4994-edc4-4f2a2189df20"
      },
      "source": [
        "# Your code here:\n",
        "wine['feature_names']"
      ],
      "execution_count": 71,
      "outputs": [
        {
          "output_type": "execute_result",
          "data": {
            "text/plain": [
              "['alcohol',\n",
              " 'malic_acid',\n",
              " 'ash',\n",
              " 'alcalinity_of_ash',\n",
              " 'magnesium',\n",
              " 'total_phenols',\n",
              " 'flavanoids',\n",
              " 'nonflavanoid_phenols',\n",
              " 'proanthocyanins',\n",
              " 'color_intensity',\n",
              " 'hue',\n",
              " 'od280/od315_of_diluted_wines',\n",
              " 'proline']"
            ]
          },
          "metadata": {
            "tags": []
          },
          "execution_count": 71
        }
      ]
    },
    {
      "cell_type": "markdown",
      "metadata": {
        "id": "JMtfS03Vaepy"
      },
      "source": [
        "Print the description of the dataset in the cell below using the `DESCR` attribute of the `wine` variable.\n",
        "\n",
        "*Hint: If your output is ill-formatted by displaying linebreaks as `\\n`, it means you are not using the print function.*"
      ]
    },
    {
      "cell_type": "code",
      "metadata": {
        "colab": {
          "base_uri": "https://localhost:8080/",
          "height": 157
        },
        "id": "JqmKEMX6aepy",
        "outputId": "420fe91d-a51f-436d-d5db-803ecbe1c81b"
      },
      "source": [
        "# Your code here:\n",
        "wine[\"DESCR\"]"
      ],
      "execution_count": 72,
      "outputs": [
        {
          "output_type": "execute_result",
          "data": {
            "application/vnd.google.colaboratory.intrinsic+json": {
              "type": "string"
            },
            "text/plain": [
              "'.. _wine_dataset:\\n\\nWine recognition dataset\\n------------------------\\n\\n**Data Set Characteristics:**\\n\\n    :Number of Instances: 178 (50 in each of three classes)\\n    :Number of Attributes: 13 numeric, predictive attributes and the class\\n    :Attribute Information:\\n \\t\\t- Alcohol\\n \\t\\t- Malic acid\\n \\t\\t- Ash\\n\\t\\t- Alcalinity of ash  \\n \\t\\t- Magnesium\\n\\t\\t- Total phenols\\n \\t\\t- Flavanoids\\n \\t\\t- Nonflavanoid phenols\\n \\t\\t- Proanthocyanins\\n\\t\\t- Color intensity\\n \\t\\t- Hue\\n \\t\\t- OD280/OD315 of diluted wines\\n \\t\\t- Proline\\n\\n    - class:\\n            - class_0\\n            - class_1\\n            - class_2\\n\\t\\t\\n    :Summary Statistics:\\n    \\n    ============================= ==== ===== ======= =====\\n                                   Min   Max   Mean     SD\\n    ============================= ==== ===== ======= =====\\n    Alcohol:                      11.0  14.8    13.0   0.8\\n    Malic Acid:                   0.74  5.80    2.34  1.12\\n    Ash:                          1.36  3.23    2.36  0.27\\n    Alcalinity of Ash:            10.6  30.0    19.5   3.3\\n    Magnesium:                    70.0 162.0    99.7  14.3\\n    Total Phenols:                0.98  3.88    2.29  0.63\\n    Flavanoids:                   0.34  5.08    2.03  1.00\\n    Nonflavanoid Phenols:         0.13  0.66    0.36  0.12\\n    Proanthocyanins:              0.41  3.58    1.59  0.57\\n    Colour Intensity:              1.3  13.0     5.1   2.3\\n    Hue:                          0.48  1.71    0.96  0.23\\n    OD280/OD315 of diluted wines: 1.27  4.00    2.61  0.71\\n    Proline:                       278  1680     746   315\\n    ============================= ==== ===== ======= =====\\n\\n    :Missing Attribute Values: None\\n    :Class Distribution: class_0 (59), class_1 (71), class_2 (48)\\n    :Creator: R.A. Fisher\\n    :Donor: Michael Marshall (MARSHALL%PLU@io.arc.nasa.gov)\\n    :Date: July, 1988\\n\\nThis is a copy of UCI ML Wine recognition datasets.\\nhttps://archive.ics.uci.edu/ml/machine-learning-databases/wine/wine.data\\n\\nThe data is the results of a chemical analysis of wines grown in the same\\nregion in Italy by three different cultivators. There are thirteen different\\nmeasurements taken for different constituents found in the three types of\\nwine.\\n\\nOriginal Owners: \\n\\nForina, M. et al, PARVUS - \\nAn Extendible Package for Data Exploration, Classification and Correlation. \\nInstitute of Pharmaceutical and Food Analysis and Technologies,\\nVia Brigata Salerno, 16147 Genoa, Italy.\\n\\nCitation:\\n\\nLichman, M. (2013). UCI Machine Learning Repository\\n[https://archive.ics.uci.edu/ml]. Irvine, CA: University of California,\\nSchool of Information and Computer Science. \\n\\n.. topic:: References\\n\\n  (1) S. Aeberhard, D. Coomans and O. de Vel, \\n  Comparison of Classifiers in High Dimensional Settings, \\n  Tech. Rep. no. 92-02, (1992), Dept. of Computer Science and Dept. of  \\n  Mathematics and Statistics, James Cook University of North Queensland. \\n  (Also submitted to Technometrics). \\n\\n  The data was used with many others for comparing various \\n  classifiers. The classes are separable, though only RDA \\n  has achieved 100% correct classification. \\n  (RDA : 100%, QDA 99.4%, LDA 98.9%, 1NN 96.1% (z-transformed data)) \\n  (All results using the leave-one-out technique) \\n\\n  (2) S. Aeberhard, D. Coomans and O. de Vel, \\n  \"THE CLASSIFICATION PERFORMANCE OF RDA\" \\n  Tech. Rep. no. 92-01, (1992), Dept. of Computer Science and Dept. of \\n  Mathematics and Statistics, James Cook University of North Queensland. \\n  (Also submitted to Journal of Chemometrics).\\n'"
            ]
          },
          "metadata": {
            "tags": []
          },
          "execution_count": 72
        }
      ]
    },
    {
      "cell_type": "markdown",
      "metadata": {
        "id": "Lk6n9P4gaepz"
      },
      "source": [
        "#### From the description, we see that all columns are numeric. We also know that there is no missing data \n",
        "\n",
        "Let's plot the alcohol content histogram. Recall that we are working with a numpy array and will need to use a matplotlib function to produce a histogram. "
      ]
    },
    {
      "cell_type": "code",
      "metadata": {
        "id": "MV_GQXMBaepz"
      },
      "source": [
        "# imports\n",
        "import matplotlib.pyplot as plt"
      ],
      "execution_count": 73,
      "outputs": []
    },
    {
      "cell_type": "code",
      "metadata": {
        "id": "QxQ8NZyJaepz"
      },
      "source": [
        "# Your code here:\n",
        "wine_df = pd.DataFrame(data=np.hstack([wine.data,\n",
        "                       wine.target.reshape(-1,1)]),\n",
        "                       columns=wine.feature_names + ['target'])"
      ],
      "execution_count": 74,
      "outputs": []
    },
    {
      "cell_type": "code",
      "metadata": {
        "colab": {
          "base_uri": "https://localhost:8080/",
          "height": 224
        },
        "id": "mZth6ysaaepz",
        "outputId": "ccfc5c9f-c7a6-4c57-a576-a72723733982"
      },
      "source": [
        "wine_df.head()"
      ],
      "execution_count": 75,
      "outputs": [
        {
          "output_type": "execute_result",
          "data": {
            "text/html": [
              "<div>\n",
              "<style scoped>\n",
              "    .dataframe tbody tr th:only-of-type {\n",
              "        vertical-align: middle;\n",
              "    }\n",
              "\n",
              "    .dataframe tbody tr th {\n",
              "        vertical-align: top;\n",
              "    }\n",
              "\n",
              "    .dataframe thead th {\n",
              "        text-align: right;\n",
              "    }\n",
              "</style>\n",
              "<table border=\"1\" class=\"dataframe\">\n",
              "  <thead>\n",
              "    <tr style=\"text-align: right;\">\n",
              "      <th></th>\n",
              "      <th>alcohol</th>\n",
              "      <th>malic_acid</th>\n",
              "      <th>ash</th>\n",
              "      <th>alcalinity_of_ash</th>\n",
              "      <th>magnesium</th>\n",
              "      <th>total_phenols</th>\n",
              "      <th>flavanoids</th>\n",
              "      <th>nonflavanoid_phenols</th>\n",
              "      <th>proanthocyanins</th>\n",
              "      <th>color_intensity</th>\n",
              "      <th>hue</th>\n",
              "      <th>od280/od315_of_diluted_wines</th>\n",
              "      <th>proline</th>\n",
              "      <th>target</th>\n",
              "    </tr>\n",
              "  </thead>\n",
              "  <tbody>\n",
              "    <tr>\n",
              "      <th>0</th>\n",
              "      <td>14.23</td>\n",
              "      <td>1.71</td>\n",
              "      <td>2.43</td>\n",
              "      <td>15.6</td>\n",
              "      <td>127.0</td>\n",
              "      <td>2.80</td>\n",
              "      <td>3.06</td>\n",
              "      <td>0.28</td>\n",
              "      <td>2.29</td>\n",
              "      <td>5.64</td>\n",
              "      <td>1.04</td>\n",
              "      <td>3.92</td>\n",
              "      <td>1065.0</td>\n",
              "      <td>0.0</td>\n",
              "    </tr>\n",
              "    <tr>\n",
              "      <th>1</th>\n",
              "      <td>13.20</td>\n",
              "      <td>1.78</td>\n",
              "      <td>2.14</td>\n",
              "      <td>11.2</td>\n",
              "      <td>100.0</td>\n",
              "      <td>2.65</td>\n",
              "      <td>2.76</td>\n",
              "      <td>0.26</td>\n",
              "      <td>1.28</td>\n",
              "      <td>4.38</td>\n",
              "      <td>1.05</td>\n",
              "      <td>3.40</td>\n",
              "      <td>1050.0</td>\n",
              "      <td>0.0</td>\n",
              "    </tr>\n",
              "    <tr>\n",
              "      <th>2</th>\n",
              "      <td>13.16</td>\n",
              "      <td>2.36</td>\n",
              "      <td>2.67</td>\n",
              "      <td>18.6</td>\n",
              "      <td>101.0</td>\n",
              "      <td>2.80</td>\n",
              "      <td>3.24</td>\n",
              "      <td>0.30</td>\n",
              "      <td>2.81</td>\n",
              "      <td>5.68</td>\n",
              "      <td>1.03</td>\n",
              "      <td>3.17</td>\n",
              "      <td>1185.0</td>\n",
              "      <td>0.0</td>\n",
              "    </tr>\n",
              "    <tr>\n",
              "      <th>3</th>\n",
              "      <td>14.37</td>\n",
              "      <td>1.95</td>\n",
              "      <td>2.50</td>\n",
              "      <td>16.8</td>\n",
              "      <td>113.0</td>\n",
              "      <td>3.85</td>\n",
              "      <td>3.49</td>\n",
              "      <td>0.24</td>\n",
              "      <td>2.18</td>\n",
              "      <td>7.80</td>\n",
              "      <td>0.86</td>\n",
              "      <td>3.45</td>\n",
              "      <td>1480.0</td>\n",
              "      <td>0.0</td>\n",
              "    </tr>\n",
              "    <tr>\n",
              "      <th>4</th>\n",
              "      <td>13.24</td>\n",
              "      <td>2.59</td>\n",
              "      <td>2.87</td>\n",
              "      <td>21.0</td>\n",
              "      <td>118.0</td>\n",
              "      <td>2.80</td>\n",
              "      <td>2.69</td>\n",
              "      <td>0.39</td>\n",
              "      <td>1.82</td>\n",
              "      <td>4.32</td>\n",
              "      <td>1.04</td>\n",
              "      <td>2.93</td>\n",
              "      <td>735.0</td>\n",
              "      <td>0.0</td>\n",
              "    </tr>\n",
              "  </tbody>\n",
              "</table>\n",
              "</div>"
            ],
            "text/plain": [
              "   alcohol  malic_acid   ash  ...  od280/od315_of_diluted_wines  proline  target\n",
              "0    14.23        1.71  2.43  ...                          3.92   1065.0     0.0\n",
              "1    13.20        1.78  2.14  ...                          3.40   1050.0     0.0\n",
              "2    13.16        2.36  2.67  ...                          3.17   1185.0     0.0\n",
              "3    14.37        1.95  2.50  ...                          3.45   1480.0     0.0\n",
              "4    13.24        2.59  2.87  ...                          2.93    735.0     0.0\n",
              "\n",
              "[5 rows x 14 columns]"
            ]
          },
          "metadata": {
            "tags": []
          },
          "execution_count": 75
        }
      ]
    },
    {
      "cell_type": "code",
      "metadata": {
        "colab": {
          "base_uri": "https://localhost:8080/",
          "height": 265
        },
        "id": "BqIw-1CSaep0",
        "outputId": "cf1edf28-081c-4e56-f4a5-2e485319246f"
      },
      "source": [
        "plt.hist(wine_df['alcohol']);"
      ],
      "execution_count": 76,
      "outputs": [
        {
          "output_type": "display_data",
          "data": {
            "image/png": "[encoded data removed]",
            "text/plain": [
              "<Figure size 432x288 with 1 Axes>"
            ]
          },
          "metadata": {
            "tags": [],
            "needs_background": "light"
          }
        }
      ]
    },
    {
      "cell_type": "markdown",
      "metadata": {
        "id": "ZlNHiQQfaep1"
      },
      "source": [
        "# Challenge 2 - Clustering the Internal Dataset\n",
        "\n",
        "In this portion of the lab, we will cluster the data to find common traits between the different wines. We will use the k-means clustering algorithm to achieve this goal.\n",
        "\n",
        "#### We start by importing k-means from scikit-learn and then proceed to create 4 clusters."
      ]
    },
    {
      "cell_type": "code",
      "metadata": {
        "id": "KSqVzG4saep1"
      },
      "source": [
        "# imports\n",
        "from sklearn.cluster import KMeans"
      ],
      "execution_count": 77,
      "outputs": []
    },
    {
      "cell_type": "code",
      "metadata": {
        "id": "uWlCsF5Zaep1"
      },
      "source": [
        "# Your code here:\n",
        "kmeans = KMeans(n_clusters=4).fit(wine_df)"
      ],
      "execution_count": 78,
      "outputs": []
    },
    {
      "cell_type": "markdown",
      "metadata": {
        "id": "T6WG3Vdeaep1"
      },
      "source": [
        "#### Print the cluster labels."
      ]
    },
    {
      "cell_type": "code",
      "metadata": {
        "colab": {
          "base_uri": "https://localhost:8080/"
        },
        "id": "GY3M57ceaep2",
        "outputId": "fce96439-b8ec-4e89-9f14-e3c38f62ac77"
      },
      "source": [
        "# Your code here:\n",
        "kmeans.labels_"
      ],
      "execution_count": 79,
      "outputs": [
        {
          "output_type": "execute_result",
          "data": {
            "text/plain": [
              "array([1, 1, 3, 3, 2, 3, 3, 3, 1, 1, 3, 3, 3, 1, 3, 3, 3, 1, 3, 2, 2, 2,\n",
              "       1, 1, 2, 2, 3, 3, 1, 1, 3, 3, 1, 3, 1, 1, 1, 1, 1, 2, 2, 1, 1, 2,\n",
              "       1, 1, 1, 1, 1, 3, 1, 3, 3, 3, 1, 1, 1, 3, 3, 0, 2, 0, 2, 0, 0, 2,\n",
              "       0, 0, 2, 2, 1, 0, 0, 1, 1, 0, 0, 0, 2, 0, 0, 2, 2, 0, 0, 0, 0, 0,\n",
              "       2, 2, 0, 0, 0, 0, 0, 1, 2, 0, 2, 0, 2, 0, 0, 0, 2, 0, 0, 0, 0, 2,\n",
              "       0, 0, 2, 0, 0, 0, 0, 0, 0, 0, 2, 0, 0, 0, 0, 0, 0, 0, 0, 2, 2, 0,\n",
              "       0, 2, 2, 2, 2, 0, 2, 2, 2, 2, 0, 0, 2, 2, 0, 2, 2, 0, 0, 0, 0, 2,\n",
              "       2, 2, 0, 1, 2, 2, 0, 2, 0, 2, 2, 0, 2, 2, 2, 2, 0, 0, 2, 2, 2, 2,\n",
              "       2, 0], dtype=int32)"
            ]
          },
          "metadata": {
            "tags": []
          },
          "execution_count": 79
        }
      ]
    },
    {
      "cell_type": "markdown",
      "metadata": {
        "id": "3Y34rPtwaep2"
      },
      "source": [
        "#### Compute the size of each cluster. This can be done by counting the number of occurrences of each unique label in the list above.\n",
        "\n",
        "Which is the largest cluster of the 4?"
      ]
    },
    {
      "cell_type": "code",
      "metadata": {
        "colab": {
          "base_uri": "https://localhost:8080/"
        },
        "id": "Af8HrM8faep2",
        "outputId": "504f0269-cd74-4204-bc0c-b6ef69bbfa72"
      },
      "source": [
        "# Your code here:\n",
        "np.unique(kmeans.labels_,return_counts=True)"
      ],
      "execution_count": 80,
      "outputs": [
        {
          "output_type": "execute_result",
          "data": {
            "text/plain": [
              "(array([0, 1, 2, 3], dtype=int32), array([66, 32, 57, 23]))"
            ]
          },
          "metadata": {
            "tags": []
          },
          "execution_count": 80
        }
      ]
    },
    {
      "cell_type": "code",
      "metadata": {
        "id": "Arl0WTojaep3"
      },
      "source": [
        "# Your answer here:\n",
        "# The largest is cluster 2"
      ],
      "execution_count": 81,
      "outputs": []
    },
    {
      "cell_type": "markdown",
      "metadata": {
        "id": "5Y0dvAteaep3"
      },
      "source": [
        "#### Inspect the shape of `wine['data']`"
      ]
    },
    {
      "cell_type": "code",
      "metadata": {
        "colab": {
          "base_uri": "https://localhost:8080/"
        },
        "id": "2haZZg4Baep3",
        "outputId": "d8d2dfba-8efe-4c2b-82f1-88353ed37d3e"
      },
      "source": [
        "# Your code here:\n",
        "wine['data'].shape"
      ],
      "execution_count": 82,
      "outputs": [
        {
          "output_type": "execute_result",
          "data": {
            "text/plain": [
              "(178, 13)"
            ]
          },
          "metadata": {
            "tags": []
          },
          "execution_count": 82
        }
      ]
    },
    {
      "cell_type": "markdown",
      "metadata": {
        "id": "BYudrHtRaep3"
      },
      "source": [
        "#### Inspect the first 5 records in `wine['data']`"
      ]
    },
    {
      "cell_type": "code",
      "metadata": {
        "colab": {
          "base_uri": "https://localhost:8080/"
        },
        "id": "qfOUCukpaep3",
        "outputId": "18c83eb7-b337-490a-d634-6591b78c4875"
      },
      "source": [
        "# Your code here:\n",
        "wine['data'][:5]"
      ],
      "execution_count": 83,
      "outputs": [
        {
          "output_type": "execute_result",
          "data": {
            "text/plain": [
              "array([[1.423e+01, 1.710e+00, 2.430e+00, 1.560e+01, 1.270e+02, 2.800e+00,\n",
              "        3.060e+00, 2.800e-01, 2.290e+00, 5.640e+00, 1.040e+00, 3.920e+00,\n",
              "        1.065e+03],\n",
              "       [1.320e+01, 1.780e+00, 2.140e+00, 1.120e+01, 1.000e+02, 2.650e+00,\n",
              "        2.760e+00, 2.600e-01, 1.280e+00, 4.380e+00, 1.050e+00, 3.400e+00,\n",
              "        1.050e+03],\n",
              "       [1.316e+01, 2.360e+00, 2.670e+00, 1.860e+01, 1.010e+02, 2.800e+00,\n",
              "        3.240e+00, 3.000e-01, 2.810e+00, 5.680e+00, 1.030e+00, 3.170e+00,\n",
              "        1.185e+03],\n",
              "       [1.437e+01, 1.950e+00, 2.500e+00, 1.680e+01, 1.130e+02, 3.850e+00,\n",
              "        3.490e+00, 2.400e-01, 2.180e+00, 7.800e+00, 8.600e-01, 3.450e+00,\n",
              "        1.480e+03],\n",
              "       [1.324e+01, 2.590e+00, 2.870e+00, 2.100e+01, 1.180e+02, 2.800e+00,\n",
              "        2.690e+00, 3.900e-01, 1.820e+00, 4.320e+00, 1.040e+00, 2.930e+00,\n",
              "        7.350e+02]])"
            ]
          },
          "metadata": {
            "tags": []
          },
          "execution_count": 83
        }
      ]
    },
    {
      "cell_type": "markdown",
      "metadata": {
        "id": "AvOPvpdqaep3"
      },
      "source": [
        "You now know the data object is a 2-dimensional array in which there are 178 rows and 13 columns. Each row is a data record and each column is a feature.\n",
        "\n",
        "#### What is the average ash content for each cluster? \n",
        "\n",
        "*Hints:* \n",
        "\n",
        "* *Ash* is the 3rd column.\n",
        "\n",
        "* The data object is not a Pandas dataframe so you can't apply `pandas.DataFrame.groupby`. Instead, you can use `np.average`."
      ]
    },
    {
      "cell_type": "code",
      "metadata": {
        "id": "bZM4v6bBaep4"
      },
      "source": [
        "# Your code here:\n",
        "wine_df = pd.concat([wine_df,pd.DataFrame(kmeans.labels_)],axis=1)"
      ],
      "execution_count": 84,
      "outputs": []
    },
    {
      "cell_type": "code",
      "metadata": {
        "colab": {
          "base_uri": "https://localhost:8080/",
          "height": 224
        },
        "id": "RXcnryggaep4",
        "outputId": "85c8ecc0-87d0-48e5-d1bb-f9526b78fc4c"
      },
      "source": [
        "wine_df.rename(columns={0:'cluster'},inplace=True)\n",
        "wine_df.head()"
      ],
      "execution_count": 85,
      "outputs": [
        {
          "output_type": "execute_result",
          "data": {
            "text/html": [
              "<div>\n",
              "<style scoped>\n",
              "    .dataframe tbody tr th:only-of-type {\n",
              "        vertical-align: middle;\n",
              "    }\n",
              "\n",
              "    .dataframe tbody tr th {\n",
              "        vertical-align: top;\n",
              "    }\n",
              "\n",
              "    .dataframe thead th {\n",
              "        text-align: right;\n",
              "    }\n",
              "</style>\n",
              "<table border=\"1\" class=\"dataframe\">\n",
              "  <thead>\n",
              "    <tr style=\"text-align: right;\">\n",
              "      <th></th>\n",
              "      <th>alcohol</th>\n",
              "      <th>malic_acid</th>\n",
              "      <th>ash</th>\n",
              "      <th>alcalinity_of_ash</th>\n",
              "      <th>magnesium</th>\n",
              "      <th>total_phenols</th>\n",
              "      <th>flavanoids</th>\n",
              "      <th>nonflavanoid_phenols</th>\n",
              "      <th>proanthocyanins</th>\n",
              "      <th>color_intensity</th>\n",
              "      <th>hue</th>\n",
              "      <th>od280/od315_of_diluted_wines</th>\n",
              "      <th>proline</th>\n",
              "      <th>target</th>\n",
              "      <th>cluster</th>\n",
              "    </tr>\n",
              "  </thead>\n",
              "  <tbody>\n",
              "    <tr>\n",
              "      <th>0</th>\n",
              "      <td>14.23</td>\n",
              "      <td>1.71</td>\n",
              "      <td>2.43</td>\n",
              "      <td>15.6</td>\n",
              "      <td>127.0</td>\n",
              "      <td>2.80</td>\n",
              "      <td>3.06</td>\n",
              "      <td>0.28</td>\n",
              "      <td>2.29</td>\n",
              "      <td>5.64</td>\n",
              "      <td>1.04</td>\n",
              "      <td>3.92</td>\n",
              "      <td>1065.0</td>\n",
              "      <td>0.0</td>\n",
              "      <td>1</td>\n",
              "    </tr>\n",
              "    <tr>\n",
              "      <th>1</th>\n",
              "      <td>13.20</td>\n",
              "      <td>1.78</td>\n",
              "      <td>2.14</td>\n",
              "      <td>11.2</td>\n",
              "      <td>100.0</td>\n",
              "      <td>2.65</td>\n",
              "      <td>2.76</td>\n",
              "      <td>0.26</td>\n",
              "      <td>1.28</td>\n",
              "      <td>4.38</td>\n",
              "      <td>1.05</td>\n",
              "      <td>3.40</td>\n",
              "      <td>1050.0</td>\n",
              "      <td>0.0</td>\n",
              "      <td>1</td>\n",
              "    </tr>\n",
              "    <tr>\n",
              "      <th>2</th>\n",
              "      <td>13.16</td>\n",
              "      <td>2.36</td>\n",
              "      <td>2.67</td>\n",
              "      <td>18.6</td>\n",
              "      <td>101.0</td>\n",
              "      <td>2.80</td>\n",
              "      <td>3.24</td>\n",
              "      <td>0.30</td>\n",
              "      <td>2.81</td>\n",
              "      <td>5.68</td>\n",
              "      <td>1.03</td>\n",
              "      <td>3.17</td>\n",
              "      <td>1185.0</td>\n",
              "      <td>0.0</td>\n",
              "      <td>3</td>\n",
              "    </tr>\n",
              "    <tr>\n",
              "      <th>3</th>\n",
              "      <td>14.37</td>\n",
              "      <td>1.95</td>\n",
              "      <td>2.50</td>\n",
              "      <td>16.8</td>\n",
              "      <td>113.0</td>\n",
              "      <td>3.85</td>\n",
              "      <td>3.49</td>\n",
              "      <td>0.24</td>\n",
              "      <td>2.18</td>\n",
              "      <td>7.80</td>\n",
              "      <td>0.86</td>\n",
              "      <td>3.45</td>\n",
              "      <td>1480.0</td>\n",
              "      <td>0.0</td>\n",
              "      <td>3</td>\n",
              "    </tr>\n",
              "    <tr>\n",
              "      <th>4</th>\n",
              "      <td>13.24</td>\n",
              "      <td>2.59</td>\n",
              "      <td>2.87</td>\n",
              "      <td>21.0</td>\n",
              "      <td>118.0</td>\n",
              "      <td>2.80</td>\n",
              "      <td>2.69</td>\n",
              "      <td>0.39</td>\n",
              "      <td>1.82</td>\n",
              "      <td>4.32</td>\n",
              "      <td>1.04</td>\n",
              "      <td>2.93</td>\n",
              "      <td>735.0</td>\n",
              "      <td>0.0</td>\n",
              "      <td>2</td>\n",
              "    </tr>\n",
              "  </tbody>\n",
              "</table>\n",
              "</div>"
            ],
            "text/plain": [
              "   alcohol  malic_acid   ash  ...  proline  target  cluster\n",
              "0    14.23        1.71  2.43  ...   1065.0     0.0        1\n",
              "1    13.20        1.78  2.14  ...   1050.0     0.0        1\n",
              "2    13.16        2.36  2.67  ...   1185.0     0.0        3\n",
              "3    14.37        1.95  2.50  ...   1480.0     0.0        3\n",
              "4    13.24        2.59  2.87  ...    735.0     0.0        2\n",
              "\n",
              "[5 rows x 15 columns]"
            ]
          },
          "metadata": {
            "tags": []
          },
          "execution_count": 85
        }
      ]
    },
    {
      "cell_type": "code",
      "metadata": {
        "colab": {
          "base_uri": "https://localhost:8080/"
        },
        "id": "5OBgCHtLaep4",
        "outputId": "d9c622a6-74a8-4429-a786-840f434ea2fb"
      },
      "source": [
        "wine_df.groupby(\"cluster\")[\"ash\"].mean()"
      ],
      "execution_count": 138,
      "outputs": [
        {
          "output_type": "execute_result",
          "data": {
            "text/plain": [
              "cluster\n",
              "0    2.283788\n",
              "1    2.370937\n",
              "2    2.403158\n",
              "3    2.506957\n",
              "Name: ash, dtype: float64"
            ]
          },
          "metadata": {
            "tags": []
          },
          "execution_count": 138
        }
      ]
    },
    {
      "cell_type": "markdown",
      "metadata": {
        "id": "cPA54qmFaep4"
      },
      "source": [
        "# Challenge 3 - Load and Explore an External Dataset\n",
        "\n",
        "We will now load an external dataset using Pandas and use scikit learn to explore the data. In this portion of the lab, we will use a [patient dataset from Kaggle](https://www.kaggle.com/miles99/patient-admission-dataset-for-learning-data-mining). "
      ]
    },
    {
      "cell_type": "code",
      "metadata": {
        "id": "r2V29XPfaep6"
      },
      "source": [
        "patients = pd.read_csv('patient-admission-dataset-for-learning-data-mining.csv')"
      ],
      "execution_count": 216,
      "outputs": []
    },
    {
      "cell_type": "markdown",
      "metadata": {
        "id": "MiGN4KGTaep7"
      },
      "source": [
        "In the next cell, print the first five rows of the data using the `head()` function."
      ]
    },
    {
      "cell_type": "code",
      "metadata": {
        "colab": {
          "base_uri": "https://localhost:8080/",
          "height": 275
        },
        "id": "zjjCmxi7aep7",
        "outputId": "d97d2d8b-725b-4f2f-cf7b-aff0c847bbf6"
      },
      "source": [
        "# Your code here:\n",
        "patients.head()"
      ],
      "execution_count": 226,
      "outputs": [
        {
          "output_type": "execute_result",
          "data": {
            "text/html": [
              "<div>\n",
              "<style scoped>\n",
              "    .dataframe tbody tr th:only-of-type {\n",
              "        vertical-align: middle;\n",
              "    }\n",
              "\n",
              "    .dataframe tbody tr th {\n",
              "        vertical-align: top;\n",
              "    }\n",
              "\n",
              "    .dataframe thead th {\n",
              "        text-align: right;\n",
              "    }\n",
              "</style>\n",
              "<table border=\"1\" class=\"dataframe\">\n",
              "  <thead>\n",
              "    <tr style=\"text-align: right;\">\n",
              "      <th></th>\n",
              "      <th>patient_gender</th>\n",
              "      <th>patient_dob</th>\n",
              "      <th>patient_diabetic</th>\n",
              "      <th>patient_allergic</th>\n",
              "      <th>patient_weight_kg</th>\n",
              "      <th>patient_height_sm</th>\n",
              "      <th>doctor_name</th>\n",
              "      <th>appointment_date</th>\n",
              "      <th>patient_show</th>\n",
              "      <th>is_regular_visit</th>\n",
              "      <th>prescribed_medicines</th>\n",
              "      <th>diagnosis</th>\n",
              "    </tr>\n",
              "  </thead>\n",
              "  <tbody>\n",
              "    <tr>\n",
              "      <th>0</th>\n",
              "      <td>Female</td>\n",
              "      <td>2018-10-18</td>\n",
              "      <td>False</td>\n",
              "      <td>True</td>\n",
              "      <td>59</td>\n",
              "      <td>176</td>\n",
              "      <td>Sarena Waliszek</td>\n",
              "      <td>2018-05-01</td>\n",
              "      <td>True</td>\n",
              "      <td>True</td>\n",
              "      <td>triamcinolone acetonide</td>\n",
              "      <td>I669</td>\n",
              "    </tr>\n",
              "    <tr>\n",
              "      <th>1</th>\n",
              "      <td>Female</td>\n",
              "      <td>2018-02-08</td>\n",
              "      <td>False</td>\n",
              "      <td>True</td>\n",
              "      <td>77</td>\n",
              "      <td>186</td>\n",
              "      <td>Farris Robinet</td>\n",
              "      <td>2017-12-07</td>\n",
              "      <td>True</td>\n",
              "      <td>True</td>\n",
              "      <td>NaN</td>\n",
              "      <td>NaN</td>\n",
              "    </tr>\n",
              "    <tr>\n",
              "      <th>2</th>\n",
              "      <td>Female</td>\n",
              "      <td>2018-10-09</td>\n",
              "      <td>True</td>\n",
              "      <td>True</td>\n",
              "      <td>90</td>\n",
              "      <td>177</td>\n",
              "      <td>Kaspar Spitaro</td>\n",
              "      <td>2018-10-05</td>\n",
              "      <td>False</td>\n",
              "      <td>False</td>\n",
              "      <td>NaN</td>\n",
              "      <td>NaN</td>\n",
              "    </tr>\n",
              "    <tr>\n",
              "      <th>3</th>\n",
              "      <td>Male</td>\n",
              "      <td>2018-09-10</td>\n",
              "      <td>True</td>\n",
              "      <td>True</td>\n",
              "      <td>70</td>\n",
              "      <td>150</td>\n",
              "      <td>Rafferty Fowls</td>\n",
              "      <td>2018-10-21</td>\n",
              "      <td>False</td>\n",
              "      <td>True</td>\n",
              "      <td>NaN</td>\n",
              "      <td>NaN</td>\n",
              "    </tr>\n",
              "    <tr>\n",
              "      <th>4</th>\n",
              "      <td>Female</td>\n",
              "      <td>2018-02-26</td>\n",
              "      <td>False</td>\n",
              "      <td>True</td>\n",
              "      <td>82</td>\n",
              "      <td>140</td>\n",
              "      <td>Glenna MacNeachtain</td>\n",
              "      <td>2018-11-15</td>\n",
              "      <td>False</td>\n",
              "      <td>False</td>\n",
              "      <td>NaN</td>\n",
              "      <td>NaN</td>\n",
              "    </tr>\n",
              "  </tbody>\n",
              "</table>\n",
              "</div>"
            ],
            "text/plain": [
              "  patient_gender patient_dob  ...     prescribed_medicines  diagnosis\n",
              "0         Female  2018-10-18  ...  triamcinolone acetonide       I669\n",
              "1         Female  2018-02-08  ...                      NaN        NaN\n",
              "2         Female  2018-10-09  ...                      NaN        NaN\n",
              "3           Male  2018-09-10  ...                      NaN        NaN\n",
              "4         Female  2018-02-26  ...                      NaN        NaN\n",
              "\n",
              "[5 rows x 12 columns]"
            ]
          },
          "metadata": {
            "tags": []
          },
          "execution_count": 226
        }
      ]
    },
    {
      "cell_type": "markdown",
      "metadata": {
        "id": "gAMT2Caaaep8"
      },
      "source": [
        "Next, print the column types and check which columns have been misclassified by pandas."
      ]
    },
    {
      "cell_type": "code",
      "metadata": {
        "colab": {
          "base_uri": "https://localhost:8080/"
        },
        "id": "AV3UC7Hhaep8",
        "outputId": "87169dfd-8db6-4c5c-a594-3bca79fdd21d"
      },
      "source": [
        "# Your code here:\n",
        "patients.info()"
      ],
      "execution_count": 218,
      "outputs": [
        {
          "output_type": "stream",
          "text": [
            "<class 'pandas.core.frame.DataFrame'>\n",
            "RangeIndex: 1000 entries, 0 to 999\n",
            "Data columns (total 17 columns):\n",
            " #   Column                Non-Null Count  Dtype  \n",
            "---  ------                --------------  -----  \n",
            " 0   id                    1000 non-null   int64  \n",
            " 1   patient_name          1000 non-null   object \n",
            " 2   patient_email         1000 non-null   object \n",
            " 3   doctor_phone          1000 non-null   object \n",
            " 4   patient_gender        1000 non-null   object \n",
            " 5   patient_dob           1000 non-null   object \n",
            " 6   patient_diabetic      1000 non-null   bool   \n",
            " 7   patient_allergic      1000 non-null   bool   \n",
            " 8   patient_weight_kg     1000 non-null   int64  \n",
            " 9   patient_height_sm     1000 non-null   int64  \n",
            " 10  patient_nhs_number    796 non-null    float64\n",
            " 11  doctor_name           942 non-null    object \n",
            " 12  appointment_date      1000 non-null   object \n",
            " 13  patient_show          1000 non-null   bool   \n",
            " 14  is_regular_visit      1000 non-null   bool   \n",
            " 15  prescribed_medicines  512 non-null    object \n",
            " 16  diagnosis             512 non-null    object \n",
            "dtypes: bool(4), float64(1), int64(3), object(9)\n",
            "memory usage: 105.6+ KB\n"
          ],
          "name": "stdout"
        }
      ]
    },
    {
      "cell_type": "markdown",
      "metadata": {
        "id": "Y-GHy12aaep8"
      },
      "source": [
        "#### We can see that none of the date columns have been correctly classified. Also, some columns contain qualitative data that can be dropped.\n",
        "\n",
        "First, transform the `patient_dob` and `appointment_date` columns to datetime using the `pd.to_datetime` function."
      ]
    },
    {
      "cell_type": "code",
      "metadata": {
        "id": "BCdnyK3-cV4W"
      },
      "source": [
        "from datetime import datetime"
      ],
      "execution_count": 219,
      "outputs": []
    },
    {
      "cell_type": "code",
      "metadata": {
        "id": "PBbbFTcQoHh8"
      },
      "source": [
        "# function\n",
        "\n",
        "def changeTimeFotmat(string_date):\n",
        "  striptime = datetime.strptime(string_date,'%m/%d/%Y')\n",
        "  fixed_date = pd.to_datetime(striptime,format='%Y%m%d',errors='raise')\n",
        "  return fixed_date"
      ],
      "execution_count": 222,
      "outputs": []
    },
    {
      "cell_type": "code",
      "metadata": {
        "id": "qW_8S7Itaep8"
      },
      "source": [
        "# Your code here:\n",
        "patients[\"patient_dob\"] = patients[\"patient_dob\"].apply(lambda x : changeTimeFotmat(x))\n",
        "\n",
        "patients[\"appointment_date\"] = patients[\"appointment_date\"].apply(lambda x : changeTimeFotmat(x))\n"
      ],
      "execution_count": 223,
      "outputs": []
    },
    {
      "cell_type": "markdown",
      "metadata": {
        "id": "zJS_pPBlaep8"
      },
      "source": [
        "Next, drop the `id`, `patient_name`, `patient_email`, `patient_nhs_number`, and `doctor_phone` columns. These are not quantitative columns and will not contribute to our analysis."
      ]
    },
    {
      "cell_type": "code",
      "metadata": {
        "id": "GYqAP9Biaep8"
      },
      "source": [
        "# Your code here:\n",
        "patients.drop([\"id\", \"patient_name\", \"patient_email\",\"patient_nhs_number\", \"doctor_phone\"], axis=1, inplace=True)"
      ],
      "execution_count": 225,
      "outputs": []
    },
    {
      "cell_type": "markdown",
      "metadata": {
        "id": "CcfRUJtLaep9"
      },
      "source": [
        "Now we work on the missing data. Most ML algorithms will not perform as intended if there are missing data.\n",
        "\n",
        "In the cell below, count how many rows contain missing data in each column. You should see three columns contain missing data:\n",
        "\n",
        "* `doctor_name`: 58 missing data\n",
        "* `prescribed_medicines`: 488 missing data\n",
        "* `diagnosis`: 488 missing data"
      ]
    },
    {
      "cell_type": "code",
      "metadata": {
        "colab": {
          "base_uri": "https://localhost:8080/"
        },
        "id": "KcsEvnH5aep9",
        "outputId": "06bfe76e-8025-4a74-c8a8-2b94641403e9"
      },
      "source": [
        "# Your code here:\n",
        "patients.isnull().sum()"
      ],
      "execution_count": 230,
      "outputs": [
        {
          "output_type": "execute_result",
          "data": {
            "text/plain": [
              "patient_gender          0\n",
              "patient_dob             0\n",
              "patient_diabetic        0\n",
              "patient_allergic        0\n",
              "patient_weight_kg       0\n",
              "patient_height_sm       0\n",
              "doctor_name             0\n",
              "appointment_date        0\n",
              "patient_show            0\n",
              "is_regular_visit        0\n",
              "prescribed_medicines    0\n",
              "diagnosis               0\n",
              "dtype: int64"
            ]
          },
          "metadata": {
            "tags": []
          },
          "execution_count": 230
        }
      ]
    },
    {
      "cell_type": "markdown",
      "metadata": {
        "id": "3JHnTy4uaep-"
      },
      "source": [
        "The main issues are found in the `prescribed_medicines` and `diagnosis` columns. Can we simply drop these rows?\n",
        "\n",
        "The answer is not yet. Because when there are missing data in these columns, it doesn't mean the data records are broken. Instead, it means no medication was prescribed and no diagnosis was recorded. Therefore, once we fill in the missing data these columns will be fine. But we'll revisit these columns and decide whether we will eventually drop them when we look at how many unique values are there in these categorical columns.  \n",
        "\n",
        "For the `prescribed_medicines` column, fill the missing values with the value `no prescription`. For the `diagnosis` column, fill the missing values with `no diagnosis`.\n",
        "\n",
        "*Hint: Use [`pandas.DataFrame.fillna`](https://pandas.pydata.org/pandas-docs/stable/generated/pandas.DataFrame.fillna.html).*"
      ]
    },
    {
      "cell_type": "code",
      "metadata": {
        "id": "rH2-EBJ_aep-"
      },
      "source": [
        "# Your code here:\n",
        "values = {'prescribed_medicines': 'no prescription', 'diagnosis': 'no diagnosis'}\n",
        "patients = patients.fillna(value=values)"
      ],
      "execution_count": 228,
      "outputs": []
    },
    {
      "cell_type": "markdown",
      "metadata": {
        "id": "fpLKnCrdaep-"
      },
      "source": [
        "How about `doctor_name`? Since a doctor visit without a doctor name might not be meaningful, we will drop these rows."
      ]
    },
    {
      "cell_type": "code",
      "metadata": {
        "id": "7OlGhJG8aep-"
      },
      "source": [
        "# Your code here:\n",
        "patients.dropna(axis=0,inplace=True)"
      ],
      "execution_count": 229,
      "outputs": []
    },
    {
      "cell_type": "markdown",
      "metadata": {
        "id": "b7t4fq3iaep-"
      },
      "source": [
        "#### Another step in preprocessing that can be performed by scikit-learn is label encoding. \n",
        "\n",
        "We have 4 columns that are of `bool` type. We would like to convert them to an integer column containing either zero or one. We can do this using [scikit-learn's label encoder](https://scikit-learn.org/stable/modules/generated/sklearn.preprocessing.LabelEncoder.html).\n",
        "\n",
        "In the cell below, import the label encoder and encode the 4 boolean columns (*patient_diabetic*, *patient_allergic*, *patient_show*, *is_regular_visit*) with `0` and `1`. "
      ]
    },
    {
      "cell_type": "code",
      "metadata": {
        "id": "RI8v2kdhd7h7"
      },
      "source": [
        "from sklearn.preprocessing import LabelEncoder"
      ],
      "execution_count": 231,
      "outputs": []
    },
    {
      "cell_type": "code",
      "metadata": {
        "id": "SOMpnzdpaep-"
      },
      "source": [
        "# Your code here:\n",
        "patients[\"patient_diabetic\"] = LabelEncoder().fit_transform(patients[\"patient_diabetic\"])\n",
        "patients[\"patient_allergic\"] = LabelEncoder().fit_transform(patients[\"patient_allergic\"])\n",
        "patients[\"patient_show\"] = LabelEncoder().fit_transform(patients[\"patient_show\"])\n",
        "patients[\"is_regular_visit\"] = LabelEncoder().fit_transform(patients[\"is_regular_visit\"])"
      ],
      "execution_count": 232,
      "outputs": []
    },
    {
      "cell_type": "markdown",
      "metadata": {
        "id": "g2rhAi8jaep-"
      },
      "source": [
        "Print the data dtypes to confirm those four `bool` columns are converted to `int64`."
      ]
    },
    {
      "cell_type": "code",
      "metadata": {
        "colab": {
          "base_uri": "https://localhost:8080/"
        },
        "id": "MA3axxeoaep-",
        "outputId": "978abc99-dd3c-4d0e-b3b0-f61b1c331e56"
      },
      "source": [
        "# Your code here:\n",
        "patients.dtypes"
      ],
      "execution_count": 234,
      "outputs": [
        {
          "output_type": "execute_result",
          "data": {
            "text/plain": [
              "patient_gender                  object\n",
              "patient_dob             datetime64[ns]\n",
              "patient_diabetic                 int64\n",
              "patient_allergic                 int64\n",
              "patient_weight_kg                int64\n",
              "patient_height_sm                int64\n",
              "doctor_name                     object\n",
              "appointment_date        datetime64[ns]\n",
              "patient_show                     int64\n",
              "is_regular_visit                 int64\n",
              "prescribed_medicines            object\n",
              "diagnosis                       object\n",
              "dtype: object"
            ]
          },
          "metadata": {
            "tags": []
          },
          "execution_count": 234
        }
      ]
    },
    {
      "cell_type": "markdown",
      "metadata": {
        "id": "sGxkAjr-aep-"
      },
      "source": [
        "#### The last step is to handle the `object` data.\n",
        "\n",
        "There are 4 `object` columns now: `patient_gender`, `doctor_name`, `prescribed_medicines`, and `diagnosis`. The gender columns\n",
        "\n",
        "In the next cell, check the unique values of each of the `object` columns using `value_counts()`."
      ]
    },
    {
      "cell_type": "code",
      "metadata": {
        "scrolled": false,
        "colab": {
          "base_uri": "https://localhost:8080/"
        },
        "id": "7JHKSU67aep-",
        "outputId": "29a0bb58-d96a-4121-b7d8-b7b6a4711fb2"
      },
      "source": [
        "# Your code here:\n",
        "print(patients[\"patient_gender\"].value_counts().head())\n",
        "print(patients[\"prescribed_medicines\"].value_counts().head())\n",
        "print(patients[\"diagnosis\"].value_counts().head())\n",
        "print(patients[\"doctor_name\"].value_counts().head())"
      ],
      "execution_count": 235,
      "outputs": [
        {
          "output_type": "stream",
          "text": [
            "Female    476\n",
            "Male      466\n",
            "Name: patient_gender, dtype: int64\n",
            "no prescription    457\n",
            "ALCOHOL              8\n",
            "Ibuprofen            6\n",
            "Triclosan            5\n",
            "Acetaminophen        5\n",
            "Name: prescribed_medicines, dtype: int64\n",
            "no diagnosis    457\n",
            "T2169             2\n",
            "S92334G           1\n",
            "W621XXS           1\n",
            "S52122B           1\n",
            "Name: diagnosis, dtype: int64\n",
            "Sarena Waliszek        74\n",
            "Cissy Markey           57\n",
            "Farris Robinet         55\n",
            "Flossy Canlin          55\n",
            "Glenna MacNeachtain    53\n",
            "Name: doctor_name, dtype: int64\n"
          ],
          "name": "stdout"
        }
      ]
    },
    {
      "cell_type": "markdown",
      "metadata": {
        "id": "aJPcYORXaep-"
      },
      "source": [
        "#### The number of unique values is large for all three columns except `patient_gender`. We will handle these columns differently.\n",
        "\n",
        "For `diagnosis`, there are too many unique values which will make ML difficult. However, we can re-encode the values to either with or without diagnosis. Remember at an earlier step we filled in the missing values of this column with *no diagnosis*? We can re-encode *no diagnosis* to `0` and all other values to `1`. In this way we can tremendously simply this column.\n",
        "\n",
        "For `prescribed_medicines`, we can drop this column because it is perfectly correlated with `diagnosis`. Whenever there is no diagnosis, there is no prescribed medicine. So we don't need to keep this duplicated data.\n",
        "\n",
        "How about `doctor_name`? There are not excessive unique values but still quite many (19). We may either drop or keep it but keeping it will make the analysis more complicated. So due to the length of this lab let's drop it.\n",
        "\n",
        "How about `gender`? This one is easy. Just like re-encoding the boolean values, we can re-encode gender to `0` and `1` because there are only 2 unique values.\n",
        "\n",
        "In the next cells, do the following:\n",
        "\n",
        "1. Create a new column called `diagnosis_int` that has `0` and `1` based on the values in `diagnosis`.\n",
        "\n",
        "1. Create a new column called `patient_gender_int` that has `0` and `1` based on the values in `patient_gender`.\n",
        "\n",
        "1. Drop the following columns: `doctor_name`, `diagnosis`, `prescribed_medicines`, and `patient_gender`."
      ]
    },
    {
      "cell_type": "code",
      "metadata": {
        "id": "ScR04iNwaep_"
      },
      "source": [
        "# Your code here:\n",
        "\n",
        "patients[\"patient_gender_int\"] = LabelEncoder().fit_transform(patients[\"patient_gender\"])\n",
        "patients[\"diagnosis_int\"] = patients[\"diagnosis\"].apply(lambda x: 0 if x == \"no diagnosis\" else 1)\n",
        "patients.drop([\"doctor_name\", \"diagnosis\", \"prescribed_medicines\", \"patient_gender\"], axis=1, inplace = True)"
      ],
      "execution_count": 236,
      "outputs": []
    },
    {
      "cell_type": "markdown",
      "metadata": {
        "id": "1FiPI6k5aep_"
      },
      "source": [
        "Let's look at the head again to ensure the re-encoding and dropping are successful:"
      ]
    },
    {
      "cell_type": "code",
      "metadata": {
        "colab": {
          "base_uri": "https://localhost:8080/",
          "height": 224
        },
        "id": "-zNAK7pYaep_",
        "outputId": "86973af3-6ed9-42b2-c892-0bcba28bcec5"
      },
      "source": [
        "# Your code here:\n",
        "patients.head()"
      ],
      "execution_count": 237,
      "outputs": [
        {
          "output_type": "execute_result",
          "data": {
            "text/html": [
              "<div>\n",
              "<style scoped>\n",
              "    .dataframe tbody tr th:only-of-type {\n",
              "        vertical-align: middle;\n",
              "    }\n",
              "\n",
              "    .dataframe tbody tr th {\n",
              "        vertical-align: top;\n",
              "    }\n",
              "\n",
              "    .dataframe thead th {\n",
              "        text-align: right;\n",
              "    }\n",
              "</style>\n",
              "<table border=\"1\" class=\"dataframe\">\n",
              "  <thead>\n",
              "    <tr style=\"text-align: right;\">\n",
              "      <th></th>\n",
              "      <th>patient_dob</th>\n",
              "      <th>patient_diabetic</th>\n",
              "      <th>patient_allergic</th>\n",
              "      <th>patient_weight_kg</th>\n",
              "      <th>patient_height_sm</th>\n",
              "      <th>appointment_date</th>\n",
              "      <th>patient_show</th>\n",
              "      <th>is_regular_visit</th>\n",
              "      <th>patient_gender_int</th>\n",
              "      <th>diagnosis_int</th>\n",
              "    </tr>\n",
              "  </thead>\n",
              "  <tbody>\n",
              "    <tr>\n",
              "      <th>0</th>\n",
              "      <td>2018-10-18</td>\n",
              "      <td>0</td>\n",
              "      <td>1</td>\n",
              "      <td>59</td>\n",
              "      <td>176</td>\n",
              "      <td>2018-05-01</td>\n",
              "      <td>1</td>\n",
              "      <td>1</td>\n",
              "      <td>0</td>\n",
              "      <td>1</td>\n",
              "    </tr>\n",
              "    <tr>\n",
              "      <th>1</th>\n",
              "      <td>2018-02-08</td>\n",
              "      <td>0</td>\n",
              "      <td>1</td>\n",
              "      <td>77</td>\n",
              "      <td>186</td>\n",
              "      <td>2017-12-07</td>\n",
              "      <td>1</td>\n",
              "      <td>1</td>\n",
              "      <td>0</td>\n",
              "      <td>0</td>\n",
              "    </tr>\n",
              "    <tr>\n",
              "      <th>2</th>\n",
              "      <td>2018-10-09</td>\n",
              "      <td>1</td>\n",
              "      <td>1</td>\n",
              "      <td>90</td>\n",
              "      <td>177</td>\n",
              "      <td>2018-10-05</td>\n",
              "      <td>0</td>\n",
              "      <td>0</td>\n",
              "      <td>0</td>\n",
              "      <td>0</td>\n",
              "    </tr>\n",
              "    <tr>\n",
              "      <th>3</th>\n",
              "      <td>2018-09-10</td>\n",
              "      <td>1</td>\n",
              "      <td>1</td>\n",
              "      <td>70</td>\n",
              "      <td>150</td>\n",
              "      <td>2018-10-21</td>\n",
              "      <td>0</td>\n",
              "      <td>1</td>\n",
              "      <td>1</td>\n",
              "      <td>0</td>\n",
              "    </tr>\n",
              "    <tr>\n",
              "      <th>4</th>\n",
              "      <td>2018-02-26</td>\n",
              "      <td>0</td>\n",
              "      <td>1</td>\n",
              "      <td>82</td>\n",
              "      <td>140</td>\n",
              "      <td>2018-11-15</td>\n",
              "      <td>0</td>\n",
              "      <td>0</td>\n",
              "      <td>0</td>\n",
              "      <td>0</td>\n",
              "    </tr>\n",
              "  </tbody>\n",
              "</table>\n",
              "</div>"
            ],
            "text/plain": [
              "  patient_dob  patient_diabetic  ...  patient_gender_int  diagnosis_int\n",
              "0  2018-10-18                 0  ...                   0              1\n",
              "1  2018-02-08                 0  ...                   0              0\n",
              "2  2018-10-09                 1  ...                   0              0\n",
              "3  2018-09-10                 1  ...                   1              0\n",
              "4  2018-02-26                 0  ...                   0              0\n",
              "\n",
              "[5 rows x 10 columns]"
            ]
          },
          "metadata": {
            "tags": []
          },
          "execution_count": 237
        }
      ]
    },
    {
      "cell_type": "markdown",
      "metadata": {
        "id": "DRJleOZpaep_"
      },
      "source": [
        "An interesting observation is that all patients are no older than 2 years. However, their weights and heights indicate that they are adults. This cannot be true. Therefore, we can either trust the weight and height columns or the DOB column. Since there are other columns that indicate that these are adults (they have emails, some have diabetes) we will drop the `patient_dob` column. We will also drop the `appointment_date` column since it has too many unique values to transform to a dummy variable. Drop the two columns in the cell below."
      ]
    },
    {
      "cell_type": "code",
      "metadata": {
        "id": "JKrjA8oTaep_"
      },
      "source": [
        "# Your code here:\n",
        "patients.drop([\"patient_dob\", \"appointment_date\"], axis=1, inplace = True)"
      ],
      "execution_count": 238,
      "outputs": []
    },
    {
      "cell_type": "markdown",
      "metadata": {
        "id": "TAPr8ZOCaep_"
      },
      "source": [
        "#### Our data is now ready for clustering. Let's use k-means again.\n",
        "\n",
        "We start by initializing and fitting a model in the cell below. Call this model patients_cluster."
      ]
    },
    {
      "cell_type": "code",
      "metadata": {
        "id": "BvC9Lofoaep_"
      },
      "source": [
        "# Your code here:\n",
        "patients_cluster = KMeans(n_clusters=4).fit(patients)"
      ],
      "execution_count": 239,
      "outputs": []
    },
    {
      "cell_type": "markdown",
      "metadata": {
        "id": "T2ZNPb9Aaep_"
      },
      "source": [
        "Attach the labels to the dataframe. Do this by accessing the `labels_` in the `patients_cluster` model and assign them to a new column in `patients` that you will call `labels`."
      ]
    },
    {
      "cell_type": "code",
      "metadata": {
        "id": "z4NXo2wfaep_"
      },
      "source": [
        "# Your code here:\n",
        "patients[\"labels\"] = patients_cluster.labels_"
      ],
      "execution_count": 240,
      "outputs": []
    },
    {
      "cell_type": "markdown",
      "metadata": {
        "id": "6r-YYt77aep_"
      },
      "source": [
        "Now using a `groupby`, find the mean of every variable in `patients` and group by the `labels` column. This summary will allow us to see how the patients differ between the clusters. Your output should look similar to the image below.\n",
        "\n",
        "![groupby mean](../groupby-mean.png)\n",
        "\n",
        "Additionally, add a comment to describe which columns have the largest difference between clusters."
      ]
    },
    {
      "cell_type": "code",
      "metadata": {
        "colab": {
          "base_uri": "https://localhost:8080/",
          "height": 224
        },
        "id": "hAQkkILVaep_",
        "outputId": "cd9a974a-1745-4f4a-8b07-520bf5067144"
      },
      "source": [
        "# Your code here:\n",
        "patients.groupby(\"labels\").mean()"
      ],
      "execution_count": 241,
      "outputs": [
        {
          "output_type": "execute_result",
          "data": {
            "text/html": [
              "<div>\n",
              "<style scoped>\n",
              "    .dataframe tbody tr th:only-of-type {\n",
              "        vertical-align: middle;\n",
              "    }\n",
              "\n",
              "    .dataframe tbody tr th {\n",
              "        vertical-align: top;\n",
              "    }\n",
              "\n",
              "    .dataframe thead th {\n",
              "        text-align: right;\n",
              "    }\n",
              "</style>\n",
              "<table border=\"1\" class=\"dataframe\">\n",
              "  <thead>\n",
              "    <tr style=\"text-align: right;\">\n",
              "      <th></th>\n",
              "      <th>patient_diabetic</th>\n",
              "      <th>patient_allergic</th>\n",
              "      <th>patient_weight_kg</th>\n",
              "      <th>patient_height_sm</th>\n",
              "      <th>patient_show</th>\n",
              "      <th>is_regular_visit</th>\n",
              "      <th>patient_gender_int</th>\n",
              "      <th>diagnosis_int</th>\n",
              "    </tr>\n",
              "    <tr>\n",
              "      <th>labels</th>\n",
              "      <th></th>\n",
              "      <th></th>\n",
              "      <th></th>\n",
              "      <th></th>\n",
              "      <th></th>\n",
              "      <th></th>\n",
              "      <th></th>\n",
              "      <th></th>\n",
              "    </tr>\n",
              "  </thead>\n",
              "  <tbody>\n",
              "    <tr>\n",
              "      <th>0</th>\n",
              "      <td>0.508333</td>\n",
              "      <td>0.533333</td>\n",
              "      <td>62.900000</td>\n",
              "      <td>176.954167</td>\n",
              "      <td>0.475000</td>\n",
              "      <td>0.495833</td>\n",
              "      <td>0.454167</td>\n",
              "      <td>0.454167</td>\n",
              "    </tr>\n",
              "    <tr>\n",
              "      <th>1</th>\n",
              "      <td>0.552511</td>\n",
              "      <td>0.525114</td>\n",
              "      <td>97.557078</td>\n",
              "      <td>153.319635</td>\n",
              "      <td>0.488584</td>\n",
              "      <td>0.502283</td>\n",
              "      <td>0.520548</td>\n",
              "      <td>0.593607</td>\n",
              "    </tr>\n",
              "    <tr>\n",
              "      <th>2</th>\n",
              "      <td>0.492063</td>\n",
              "      <td>0.488095</td>\n",
              "      <td>94.063492</td>\n",
              "      <td>178.686508</td>\n",
              "      <td>0.503968</td>\n",
              "      <td>0.531746</td>\n",
              "      <td>0.456349</td>\n",
              "      <td>0.511905</td>\n",
              "    </tr>\n",
              "    <tr>\n",
              "      <th>3</th>\n",
              "      <td>0.506494</td>\n",
              "      <td>0.493506</td>\n",
              "      <td>65.432900</td>\n",
              "      <td>152.354978</td>\n",
              "      <td>0.510823</td>\n",
              "      <td>0.558442</td>\n",
              "      <td>0.554113</td>\n",
              "      <td>0.506494</td>\n",
              "    </tr>\n",
              "  </tbody>\n",
              "</table>\n",
              "</div>"
            ],
            "text/plain": [
              "        patient_diabetic  patient_allergic  ...  patient_gender_int  diagnosis_int\n",
              "labels                                      ...                                   \n",
              "0               0.508333          0.533333  ...            0.454167       0.454167\n",
              "1               0.552511          0.525114  ...            0.520548       0.593607\n",
              "2               0.492063          0.488095  ...            0.456349       0.511905\n",
              "3               0.506494          0.493506  ...            0.554113       0.506494\n",
              "\n",
              "[4 rows x 8 columns]"
            ]
          },
          "metadata": {
            "tags": []
          },
          "execution_count": 241
        }
      ]
    },
    {
      "cell_type": "code",
      "metadata": {
        "id": "x92VWFyraep_"
      },
      "source": [
        "# Your comment here:\n",
        "# The biggest difference in weight is between clusters 0 and 3 and clusters 1 and 2"
      ],
      "execution_count": 242,
      "outputs": []
    },
    {
      "cell_type": "markdown",
      "metadata": {
        "id": "FglMp1lEaeqA"
      },
      "source": [
        "# Bonus Challenge: Visualize K-Means Clusters\n",
        "\n",
        "How did k-means cluster the data? You can obtain an intuitive view with a scatter plot. Generate a 2-d cluster plot below using `matplotlib`. You need to choose 2 of the features from your cleaned and transformed dataset, and use color to represent the cluster label generated from k-means.\n",
        "\n",
        "If the scatter plot does not make any sense to you, it means the features you chose to visualize are not the right ones. You should be able to see 4 clear clusters with different colors in your visualization that suggests how k-means had clustered your data.\n",
        "\n",
        "![Cluster Visualization](../clusters.png)"
      ]
    },
    {
      "cell_type": "code",
      "metadata": {
        "id": "Pwjt7NPZaeqA"
      },
      "source": [
        "# Your code here:\n"
      ],
      "execution_count": null,
      "outputs": []
    },
    {
      "cell_type": "markdown",
      "metadata": {
        "id": "CA3N0LowaeqA"
      },
      "source": [
        "Additionally, you can visualize the clusters in 3-D scatter plot. Give it a try below."
      ]
    },
    {
      "cell_type": "code",
      "metadata": {
        "id": "WYn2n69jaeqA"
      },
      "source": [
        "# Your code here:\n"
      ],
      "execution_count": null,
      "outputs": []
    }
  ]
}