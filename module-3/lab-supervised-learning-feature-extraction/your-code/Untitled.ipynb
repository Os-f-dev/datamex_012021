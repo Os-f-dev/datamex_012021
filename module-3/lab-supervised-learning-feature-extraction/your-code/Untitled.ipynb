{
 "cells": [
  {
   "cell_type": "code",
   "execution_count": 20,
   "metadata": {},
   "outputs": [],
   "source": [
    "def likes(names):\n",
    "    if names== []:\n",
    "        return \"no one likes this\"\n",
    "    elif len(names)==1:\n",
    "        return names[0]+' likes this'\n",
    "    elif len(names) == 2:\n",
    "        return \" and \".join(names) + \" like this\"\n",
    "    elif len(names) == 3:\n",
    "        return \", \".join(names[0:2]) + f\" and {names[2]} like this\"\n",
    "    else:\n",
    "        return \", \".join(names[0:2]) + f\" and {str(len(names)-2)} others like this\""
   ]
  },
  {
   "cell_type": "code",
   "execution_count": 21,
   "metadata": {},
   "outputs": [
    {
     "data": {
      "text/plain": [
       "'Max, John and kio like this'"
      ]
     },
     "execution_count": 21,
     "metadata": {},
     "output_type": "execute_result"
    }
   ],
   "source": [
    "likes([\"Max\", \"John\",\"kio\"])"
   ]
  },
  {
   "cell_type": "code",
   "execution_count": 22,
   "metadata": {},
   "outputs": [],
   "source": [
    "def likes1(names):\n",
    "    formats = {\n",
    "            0: \"no one likes this\",\n",
    "            1: \"{} likes this\",\n",
    "            2: \"{} and {} like this\",\n",
    "            3: \"{}, {} and {} like this\",\n",
    "            4: \"{}, {} and {others} others like this\"\n",
    "        }\n",
    "    n = len(names)\n",
    "    return formats[min(n,4)].format(*names, others=n-2)"
   ]
  },
  {
   "cell_type": "code",
   "execution_count": 23,
   "metadata": {},
   "outputs": [
    {
     "data": {
      "text/plain": [
       "'Max, John and kio like this'"
      ]
     },
     "execution_count": 23,
     "metadata": {},
     "output_type": "execute_result"
    }
   ],
   "source": [
    "likes1([\"Max\", \"John\",\"kio\"])"
   ]
  },
  {
   "cell_type": "code",
   "execution_count": null,
   "metadata": {},
   "outputs": [],
   "source": []
  },
  {
   "cell_type": "code",
   "execution_count": 41,
   "metadata": {},
   "outputs": [
    {
     "data": {
      "text/plain": [
       "'elloHay orldway !'"
      ]
     },
     "execution_count": 41,
     "metadata": {},
     "output_type": "execute_result"
    }
   ],
   "source": [
    "n='Hello world !'.split(' ')\n",
    "sp=''\n",
    "for i in n:\n",
    "    if i.isalpha():\n",
    "        sp+=i[1:]+i[0]+'ay '\n",
    "    else:\n",
    "        sp+=i\n",
    "\n",
    "sp"
   ]
  },
  {
   "cell_type": "code",
   "execution_count": 62,
   "metadata": {},
   "outputs": [],
   "source": [
    "def pig_it(text):\n",
    "    text=text.split(' ')\n",
    "    sp=[]\n",
    "    for i in text:\n",
    "        if i.isalpha():\n",
    "            sp.append(i[1:]+i[0]+'ay')\n",
    "        else:\n",
    "            sp+=i\n",
    "       \n",
    "    return ' '.join(sp)"
   ]
  },
  {
   "cell_type": "code",
   "execution_count": 63,
   "metadata": {},
   "outputs": [
    {
     "data": {
      "text/plain": [
       "'elloHay orldway !'"
      ]
     },
     "execution_count": 63,
     "metadata": {},
     "output_type": "execute_result"
    }
   ],
   "source": [
    "pig_it('Hello world !')"
   ]
  },
  {
   "cell_type": "code",
   "execution_count": null,
   "metadata": {},
   "outputs": [],
   "source": []
  }
 ],
 "metadata": {
  "kernelspec": {
   "display_name": "Python 3",
   "language": "python",
   "name": "python3"
  },
  "language_info": {
   "codemirror_mode": {
    "name": "ipython",
    "version": 3
   },
   "file_extension": ".py",
   "mimetype": "text/x-python",
   "name": "python",
   "nbconvert_exporter": "python",
   "pygments_lexer": "ipython3",
   "version": "3.8.6"
  }
 },
 "nbformat": 4,
 "nbformat_minor": 4
}
