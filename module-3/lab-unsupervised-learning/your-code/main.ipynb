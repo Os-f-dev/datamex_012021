{
  "nbformat": 4,
  "nbformat_minor": 0,
  "metadata": {
    "kernelspec": {
      "display_name": "Python 3",
      "language": "python",
      "name": "python3"
    },
    "language_info": {
      "codemirror_mode": {
        "name": "ipython",
        "version": 3
      },
      "file_extension": ".py",
      "mimetype": "text/x-python",
      "name": "python",
      "nbconvert_exporter": "python",
      "pygments_lexer": "ipython3",
      "version": "3.9.2"
    },
    "colab": {
      "name": "main.ipynb",
      "provenance": [],
      "collapsed_sections": []
    }
  },
  "cells": [
    {
      "cell_type": "markdown",
      "metadata": {
        "id": "dKtxe2NxwqPf"
      },
      "source": [
        "# Before your start:\n",
        "- Read the README.md file\n",
        "- Comment as much as you can and use the resources in the README.md file\n",
        "- Happy learning!"
      ]
    },
    {
      "cell_type": "code",
      "metadata": {
        "id": "ClV2xVAEwqPl"
      },
      "source": [
        "# Import your libraries:\n",
        "\n",
        "import matplotlib.pyplot as plt\n",
        "%matplotlib inline\n",
        "\n",
        "import numpy as np\n",
        "import pandas as pd\n",
        "import seaborn as sns\n",
        "\n",
        "# warnings\n",
        "import warnings\n",
        "from sklearn.exceptions import DataConversionWarning\n",
        "warnings.filterwarnings(action='ignore',category=DataConversionWarning)\n"
      ],
      "execution_count": 18,
      "outputs": []
    },
    {
      "cell_type": "markdown",
      "metadata": {
        "id": "V7mLYTRowqPm"
      },
      "source": [
        "# Challenge 1 - Import and Describe the Dataset\n",
        "\n",
        "In this lab, we will use a dataset containing information about customer preferences. We will look at how much each customer spends in a year on each subcategory in the grocery store and try to find similarities using clustering.\n",
        "\n",
        "The origin of the dataset is [here](https://archive.ics.uci.edu/ml/datasets/wholesale+customers)."
      ]
    },
    {
      "cell_type": "code",
      "metadata": {
        "id": "sg4uV3i8wqPm"
      },
      "source": [
        "# loading the data:\n",
        "customers = pd.read_csv('Wholesale customers data.csv')"
      ],
      "execution_count": 3,
      "outputs": []
    },
    {
      "cell_type": "markdown",
      "metadata": {
        "id": "bKC6vGwnwqPm"
      },
      "source": [
        "#### Explore the dataset with mathematical and visualization techniques. What do you find?\n",
        "\n",
        "Checklist:\n",
        "\n",
        "* What does each column mean?\n",
        "* Any categorical data to convert?\n",
        "* Any missing data to remove?\n",
        "* Column collinearity - any high correlations?\n",
        "* Descriptive statistics - any outliers to remove?\n",
        "* Column-wise data distribution - is the distribution skewed?\n",
        "* Etc.\n",
        "\n",
        "Additional info: Over a century ago, an Italian economist named Vilfredo Pareto discovered that roughly 20% of the customers account for 80% of the typical retail sales. This is called the [Pareto principle](https://en.wikipedia.org/wiki/Pareto_principle). Check if this dataset displays this characteristic."
      ]
    },
    {
      "cell_type": "code",
      "metadata": {
        "id": "OWiFwtw_wqPn",
        "colab": {
          "base_uri": "https://localhost:8080/"
        },
        "outputId": "c474c928-c0b3-4d63-dfee-28cefc9199f6"
      },
      "source": [
        "# Your code here:\n",
        "customers.columns"
      ],
      "execution_count": 4,
      "outputs": [
        {
          "output_type": "execute_result",
          "data": {
            "text/plain": [
              "Index(['Channel', 'Region', 'Fresh', 'Milk', 'Grocery', 'Frozen',\n",
              "       'Detergents_Paper', 'Delicassen'],\n",
              "      dtype='object')"
            ]
          },
          "metadata": {
            "tags": []
          },
          "execution_count": 4
        }
      ]
    },
    {
      "cell_type": "code",
      "metadata": {
        "colab": {
          "base_uri": "https://localhost:8080/",
          "height": 204
        },
        "id": "buaOdEfB2g4S",
        "outputId": "3c46ae55-fef9-4bdd-b1b1-8edaed835e76"
      },
      "source": [
        "customers.head()"
      ],
      "execution_count": 5,
      "outputs": [
        {
          "output_type": "execute_result",
          "data": {
            "text/html": [
              "<div>\n",
              "<style scoped>\n",
              "    .dataframe tbody tr th:only-of-type {\n",
              "        vertical-align: middle;\n",
              "    }\n",
              "\n",
              "    .dataframe tbody tr th {\n",
              "        vertical-align: top;\n",
              "    }\n",
              "\n",
              "    .dataframe thead th {\n",
              "        text-align: right;\n",
              "    }\n",
              "</style>\n",
              "<table border=\"1\" class=\"dataframe\">\n",
              "  <thead>\n",
              "    <tr style=\"text-align: right;\">\n",
              "      <th></th>\n",
              "      <th>Channel</th>\n",
              "      <th>Region</th>\n",
              "      <th>Fresh</th>\n",
              "      <th>Milk</th>\n",
              "      <th>Grocery</th>\n",
              "      <th>Frozen</th>\n",
              "      <th>Detergents_Paper</th>\n",
              "      <th>Delicassen</th>\n",
              "    </tr>\n",
              "  </thead>\n",
              "  <tbody>\n",
              "    <tr>\n",
              "      <th>0</th>\n",
              "      <td>2</td>\n",
              "      <td>3</td>\n",
              "      <td>12669</td>\n",
              "      <td>9656</td>\n",
              "      <td>7561</td>\n",
              "      <td>214</td>\n",
              "      <td>2674</td>\n",
              "      <td>1338</td>\n",
              "    </tr>\n",
              "    <tr>\n",
              "      <th>1</th>\n",
              "      <td>2</td>\n",
              "      <td>3</td>\n",
              "      <td>7057</td>\n",
              "      <td>9810</td>\n",
              "      <td>9568</td>\n",
              "      <td>1762</td>\n",
              "      <td>3293</td>\n",
              "      <td>1776</td>\n",
              "    </tr>\n",
              "    <tr>\n",
              "      <th>2</th>\n",
              "      <td>2</td>\n",
              "      <td>3</td>\n",
              "      <td>6353</td>\n",
              "      <td>8808</td>\n",
              "      <td>7684</td>\n",
              "      <td>2405</td>\n",
              "      <td>3516</td>\n",
              "      <td>7844</td>\n",
              "    </tr>\n",
              "    <tr>\n",
              "      <th>3</th>\n",
              "      <td>1</td>\n",
              "      <td>3</td>\n",
              "      <td>13265</td>\n",
              "      <td>1196</td>\n",
              "      <td>4221</td>\n",
              "      <td>6404</td>\n",
              "      <td>507</td>\n",
              "      <td>1788</td>\n",
              "    </tr>\n",
              "    <tr>\n",
              "      <th>4</th>\n",
              "      <td>2</td>\n",
              "      <td>3</td>\n",
              "      <td>22615</td>\n",
              "      <td>5410</td>\n",
              "      <td>7198</td>\n",
              "      <td>3915</td>\n",
              "      <td>1777</td>\n",
              "      <td>5185</td>\n",
              "    </tr>\n",
              "  </tbody>\n",
              "</table>\n",
              "</div>"
            ],
            "text/plain": [
              "   Channel  Region  Fresh  Milk  Grocery  Frozen  Detergents_Paper  Delicassen\n",
              "0        2       3  12669  9656     7561     214              2674        1338\n",
              "1        2       3   7057  9810     9568    1762              3293        1776\n",
              "2        2       3   6353  8808     7684    2405              3516        7844\n",
              "3        1       3  13265  1196     4221    6404               507        1788\n",
              "4        2       3  22615  5410     7198    3915              1777        5185"
            ]
          },
          "metadata": {
            "tags": []
          },
          "execution_count": 5
        }
      ]
    },
    {
      "cell_type": "code",
      "metadata": {
        "colab": {
          "base_uri": "https://localhost:8080/"
        },
        "id": "JlaytCkX2lbL",
        "outputId": "2f761e7c-a8c2-4920-e371-f444fff46bfb"
      },
      "source": [
        "customers.info()"
      ],
      "execution_count": 6,
      "outputs": [
        {
          "output_type": "stream",
          "text": [
            "<class 'pandas.core.frame.DataFrame'>\n",
            "RangeIndex: 440 entries, 0 to 439\n",
            "Data columns (total 8 columns):\n",
            " #   Column            Non-Null Count  Dtype\n",
            "---  ------            --------------  -----\n",
            " 0   Channel           440 non-null    int64\n",
            " 1   Region            440 non-null    int64\n",
            " 2   Fresh             440 non-null    int64\n",
            " 3   Milk              440 non-null    int64\n",
            " 4   Grocery           440 non-null    int64\n",
            " 5   Frozen            440 non-null    int64\n",
            " 6   Detergents_Paper  440 non-null    int64\n",
            " 7   Delicassen        440 non-null    int64\n",
            "dtypes: int64(8)\n",
            "memory usage: 27.6 KB\n"
          ],
          "name": "stdout"
        }
      ]
    },
    {
      "cell_type": "code",
      "metadata": {
        "colab": {
          "base_uri": "https://localhost:8080/",
          "height": 297
        },
        "id": "P_Qhpqpw2rWx",
        "outputId": "5f1aca80-794c-4913-8bca-083dd58bf87c"
      },
      "source": [
        "customers.describe()"
      ],
      "execution_count": 7,
      "outputs": [
        {
          "output_type": "execute_result",
          "data": {
            "text/html": [
              "<div>\n",
              "<style scoped>\n",
              "    .dataframe tbody tr th:only-of-type {\n",
              "        vertical-align: middle;\n",
              "    }\n",
              "\n",
              "    .dataframe tbody tr th {\n",
              "        vertical-align: top;\n",
              "    }\n",
              "\n",
              "    .dataframe thead th {\n",
              "        text-align: right;\n",
              "    }\n",
              "</style>\n",
              "<table border=\"1\" class=\"dataframe\">\n",
              "  <thead>\n",
              "    <tr style=\"text-align: right;\">\n",
              "      <th></th>\n",
              "      <th>Channel</th>\n",
              "      <th>Region</th>\n",
              "      <th>Fresh</th>\n",
              "      <th>Milk</th>\n",
              "      <th>Grocery</th>\n",
              "      <th>Frozen</th>\n",
              "      <th>Detergents_Paper</th>\n",
              "      <th>Delicassen</th>\n",
              "    </tr>\n",
              "  </thead>\n",
              "  <tbody>\n",
              "    <tr>\n",
              "      <th>count</th>\n",
              "      <td>440.000000</td>\n",
              "      <td>440.000000</td>\n",
              "      <td>440.000000</td>\n",
              "      <td>440.000000</td>\n",
              "      <td>440.000000</td>\n",
              "      <td>440.000000</td>\n",
              "      <td>440.000000</td>\n",
              "      <td>440.000000</td>\n",
              "    </tr>\n",
              "    <tr>\n",
              "      <th>mean</th>\n",
              "      <td>1.322727</td>\n",
              "      <td>2.543182</td>\n",
              "      <td>12000.297727</td>\n",
              "      <td>5796.265909</td>\n",
              "      <td>7951.277273</td>\n",
              "      <td>3071.931818</td>\n",
              "      <td>2881.493182</td>\n",
              "      <td>1524.870455</td>\n",
              "    </tr>\n",
              "    <tr>\n",
              "      <th>std</th>\n",
              "      <td>0.468052</td>\n",
              "      <td>0.774272</td>\n",
              "      <td>12647.328865</td>\n",
              "      <td>7380.377175</td>\n",
              "      <td>9503.162829</td>\n",
              "      <td>4854.673333</td>\n",
              "      <td>4767.854448</td>\n",
              "      <td>2820.105937</td>\n",
              "    </tr>\n",
              "    <tr>\n",
              "      <th>min</th>\n",
              "      <td>1.000000</td>\n",
              "      <td>1.000000</td>\n",
              "      <td>3.000000</td>\n",
              "      <td>55.000000</td>\n",
              "      <td>3.000000</td>\n",
              "      <td>25.000000</td>\n",
              "      <td>3.000000</td>\n",
              "      <td>3.000000</td>\n",
              "    </tr>\n",
              "    <tr>\n",
              "      <th>25%</th>\n",
              "      <td>1.000000</td>\n",
              "      <td>2.000000</td>\n",
              "      <td>3127.750000</td>\n",
              "      <td>1533.000000</td>\n",
              "      <td>2153.000000</td>\n",
              "      <td>742.250000</td>\n",
              "      <td>256.750000</td>\n",
              "      <td>408.250000</td>\n",
              "    </tr>\n",
              "    <tr>\n",
              "      <th>50%</th>\n",
              "      <td>1.000000</td>\n",
              "      <td>3.000000</td>\n",
              "      <td>8504.000000</td>\n",
              "      <td>3627.000000</td>\n",
              "      <td>4755.500000</td>\n",
              "      <td>1526.000000</td>\n",
              "      <td>816.500000</td>\n",
              "      <td>965.500000</td>\n",
              "    </tr>\n",
              "    <tr>\n",
              "      <th>75%</th>\n",
              "      <td>2.000000</td>\n",
              "      <td>3.000000</td>\n",
              "      <td>16933.750000</td>\n",
              "      <td>7190.250000</td>\n",
              "      <td>10655.750000</td>\n",
              "      <td>3554.250000</td>\n",
              "      <td>3922.000000</td>\n",
              "      <td>1820.250000</td>\n",
              "    </tr>\n",
              "    <tr>\n",
              "      <th>max</th>\n",
              "      <td>2.000000</td>\n",
              "      <td>3.000000</td>\n",
              "      <td>112151.000000</td>\n",
              "      <td>73498.000000</td>\n",
              "      <td>92780.000000</td>\n",
              "      <td>60869.000000</td>\n",
              "      <td>40827.000000</td>\n",
              "      <td>47943.000000</td>\n",
              "    </tr>\n",
              "  </tbody>\n",
              "</table>\n",
              "</div>"
            ],
            "text/plain": [
              "          Channel      Region  ...  Detergents_Paper    Delicassen\n",
              "count  440.000000  440.000000  ...        440.000000    440.000000\n",
              "mean     1.322727    2.543182  ...       2881.493182   1524.870455\n",
              "std      0.468052    0.774272  ...       4767.854448   2820.105937\n",
              "min      1.000000    1.000000  ...          3.000000      3.000000\n",
              "25%      1.000000    2.000000  ...        256.750000    408.250000\n",
              "50%      1.000000    3.000000  ...        816.500000    965.500000\n",
              "75%      2.000000    3.000000  ...       3922.000000   1820.250000\n",
              "max      2.000000    3.000000  ...      40827.000000  47943.000000\n",
              "\n",
              "[8 rows x 8 columns]"
            ]
          },
          "metadata": {
            "tags": []
          },
          "execution_count": 7
        }
      ]
    },
    {
      "cell_type": "code",
      "metadata": {
        "colab": {
          "base_uri": "https://localhost:8080/",
          "height": 608
        },
        "id": "urx-GPr424N2",
        "outputId": "e2ba62c2-a26c-4cdb-a2c0-5c19fd57511e"
      },
      "source": [
        "# Let's review the stadistic variation\n",
        "plt.figure(figsize=(15,10))\n",
        "customers.boxplot(column=['Fresh', 'Milk', 'Grocery','Frozen','Detergents_Paper', 'Delicassen'])\n",
        "\n",
        "plt.title('Boxplot products')\n",
        "plt.show();"
      ],
      "execution_count": 14,
      "outputs": [
        {
          "output_type": "display_data",
          "data": {
            "image/png": "[encoded data removed]",
            "text/plain": [
              "<Figure size 1080x720 with 1 Axes>"
            ]
          },
          "metadata": {
            "tags": [],
            "needs_background": "light"
          }
        }
      ]
    },
    {
      "cell_type": "code",
      "metadata": {
        "colab": {
          "base_uri": "https://localhost:8080/"
        },
        "id": "qvzpxX8QW83a",
        "outputId": "57c46263-dbb5-4db8-d34a-12c681e76aea"
      },
      "source": [
        "customers.quantile(q=0.8, axis=0)"
      ],
      "execution_count": 16,
      "outputs": [
        {
          "output_type": "execute_result",
          "data": {
            "text/plain": [
              "Channel                 2.0\n",
              "Region                  3.0\n",
              "Fresh               18829.6\n",
              "Milk                 8271.8\n",
              "Grocery             12125.6\n",
              "Frozen               4429.4\n",
              "Detergents_Paper     4630.0\n",
              "Delicassen           2127.4\n",
              "Name: 0.8, dtype: float64"
            ]
          },
          "metadata": {
            "tags": []
          },
          "execution_count": 16
        }
      ]
    },
    {
      "cell_type": "markdown",
      "metadata": {
        "id": "IMDm65XxXSyS"
      },
      "source": [
        "Heatmap"
      ]
    },
    {
      "cell_type": "code",
      "metadata": {
        "colab": {
          "base_uri": "https://localhost:8080/",
          "height": 625
        },
        "id": "fxYPUoTjXQZg",
        "outputId": "ef59a0c4-7c02-4c91-f478-101a97ab3088"
      },
      "source": [
        "heatmap = customers.drop(columns=['Channel','Region'])\n",
        "plt.figure(figsize=(15,10))\n",
        "sns.heatmap(heatmap.corr(), annot=True)\n",
        "plt.title(\"Customer's Correlation\")\n",
        "#plt.show();"
      ],
      "execution_count": 20,
      "outputs": [
        {
          "output_type": "execute_result",
          "data": {
            "text/plain": [
              "Text(0.5, 1.0, \"Customer's Correlation\")"
            ]
          },
          "metadata": {
            "tags": []
          },
          "execution_count": 20
        },
        {
          "output_type": "display_data",
          "data": {
            "image/png": "[encoded data removed]",
            "text/plain": [
              "<Figure size 1080x720 with 2 Axes>"
            ]
          },
          "metadata": {
            "tags": [],
            "needs_background": "light"
          }
        }
      ]
    },
    {
      "cell_type": "code",
      "metadata": {
        "id": "oRYX4PJb7X2R"
      },
      "source": [
        "customers_pareto = customers.copy()\n",
        "customers_pareto['total'] = customers_pareto[customers.columns[2:]].sum(axis = 1)\n",
        "\n",
        "total_sales = customers_pareto['total'].sum()\n",
        "num_clientes_20 = customers_pareto.shape[0] * 20 / 100\n",
        "\n",
        "ordenados_compras = customers_pareto.sort_values(by = 'total', ascending = False)\n",
        "mas_compran_20 = ordenados_compras['total'][:int(num_clientes_20)].sum()\n",
        "\n",
        "percentage_pareto = (mas_compran_20 * 100 / total_sales )"
      ],
      "execution_count": 27,
      "outputs": []
    },
    {
      "cell_type": "code",
      "metadata": {
        "colab": {
          "base_uri": "https://localhost:8080/"
        },
        "id": "tBsCgA9X8t7y",
        "outputId": "ecafdb5d-5ddc-4db5-dfb0-87ae9d33fbef"
      },
      "source": [
        "print('Total Sales: {}'. format(total_sales))\n",
        "print('Sales to 20% of top clients: {}'. format(mas_compran_20))\n",
        "print('Percentage: {:.2f}'.format(percentage_pareto))"
      ],
      "execution_count": 26,
      "outputs": [
        {
          "output_type": "stream",
          "text": [
            "Total Sales: 14619500\n",
            "Sales to 20% of top clients: 6272473\n",
            "Percentage: 42.90\n"
          ],
          "name": "stdout"
        }
      ]
    },
    {
      "cell_type": "code",
      "metadata": {
        "id": "1zHLyziiwqPn"
      },
      "source": [
        "# Your observations here"
      ],
      "execution_count": null,
      "outputs": []
    },
    {
      "cell_type": "markdown",
      "metadata": {
        "id": "KggqXRPIAJlK"
      },
      "source": [
        "The group which has a greater variance is fresh products and the one who has less, is Detergetns_paper.\n",
        "\n",
        "It appears that only milk can be the point at which a cluster can be created. In the heatmap, we can see that Milk is related with fresh products and detergent paper.\n",
        "\n",
        "It appears that in this case, the pareto rule is not followed. because the top 20 costumers are just responsable of the 40% of sales, not of 80% as it is stated."
      ]
    },
    {
      "cell_type": "markdown",
      "metadata": {
        "id": "NUMfCvn3wqPn"
      },
      "source": [
        "# Challenge 2 - Data Cleaning and Transformation\n",
        "\n",
        "If your conclusion from the previous challenge is the data need cleaning/transformation, do it in the cells below. However, if your conclusion is the data need not be cleaned or transformed, feel free to skip this challenge. But if you do choose the latter, please provide rationale."
      ]
    },
    {
      "cell_type": "code",
      "metadata": {
        "id": "ChErImynwqPn",
        "colab": {
          "base_uri": "https://localhost:8080/",
          "height": 204
        },
        "outputId": "c21d8d3b-59e6-4032-94d4-9e285f1670cd"
      },
      "source": [
        "# Your code here\n",
        "channel_region = customers[['Channel','Region']]\n",
        "channel_region.head()"
      ],
      "execution_count": 28,
      "outputs": [
        {
          "output_type": "execute_result",
          "data": {
            "text/html": [
              "<div>\n",
              "<style scoped>\n",
              "    .dataframe tbody tr th:only-of-type {\n",
              "        vertical-align: middle;\n",
              "    }\n",
              "\n",
              "    .dataframe tbody tr th {\n",
              "        vertical-align: top;\n",
              "    }\n",
              "\n",
              "    .dataframe thead th {\n",
              "        text-align: right;\n",
              "    }\n",
              "</style>\n",
              "<table border=\"1\" class=\"dataframe\">\n",
              "  <thead>\n",
              "    <tr style=\"text-align: right;\">\n",
              "      <th></th>\n",
              "      <th>Channel</th>\n",
              "      <th>Region</th>\n",
              "    </tr>\n",
              "  </thead>\n",
              "  <tbody>\n",
              "    <tr>\n",
              "      <th>0</th>\n",
              "      <td>2</td>\n",
              "      <td>3</td>\n",
              "    </tr>\n",
              "    <tr>\n",
              "      <th>1</th>\n",
              "      <td>2</td>\n",
              "      <td>3</td>\n",
              "    </tr>\n",
              "    <tr>\n",
              "      <th>2</th>\n",
              "      <td>2</td>\n",
              "      <td>3</td>\n",
              "    </tr>\n",
              "    <tr>\n",
              "      <th>3</th>\n",
              "      <td>1</td>\n",
              "      <td>3</td>\n",
              "    </tr>\n",
              "    <tr>\n",
              "      <th>4</th>\n",
              "      <td>2</td>\n",
              "      <td>3</td>\n",
              "    </tr>\n",
              "  </tbody>\n",
              "</table>\n",
              "</div>"
            ],
            "text/plain": [
              "   Channel  Region\n",
              "0        2       3\n",
              "1        2       3\n",
              "2        2       3\n",
              "3        1       3\n",
              "4        2       3"
            ]
          },
          "metadata": {
            "tags": []
          },
          "execution_count": 28
        }
      ]
    },
    {
      "cell_type": "code",
      "metadata": {
        "id": "DNrQWOSXwqPo"
      },
      "source": [
        "# Your comment here\n",
        "dummies=pd.get_dummies(channel_region,columns=['Channel','Region'], drop_first=True)"
      ],
      "execution_count": 29,
      "outputs": []
    },
    {
      "cell_type": "code",
      "metadata": {
        "colab": {
          "base_uri": "https://localhost:8080/",
          "height": 204
        },
        "id": "ha497T8k2WuA",
        "outputId": "4e65a3a2-95d6-4212-8cac-b593bb7fec06"
      },
      "source": [
        "dummies.head()"
      ],
      "execution_count": 30,
      "outputs": [
        {
          "output_type": "execute_result",
          "data": {
            "text/html": [
              "<div>\n",
              "<style scoped>\n",
              "    .dataframe tbody tr th:only-of-type {\n",
              "        vertical-align: middle;\n",
              "    }\n",
              "\n",
              "    .dataframe tbody tr th {\n",
              "        vertical-align: top;\n",
              "    }\n",
              "\n",
              "    .dataframe thead th {\n",
              "        text-align: right;\n",
              "    }\n",
              "</style>\n",
              "<table border=\"1\" class=\"dataframe\">\n",
              "  <thead>\n",
              "    <tr style=\"text-align: right;\">\n",
              "      <th></th>\n",
              "      <th>Channel_2</th>\n",
              "      <th>Region_2</th>\n",
              "      <th>Region_3</th>\n",
              "    </tr>\n",
              "  </thead>\n",
              "  <tbody>\n",
              "    <tr>\n",
              "      <th>0</th>\n",
              "      <td>1</td>\n",
              "      <td>0</td>\n",
              "      <td>1</td>\n",
              "    </tr>\n",
              "    <tr>\n",
              "      <th>1</th>\n",
              "      <td>1</td>\n",
              "      <td>0</td>\n",
              "      <td>1</td>\n",
              "    </tr>\n",
              "    <tr>\n",
              "      <th>2</th>\n",
              "      <td>1</td>\n",
              "      <td>0</td>\n",
              "      <td>1</td>\n",
              "    </tr>\n",
              "    <tr>\n",
              "      <th>3</th>\n",
              "      <td>0</td>\n",
              "      <td>0</td>\n",
              "      <td>1</td>\n",
              "    </tr>\n",
              "    <tr>\n",
              "      <th>4</th>\n",
              "      <td>1</td>\n",
              "      <td>0</td>\n",
              "      <td>1</td>\n",
              "    </tr>\n",
              "  </tbody>\n",
              "</table>\n",
              "</div>"
            ],
            "text/plain": [
              "   Channel_2  Region_2  Region_3\n",
              "0          1         0         1\n",
              "1          1         0         1\n",
              "2          1         0         1\n",
              "3          0         0         1\n",
              "4          1         0         1"
            ]
          },
          "metadata": {
            "tags": []
          },
          "execution_count": 30
        }
      ]
    },
    {
      "cell_type": "markdown",
      "metadata": {
        "id": "LnIzFdbTwqPo"
      },
      "source": [
        "# Challenge 3 - Data Preprocessing\n",
        "\n",
        "One problem with the dataset is the value ranges are remarkably different across various categories (e.g. `Fresh` and `Grocery` compared to `Detergents_Paper` and `Delicassen`). If you made this observation in the first challenge, you've done a great job! This means you not only completed the bonus questions in the previous Supervised Learning lab but also researched deep into [*feature scaling*](https://en.wikipedia.org/wiki/Feature_scaling). Keep on the good work!\n",
        "\n",
        "Diverse value ranges in different features could cause issues in our clustering. The way to reduce the problem is through feature scaling. We'll use this technique again with this dataset.\n",
        "\n",
        "#### We will use the `StandardScaler` from `sklearn.preprocessing` and scale our data. Read more about `StandardScaler` [here](https://scikit-learn.org/stable/modules/generated/sklearn.preprocessing.StandardScaler.html#sklearn.preprocessing.StandardScaler).\n",
        "\n",
        "*After scaling your data, assign the transformed data to a new variable `customers_scale`.*"
      ]
    },
    {
      "cell_type": "code",
      "metadata": {
        "id": "0AATqra2wqPo",
        "colab": {
          "base_uri": "https://localhost:8080/",
          "height": 204
        },
        "outputId": "2a62f5a3-de46-4d1e-b182-f87f0781c6fc"
      },
      "source": [
        "# Your import here:\n",
        "\n",
        "from sklearn.preprocessing import StandardScaler\n",
        "\n",
        "# Your code here:\n",
        "\n",
        "customers_scale=pd.DataFrame(StandardScaler().fit_transform(heatmap), columns=heatmap.columns)\n",
        "customers_scale.head()"
      ],
      "execution_count": 33,
      "outputs": [
        {
          "output_type": "execute_result",
          "data": {
            "text/html": [
              "<div>\n",
              "<style scoped>\n",
              "    .dataframe tbody tr th:only-of-type {\n",
              "        vertical-align: middle;\n",
              "    }\n",
              "\n",
              "    .dataframe tbody tr th {\n",
              "        vertical-align: top;\n",
              "    }\n",
              "\n",
              "    .dataframe thead th {\n",
              "        text-align: right;\n",
              "    }\n",
              "</style>\n",
              "<table border=\"1\" class=\"dataframe\">\n",
              "  <thead>\n",
              "    <tr style=\"text-align: right;\">\n",
              "      <th></th>\n",
              "      <th>Fresh</th>\n",
              "      <th>Milk</th>\n",
              "      <th>Grocery</th>\n",
              "      <th>Frozen</th>\n",
              "      <th>Detergents_Paper</th>\n",
              "      <th>Delicassen</th>\n",
              "    </tr>\n",
              "  </thead>\n",
              "  <tbody>\n",
              "    <tr>\n",
              "      <th>0</th>\n",
              "      <td>0.052933</td>\n",
              "      <td>0.523568</td>\n",
              "      <td>-0.041115</td>\n",
              "      <td>-0.589367</td>\n",
              "      <td>-0.043569</td>\n",
              "      <td>-0.066339</td>\n",
              "    </tr>\n",
              "    <tr>\n",
              "      <th>1</th>\n",
              "      <td>-0.391302</td>\n",
              "      <td>0.544458</td>\n",
              "      <td>0.170318</td>\n",
              "      <td>-0.270136</td>\n",
              "      <td>0.086407</td>\n",
              "      <td>0.089151</td>\n",
              "    </tr>\n",
              "    <tr>\n",
              "      <th>2</th>\n",
              "      <td>-0.447029</td>\n",
              "      <td>0.408538</td>\n",
              "      <td>-0.028157</td>\n",
              "      <td>-0.137536</td>\n",
              "      <td>0.133232</td>\n",
              "      <td>2.243293</td>\n",
              "    </tr>\n",
              "    <tr>\n",
              "      <th>3</th>\n",
              "      <td>0.100111</td>\n",
              "      <td>-0.624020</td>\n",
              "      <td>-0.392977</td>\n",
              "      <td>0.687144</td>\n",
              "      <td>-0.498588</td>\n",
              "      <td>0.093411</td>\n",
              "    </tr>\n",
              "    <tr>\n",
              "      <th>4</th>\n",
              "      <td>0.840239</td>\n",
              "      <td>-0.052396</td>\n",
              "      <td>-0.079356</td>\n",
              "      <td>0.173859</td>\n",
              "      <td>-0.231918</td>\n",
              "      <td>1.299347</td>\n",
              "    </tr>\n",
              "  </tbody>\n",
              "</table>\n",
              "</div>"
            ],
            "text/plain": [
              "      Fresh      Milk   Grocery    Frozen  Detergents_Paper  Delicassen\n",
              "0  0.052933  0.523568 -0.041115 -0.589367         -0.043569   -0.066339\n",
              "1 -0.391302  0.544458  0.170318 -0.270136          0.086407    0.089151\n",
              "2 -0.447029  0.408538 -0.028157 -0.137536          0.133232    2.243293\n",
              "3  0.100111 -0.624020 -0.392977  0.687144         -0.498588    0.093411\n",
              "4  0.840239 -0.052396 -0.079356  0.173859         -0.231918    1.299347"
            ]
          },
          "metadata": {
            "tags": []
          },
          "execution_count": 33
        }
      ]
    },
    {
      "cell_type": "code",
      "metadata": {
        "colab": {
          "base_uri": "https://localhost:8080/",
          "height": 204
        },
        "id": "hspTWUII9KvN",
        "outputId": "812f1e4d-84eb-4a1a-d341-ca750116ea72"
      },
      "source": [
        "customers_scale=customers_scale.merge(dummies, left_index=True, right_index=True)\n",
        "customers_scale.head()"
      ],
      "execution_count": 34,
      "outputs": [
        {
          "output_type": "execute_result",
          "data": {
            "text/html": [
              "<div>\n",
              "<style scoped>\n",
              "    .dataframe tbody tr th:only-of-type {\n",
              "        vertical-align: middle;\n",
              "    }\n",
              "\n",
              "    .dataframe tbody tr th {\n",
              "        vertical-align: top;\n",
              "    }\n",
              "\n",
              "    .dataframe thead th {\n",
              "        text-align: right;\n",
              "    }\n",
              "</style>\n",
              "<table border=\"1\" class=\"dataframe\">\n",
              "  <thead>\n",
              "    <tr style=\"text-align: right;\">\n",
              "      <th></th>\n",
              "      <th>Fresh</th>\n",
              "      <th>Milk</th>\n",
              "      <th>Grocery</th>\n",
              "      <th>Frozen</th>\n",
              "      <th>Detergents_Paper</th>\n",
              "      <th>Delicassen</th>\n",
              "      <th>Channel_2</th>\n",
              "      <th>Region_2</th>\n",
              "      <th>Region_3</th>\n",
              "    </tr>\n",
              "  </thead>\n",
              "  <tbody>\n",
              "    <tr>\n",
              "      <th>0</th>\n",
              "      <td>0.052933</td>\n",
              "      <td>0.523568</td>\n",
              "      <td>-0.041115</td>\n",
              "      <td>-0.589367</td>\n",
              "      <td>-0.043569</td>\n",
              "      <td>-0.066339</td>\n",
              "      <td>1</td>\n",
              "      <td>0</td>\n",
              "      <td>1</td>\n",
              "    </tr>\n",
              "    <tr>\n",
              "      <th>1</th>\n",
              "      <td>-0.391302</td>\n",
              "      <td>0.544458</td>\n",
              "      <td>0.170318</td>\n",
              "      <td>-0.270136</td>\n",
              "      <td>0.086407</td>\n",
              "      <td>0.089151</td>\n",
              "      <td>1</td>\n",
              "      <td>0</td>\n",
              "      <td>1</td>\n",
              "    </tr>\n",
              "    <tr>\n",
              "      <th>2</th>\n",
              "      <td>-0.447029</td>\n",
              "      <td>0.408538</td>\n",
              "      <td>-0.028157</td>\n",
              "      <td>-0.137536</td>\n",
              "      <td>0.133232</td>\n",
              "      <td>2.243293</td>\n",
              "      <td>1</td>\n",
              "      <td>0</td>\n",
              "      <td>1</td>\n",
              "    </tr>\n",
              "    <tr>\n",
              "      <th>3</th>\n",
              "      <td>0.100111</td>\n",
              "      <td>-0.624020</td>\n",
              "      <td>-0.392977</td>\n",
              "      <td>0.687144</td>\n",
              "      <td>-0.498588</td>\n",
              "      <td>0.093411</td>\n",
              "      <td>0</td>\n",
              "      <td>0</td>\n",
              "      <td>1</td>\n",
              "    </tr>\n",
              "    <tr>\n",
              "      <th>4</th>\n",
              "      <td>0.840239</td>\n",
              "      <td>-0.052396</td>\n",
              "      <td>-0.079356</td>\n",
              "      <td>0.173859</td>\n",
              "      <td>-0.231918</td>\n",
              "      <td>1.299347</td>\n",
              "      <td>1</td>\n",
              "      <td>0</td>\n",
              "      <td>1</td>\n",
              "    </tr>\n",
              "  </tbody>\n",
              "</table>\n",
              "</div>"
            ],
            "text/plain": [
              "      Fresh      Milk   Grocery  ...  Channel_2  Region_2  Region_3\n",
              "0  0.052933  0.523568 -0.041115  ...          1         0         1\n",
              "1 -0.391302  0.544458  0.170318  ...          1         0         1\n",
              "2 -0.447029  0.408538 -0.028157  ...          1         0         1\n",
              "3  0.100111 -0.624020 -0.392977  ...          0         0         1\n",
              "4  0.840239 -0.052396 -0.079356  ...          1         0         1\n",
              "\n",
              "[5 rows x 9 columns]"
            ]
          },
          "metadata": {
            "tags": []
          },
          "execution_count": 34
        }
      ]
    },
    {
      "cell_type": "markdown",
      "metadata": {
        "id": "NkZpq4tBwqPo"
      },
      "source": [
        "# Challenge 3 - Data Clustering with K-Means\n",
        "\n",
        "Now let's cluster the data with K-Means first. Initiate the K-Means model, then fit your scaled data. In the data returned from the `.fit` method, there is an attribute called `labels_` which is the cluster number assigned to each data record. What you can do is to assign these labels back to `customers` in a new column called `customers['labels']`. Then you'll see the cluster results of the original data."
      ]
    },
    {
      "cell_type": "code",
      "metadata": {
        "id": "NEUBOQ2t9PXf"
      },
      "source": [
        "from sklearn.cluster import KMeans"
      ],
      "execution_count": 35,
      "outputs": []
    },
    {
      "cell_type": "code",
      "metadata": {
        "scrolled": true,
        "id": "Jj80axbWwqPp",
        "colab": {
          "base_uri": "https://localhost:8080/",
          "height": 204
        },
        "outputId": "3b72dc02-3bf2-4382-aa3b-4b0d7933933b"
      },
      "source": [
        "# Your code here:\n",
        "kmeans=KMeans(n_clusters=4).fit_predict(customers_scale)\n",
        "customers['labels']=kmeans\n",
        "customers.head()"
      ],
      "execution_count": 36,
      "outputs": [
        {
          "output_type": "execute_result",
          "data": {
            "text/html": [
              "<div>\n",
              "<style scoped>\n",
              "    .dataframe tbody tr th:only-of-type {\n",
              "        vertical-align: middle;\n",
              "    }\n",
              "\n",
              "    .dataframe tbody tr th {\n",
              "        vertical-align: top;\n",
              "    }\n",
              "\n",
              "    .dataframe thead th {\n",
              "        text-align: right;\n",
              "    }\n",
              "</style>\n",
              "<table border=\"1\" class=\"dataframe\">\n",
              "  <thead>\n",
              "    <tr style=\"text-align: right;\">\n",
              "      <th></th>\n",
              "      <th>Channel</th>\n",
              "      <th>Region</th>\n",
              "      <th>Fresh</th>\n",
              "      <th>Milk</th>\n",
              "      <th>Grocery</th>\n",
              "      <th>Frozen</th>\n",
              "      <th>Detergents_Paper</th>\n",
              "      <th>Delicassen</th>\n",
              "      <th>labels</th>\n",
              "    </tr>\n",
              "  </thead>\n",
              "  <tbody>\n",
              "    <tr>\n",
              "      <th>0</th>\n",
              "      <td>2</td>\n",
              "      <td>3</td>\n",
              "      <td>12669</td>\n",
              "      <td>9656</td>\n",
              "      <td>7561</td>\n",
              "      <td>214</td>\n",
              "      <td>2674</td>\n",
              "      <td>1338</td>\n",
              "      <td>1</td>\n",
              "    </tr>\n",
              "    <tr>\n",
              "      <th>1</th>\n",
              "      <td>2</td>\n",
              "      <td>3</td>\n",
              "      <td>7057</td>\n",
              "      <td>9810</td>\n",
              "      <td>9568</td>\n",
              "      <td>1762</td>\n",
              "      <td>3293</td>\n",
              "      <td>1776</td>\n",
              "      <td>1</td>\n",
              "    </tr>\n",
              "    <tr>\n",
              "      <th>2</th>\n",
              "      <td>2</td>\n",
              "      <td>3</td>\n",
              "      <td>6353</td>\n",
              "      <td>8808</td>\n",
              "      <td>7684</td>\n",
              "      <td>2405</td>\n",
              "      <td>3516</td>\n",
              "      <td>7844</td>\n",
              "      <td>1</td>\n",
              "    </tr>\n",
              "    <tr>\n",
              "      <th>3</th>\n",
              "      <td>1</td>\n",
              "      <td>3</td>\n",
              "      <td>13265</td>\n",
              "      <td>1196</td>\n",
              "      <td>4221</td>\n",
              "      <td>6404</td>\n",
              "      <td>507</td>\n",
              "      <td>1788</td>\n",
              "      <td>0</td>\n",
              "    </tr>\n",
              "    <tr>\n",
              "      <th>4</th>\n",
              "      <td>2</td>\n",
              "      <td>3</td>\n",
              "      <td>22615</td>\n",
              "      <td>5410</td>\n",
              "      <td>7198</td>\n",
              "      <td>3915</td>\n",
              "      <td>1777</td>\n",
              "      <td>5185</td>\n",
              "      <td>0</td>\n",
              "    </tr>\n",
              "  </tbody>\n",
              "</table>\n",
              "</div>"
            ],
            "text/plain": [
              "   Channel  Region  Fresh  Milk  ...  Frozen  Detergents_Paper  Delicassen  labels\n",
              "0        2       3  12669  9656  ...     214              2674        1338       1\n",
              "1        2       3   7057  9810  ...    1762              3293        1776       1\n",
              "2        2       3   6353  8808  ...    2405              3516        7844       1\n",
              "3        1       3  13265  1196  ...    6404               507        1788       0\n",
              "4        2       3  22615  5410  ...    3915              1777        5185       0\n",
              "\n",
              "[5 rows x 9 columns]"
            ]
          },
          "metadata": {
            "tags": []
          },
          "execution_count": 36
        }
      ]
    },
    {
      "cell_type": "markdown",
      "metadata": {
        "id": "QH-bXmc-wqPp"
      },
      "source": [
        "Count the values in `labels`."
      ]
    },
    {
      "cell_type": "code",
      "metadata": {
        "id": "uuic9HiDwqPp",
        "colab": {
          "base_uri": "https://localhost:8080/"
        },
        "outputId": "e46e6e03-5cb2-452c-d66e-40613ade26ec"
      },
      "source": [
        "# Your code here:\n",
        "customers['labels'].value_counts()"
      ],
      "execution_count": 37,
      "outputs": [
        {
          "output_type": "execute_result",
          "data": {
            "text/plain": [
              "0    305\n",
              "1    121\n",
              "2     10\n",
              "3      4\n",
              "Name: labels, dtype: int64"
            ]
          },
          "metadata": {
            "tags": []
          },
          "execution_count": 37
        }
      ]
    },
    {
      "cell_type": "markdown",
      "metadata": {
        "id": "VpnRAzDCwqPp"
      },
      "source": [
        "# Challenge 4 - Data Clustering with DBSCAN\n",
        "\n",
        "Now let's cluster the data using DBSCAN. Use `DBSCAN(eps=0.5)` to initiate the model, then fit your scaled data. In the data returned from the `.fit` method, assign the `labels_` back to `customers['labels_DBSCAN']`. Now your original data have two labels, one from K-Means and the other from DBSCAN."
      ]
    },
    {
      "cell_type": "code",
      "metadata": {
        "id": "7o9JuLfz99vA"
      },
      "source": [
        "from sklearn.cluster import DBSCAN "
      ],
      "execution_count": 38,
      "outputs": []
    },
    {
      "cell_type": "code",
      "metadata": {
        "scrolled": true,
        "id": "SIgEdaU2wqPq"
      },
      "source": [
        "# Your code here\n",
        "dbscan=DBSCAN().fit_predict(customers_scale)\n",
        "customers['labels_DBSCAN']=dbscan"
      ],
      "execution_count": 39,
      "outputs": []
    },
    {
      "cell_type": "markdown",
      "metadata": {
        "id": "0fkV_PQfwqPq"
      },
      "source": [
        "Count the values in `labels_DBSCAN`."
      ]
    },
    {
      "cell_type": "code",
      "metadata": {
        "id": "RVmNwOV9wqPr",
        "colab": {
          "base_uri": "https://localhost:8080/"
        },
        "outputId": "ac2157aa-2769-416f-e422-581e5ab641a5"
      },
      "source": [
        "# Your code here\n",
        "customers['labels_DBSCAN'].value_counts()"
      ],
      "execution_count": 40,
      "outputs": [
        {
          "output_type": "execute_result",
          "data": {
            "text/plain": [
              "-1    255\n",
              " 1    130\n",
              " 5     22\n",
              " 4      7\n",
              " 6      6\n",
              " 2      5\n",
              " 7      5\n",
              " 3      5\n",
              " 0      5\n",
              "Name: labels_DBSCAN, dtype: int64"
            ]
          },
          "metadata": {
            "tags": []
          },
          "execution_count": 40
        }
      ]
    },
    {
      "cell_type": "markdown",
      "metadata": {
        "id": "tWA4bJPFwqPr"
      },
      "source": [
        "# Challenge 5 - Compare K-Means with DBSCAN\n",
        "\n",
        "Now we want to visually compare how K-Means and DBSCAN have clustered our data. We will create scatter plots for several columns. For each of the following column pairs, plot a scatter plot using `labels` and another using `labels_DBSCAN`. Put them side by side to compare. Which clustering algorithm makes better sense?\n",
        "\n",
        "Columns to visualize:\n",
        "\n",
        "* `Detergents_Paper` as X and `Milk` as y\n",
        "* `Grocery` as X and `Fresh` as y\n",
        "* `Frozen` as X and `Delicassen` as y"
      ]
    },
    {
      "cell_type": "markdown",
      "metadata": {
        "id": "iUvRfYqXwqPr"
      },
      "source": [
        "Visualize `Detergents_Paper` as X and `Milk` as y by `labels` and `labels_DBSCAN` respectively"
      ]
    },
    {
      "cell_type": "code",
      "metadata": {
        "id": "yU7tJqurwqPr",
        "colab": {
          "base_uri": "https://localhost:8080/",
          "height": 459
        },
        "outputId": "a579b660-e86b-4cd2-a17a-1e8c76e88787"
      },
      "source": [
        "# Your code here:\n",
        "plt.figure(figsize=(6,6))\n",
        "sns.scatterplot(customers.Detergents_Paper, customers.Milk, hue=customers.labels)\n",
        "plt.title('Milk vs Detergent_Paper (KMeans)')\n",
        "plt.show();"
      ],
      "execution_count": 41,
      "outputs": [
        {
          "output_type": "stream",
          "text": [
            "/usr/local/lib/python3.7/dist-packages/seaborn/_decorators.py:43: FutureWarning: Pass the following variables as keyword args: x, y. From version 0.12, the only valid positional argument will be `data`, and passing other arguments without an explicit keyword will result in an error or misinterpretation.\n",
            "  FutureWarning\n"
          ],
          "name": "stderr"
        },
        {
          "output_type": "display_data",
          "data": {
            "image/png": "[encoded data removed]",
            "text/plain": [
              "<Figure size 432x432 with 1 Axes>"
            ]
          },
          "metadata": {
            "tags": [],
            "needs_background": "light"
          }
        }
      ]
    },
    {
      "cell_type": "code",
      "metadata": {
        "colab": {
          "base_uri": "https://localhost:8080/",
          "height": 459
        },
        "id": "fl-w6tCk-c84",
        "outputId": "e0abdda0-34af-4d69-cf60-5282f22880bc"
      },
      "source": [
        "plt.figure(figsize=(6,6))\n",
        "sns.scatterplot(customers.Detergents_Paper, customers.Milk, hue=customers.labels_DBSCAN)\n",
        "plt.title('Milk vs Detergent_Paper (DBSCAN)')\n",
        "plt.show();\n"
      ],
      "execution_count": 42,
      "outputs": [
        {
          "output_type": "stream",
          "text": [
            "/usr/local/lib/python3.7/dist-packages/seaborn/_decorators.py:43: FutureWarning: Pass the following variables as keyword args: x, y. From version 0.12, the only valid positional argument will be `data`, and passing other arguments without an explicit keyword will result in an error or misinterpretation.\n",
            "  FutureWarning\n"
          ],
          "name": "stderr"
        },
        {
          "output_type": "display_data",
          "data": {
            "image/png": "[encoded data removed]",
            "text/plain": [
              "<Figure size 432x432 with 1 Axes>"
            ]
          },
          "metadata": {
            "tags": [],
            "needs_background": "light"
          }
        }
      ]
    },
    {
      "cell_type": "markdown",
      "metadata": {
        "id": "BSyXnAb5wqPs"
      },
      "source": [
        "Visualize `Grocery` as X and `Fresh` as y by `labels` and `labels_DBSCAN` respectively"
      ]
    },
    {
      "cell_type": "code",
      "metadata": {
        "id": "fJgdkD5iwqPs",
        "colab": {
          "base_uri": "https://localhost:8080/",
          "height": 567
        },
        "outputId": "5a76115d-8470-47cb-a17b-ed4b0252740e"
      },
      "source": [
        "# Your code here:\n",
        "plt.figure(figsize=(6,6))\n",
        "sns.scatterplot(customers.Grocery, customers.Fresh, hue=customers.labels)\n",
        "plt.title('Fresh vs Grocery (KMeans)')\n",
        "plt.show();"
      ],
      "execution_count": 43,
      "outputs": [
        {
          "output_type": "stream",
          "text": [
            "/usr/local/lib/python3.7/dist-packages/seaborn/_decorators.py:43: FutureWarning: Pass the following variables as keyword args: x, y. From version 0.12, the only valid positional argument will be `data`, and passing other arguments without an explicit keyword will result in an error or misinterpretation.\n",
            "  FutureWarning\n"
          ],
          "name": "stderr"
        },
        {
          "output_type": "display_data",
          "data": {
            "image/png": "[encoded data removed]",
            "text/plain": [
              "<Figure size 576x576 with 1 Axes>"
            ]
          },
          "metadata": {
            "tags": [],
            "needs_background": "light"
          }
        }
      ]
    },
    {
      "cell_type": "code",
      "metadata": {
        "colab": {
          "base_uri": "https://localhost:8080/",
          "height": 458
        },
        "id": "3S0F2rHx-uXh",
        "outputId": "6d00a1b7-2351-48d9-b35b-5fee5cf703cb"
      },
      "source": [
        "plt.figure(figsize=(6,6))\n",
        "sns.scatterplot(customers.Grocery, customers.Fresh, hue=customers.labels_DBSCAN)\n",
        "plt.title('Fresh vs Grocery (DBSCAN)')\n",
        "plt.show();"
      ],
      "execution_count": 49,
      "outputs": [
        {
          "output_type": "stream",
          "text": [
            "/usr/local/lib/python3.7/dist-packages/seaborn/_decorators.py:43: FutureWarning: Pass the following variables as keyword args: x, y. From version 0.12, the only valid positional argument will be `data`, and passing other arguments without an explicit keyword will result in an error or misinterpretation.\n",
            "  FutureWarning\n"
          ],
          "name": "stderr"
        },
        {
          "output_type": "display_data",
          "data": {
            "image/png": "[encoded data removed]",
            "text/plain": [
              "<Figure size 432x432 with 1 Axes>"
            ]
          },
          "metadata": {
            "tags": [],
            "needs_background": "light"
          }
        }
      ]
    },
    {
      "cell_type": "markdown",
      "metadata": {
        "id": "RHAEEvuHwqPs"
      },
      "source": [
        "Visualize `Frozen` as X and `Delicassen` as y by `labels` and `labels_DBSCAN` respectively"
      ]
    },
    {
      "cell_type": "code",
      "metadata": {
        "id": "GTJJ_QdMwqPs",
        "colab": {
          "base_uri": "https://localhost:8080/",
          "height": 458
        },
        "outputId": "0a001823-0a28-4058-ddbe-891535bf1c79"
      },
      "source": [
        "# Your code here:\n",
        "plt.figure(figsize=(6,6))\n",
        "sns.scatterplot(customers.Frozen, customers.Delicassen, hue=customers.labels)\n",
        "plt.title('Delicassen vs Frozen (KMeans)')\n",
        "plt.show();"
      ],
      "execution_count": 47,
      "outputs": [
        {
          "output_type": "stream",
          "text": [
            "/usr/local/lib/python3.7/dist-packages/seaborn/_decorators.py:43: FutureWarning: Pass the following variables as keyword args: x, y. From version 0.12, the only valid positional argument will be `data`, and passing other arguments without an explicit keyword will result in an error or misinterpretation.\n",
            "  FutureWarning\n"
          ],
          "name": "stderr"
        },
        {
          "output_type": "display_data",
          "data": {
            "image/png": "[encoded data removed]",
            "text/plain": [
              "<Figure size 432x432 with 1 Axes>"
            ]
          },
          "metadata": {
            "tags": [],
            "needs_background": "light"
          }
        }
      ]
    },
    {
      "cell_type": "code",
      "metadata": {
        "colab": {
          "base_uri": "https://localhost:8080/",
          "height": 458
        },
        "id": "Si0C3Tbn_Ljy",
        "outputId": "0ea0828d-ff5d-48d4-f791-4479e0f94f12"
      },
      "source": [
        "plt.figure(figsize=(6,6))\n",
        "sns.scatterplot(customers.Frozen, customers.Delicassen, hue=customers.labels_DBSCAN)\n",
        "plt.title('Delicassen vs Frozen (DBSCAN)')\n",
        "plt.show();"
      ],
      "execution_count": 50,
      "outputs": [
        {
          "output_type": "stream",
          "text": [
            "/usr/local/lib/python3.7/dist-packages/seaborn/_decorators.py:43: FutureWarning: Pass the following variables as keyword args: x, y. From version 0.12, the only valid positional argument will be `data`, and passing other arguments without an explicit keyword will result in an error or misinterpretation.\n",
            "  FutureWarning\n"
          ],
          "name": "stderr"
        },
        {
          "output_type": "display_data",
          "data": {
            "image/png": "[encoded data removed]",
            "text/plain": [
              "<Figure size 432x432 with 1 Axes>"
            ]
          },
          "metadata": {
            "tags": [],
            "needs_background": "light"
          }
        }
      ]
    },
    {
      "cell_type": "markdown",
      "metadata": {
        "id": "OMjtcY7ZwqPs"
      },
      "source": [
        "Let's use a groupby to see how the mean differs between the groups. Group `customers` by `labels` and `labels_DBSCAN` respectively and compute the means for all columns."
      ]
    },
    {
      "cell_type": "code",
      "metadata": {
        "id": "uSPcHSeVwqPs",
        "colab": {
          "base_uri": "https://localhost:8080/",
          "height": 484
        },
        "outputId": "2ea421b5-0cca-4066-81e6-3564193441df"
      },
      "source": [
        "# Your code here:\n",
        "display(customers.groupby(customers.labels).mean())\n",
        "display(customers.describe())"
      ],
      "execution_count": 51,
      "outputs": [
        {
          "output_type": "display_data",
          "data": {
            "text/html": [
              "<div>\n",
              "<style scoped>\n",
              "    .dataframe tbody tr th:only-of-type {\n",
              "        vertical-align: middle;\n",
              "    }\n",
              "\n",
              "    .dataframe tbody tr th {\n",
              "        vertical-align: top;\n",
              "    }\n",
              "\n",
              "    .dataframe thead th {\n",
              "        text-align: right;\n",
              "    }\n",
              "</style>\n",
              "<table border=\"1\" class=\"dataframe\">\n",
              "  <thead>\n",
              "    <tr style=\"text-align: right;\">\n",
              "      <th></th>\n",
              "      <th>Channel</th>\n",
              "      <th>Region</th>\n",
              "      <th>Fresh</th>\n",
              "      <th>Milk</th>\n",
              "      <th>Grocery</th>\n",
              "      <th>Frozen</th>\n",
              "      <th>Detergents_Paper</th>\n",
              "      <th>Delicassen</th>\n",
              "      <th>labels_DBSCAN</th>\n",
              "    </tr>\n",
              "    <tr>\n",
              "      <th>labels</th>\n",
              "      <th></th>\n",
              "      <th></th>\n",
              "      <th></th>\n",
              "      <th></th>\n",
              "      <th></th>\n",
              "      <th></th>\n",
              "      <th></th>\n",
              "      <th></th>\n",
              "      <th></th>\n",
              "    </tr>\n",
              "  </thead>\n",
              "  <tbody>\n",
              "    <tr>\n",
              "      <th>0</th>\n",
              "      <td>1.068852</td>\n",
              "      <td>2.518033</td>\n",
              "      <td>13446.475410</td>\n",
              "      <td>3030.177049</td>\n",
              "      <td>3628.209836</td>\n",
              "      <td>3380.826230</td>\n",
              "      <td>749.777049</td>\n",
              "      <td>1177.475410</td>\n",
              "      <td>0.616393</td>\n",
              "    </tr>\n",
              "    <tr>\n",
              "      <th>1</th>\n",
              "      <td>1.909091</td>\n",
              "      <td>2.603306</td>\n",
              "      <td>6704.289256</td>\n",
              "      <td>9523.008264</td>\n",
              "      <td>15145.669421</td>\n",
              "      <td>1410.330579</td>\n",
              "      <td>6443.198347</td>\n",
              "      <td>1683.966942</td>\n",
              "      <td>-0.537190</td>\n",
              "    </tr>\n",
              "    <tr>\n",
              "      <th>2</th>\n",
              "      <td>2.000000</td>\n",
              "      <td>2.500000</td>\n",
              "      <td>15964.900000</td>\n",
              "      <td>34708.500000</td>\n",
              "      <td>48536.900000</td>\n",
              "      <td>3054.600000</td>\n",
              "      <td>24875.200000</td>\n",
              "      <td>2942.800000</td>\n",
              "      <td>-1.000000</td>\n",
              "    </tr>\n",
              "    <tr>\n",
              "      <th>3</th>\n",
              "      <td>1.250000</td>\n",
              "      <td>2.750000</td>\n",
              "      <td>52022.000000</td>\n",
              "      <td>31696.000000</td>\n",
              "      <td>18490.750000</td>\n",
              "      <td>29825.500000</td>\n",
              "      <td>2699.000000</td>\n",
              "      <td>19656.250000</td>\n",
              "      <td>-1.000000</td>\n",
              "    </tr>\n",
              "  </tbody>\n",
              "</table>\n",
              "</div>"
            ],
            "text/plain": [
              "         Channel    Region  ...    Delicassen  labels_DBSCAN\n",
              "labels                      ...                             \n",
              "0       1.068852  2.518033  ...   1177.475410       0.616393\n",
              "1       1.909091  2.603306  ...   1683.966942      -0.537190\n",
              "2       2.000000  2.500000  ...   2942.800000      -1.000000\n",
              "3       1.250000  2.750000  ...  19656.250000      -1.000000\n",
              "\n",
              "[4 rows x 9 columns]"
            ]
          },
          "metadata": {
            "tags": []
          }
        },
        {
          "output_type": "display_data",
          "data": {
            "text/html": [
              "<div>\n",
              "<style scoped>\n",
              "    .dataframe tbody tr th:only-of-type {\n",
              "        vertical-align: middle;\n",
              "    }\n",
              "\n",
              "    .dataframe tbody tr th {\n",
              "        vertical-align: top;\n",
              "    }\n",
              "\n",
              "    .dataframe thead th {\n",
              "        text-align: right;\n",
              "    }\n",
              "</style>\n",
              "<table border=\"1\" class=\"dataframe\">\n",
              "  <thead>\n",
              "    <tr style=\"text-align: right;\">\n",
              "      <th></th>\n",
              "      <th>Channel</th>\n",
              "      <th>Region</th>\n",
              "      <th>Fresh</th>\n",
              "      <th>Milk</th>\n",
              "      <th>Grocery</th>\n",
              "      <th>Frozen</th>\n",
              "      <th>Detergents_Paper</th>\n",
              "      <th>Delicassen</th>\n",
              "      <th>labels</th>\n",
              "      <th>labels_DBSCAN</th>\n",
              "    </tr>\n",
              "  </thead>\n",
              "  <tbody>\n",
              "    <tr>\n",
              "      <th>count</th>\n",
              "      <td>440.000000</td>\n",
              "      <td>440.000000</td>\n",
              "      <td>440.000000</td>\n",
              "      <td>440.000000</td>\n",
              "      <td>440.000000</td>\n",
              "      <td>440.000000</td>\n",
              "      <td>440.000000</td>\n",
              "      <td>440.000000</td>\n",
              "      <td>440.000000</td>\n",
              "      <td>440.000000</td>\n",
              "    </tr>\n",
              "    <tr>\n",
              "      <th>mean</th>\n",
              "      <td>1.322727</td>\n",
              "      <td>2.543182</td>\n",
              "      <td>12000.297727</td>\n",
              "      <td>5796.265909</td>\n",
              "      <td>7951.277273</td>\n",
              "      <td>3071.931818</td>\n",
              "      <td>2881.493182</td>\n",
              "      <td>1524.870455</td>\n",
              "      <td>0.347727</td>\n",
              "      <td>0.247727</td>\n",
              "    </tr>\n",
              "    <tr>\n",
              "      <th>std</th>\n",
              "      <td>0.468052</td>\n",
              "      <td>0.774272</td>\n",
              "      <td>12647.328865</td>\n",
              "      <td>7380.377175</td>\n",
              "      <td>9503.162829</td>\n",
              "      <td>4854.673333</td>\n",
              "      <td>4767.854448</td>\n",
              "      <td>2820.105937</td>\n",
              "      <td>0.572326</td>\n",
              "      <td>1.876602</td>\n",
              "    </tr>\n",
              "    <tr>\n",
              "      <th>min</th>\n",
              "      <td>1.000000</td>\n",
              "      <td>1.000000</td>\n",
              "      <td>3.000000</td>\n",
              "      <td>55.000000</td>\n",
              "      <td>3.000000</td>\n",
              "      <td>25.000000</td>\n",
              "      <td>3.000000</td>\n",
              "      <td>3.000000</td>\n",
              "      <td>0.000000</td>\n",
              "      <td>-1.000000</td>\n",
              "    </tr>\n",
              "    <tr>\n",
              "      <th>25%</th>\n",
              "      <td>1.000000</td>\n",
              "      <td>2.000000</td>\n",
              "      <td>3127.750000</td>\n",
              "      <td>1533.000000</td>\n",
              "      <td>2153.000000</td>\n",
              "      <td>742.250000</td>\n",
              "      <td>256.750000</td>\n",
              "      <td>408.250000</td>\n",
              "      <td>0.000000</td>\n",
              "      <td>-1.000000</td>\n",
              "    </tr>\n",
              "    <tr>\n",
              "      <th>50%</th>\n",
              "      <td>1.000000</td>\n",
              "      <td>3.000000</td>\n",
              "      <td>8504.000000</td>\n",
              "      <td>3627.000000</td>\n",
              "      <td>4755.500000</td>\n",
              "      <td>1526.000000</td>\n",
              "      <td>816.500000</td>\n",
              "      <td>965.500000</td>\n",
              "      <td>0.000000</td>\n",
              "      <td>-1.000000</td>\n",
              "    </tr>\n",
              "    <tr>\n",
              "      <th>75%</th>\n",
              "      <td>2.000000</td>\n",
              "      <td>3.000000</td>\n",
              "      <td>16933.750000</td>\n",
              "      <td>7190.250000</td>\n",
              "      <td>10655.750000</td>\n",
              "      <td>3554.250000</td>\n",
              "      <td>3922.000000</td>\n",
              "      <td>1820.250000</td>\n",
              "      <td>1.000000</td>\n",
              "      <td>1.000000</td>\n",
              "    </tr>\n",
              "    <tr>\n",
              "      <th>max</th>\n",
              "      <td>2.000000</td>\n",
              "      <td>3.000000</td>\n",
              "      <td>112151.000000</td>\n",
              "      <td>73498.000000</td>\n",
              "      <td>92780.000000</td>\n",
              "      <td>60869.000000</td>\n",
              "      <td>40827.000000</td>\n",
              "      <td>47943.000000</td>\n",
              "      <td>3.000000</td>\n",
              "      <td>7.000000</td>\n",
              "    </tr>\n",
              "  </tbody>\n",
              "</table>\n",
              "</div>"
            ],
            "text/plain": [
              "          Channel      Region  ...      labels  labels_DBSCAN\n",
              "count  440.000000  440.000000  ...  440.000000     440.000000\n",
              "mean     1.322727    2.543182  ...    0.347727       0.247727\n",
              "std      0.468052    0.774272  ...    0.572326       1.876602\n",
              "min      1.000000    1.000000  ...    0.000000      -1.000000\n",
              "25%      1.000000    2.000000  ...    0.000000      -1.000000\n",
              "50%      1.000000    3.000000  ...    0.000000      -1.000000\n",
              "75%      2.000000    3.000000  ...    1.000000       1.000000\n",
              "max      2.000000    3.000000  ...    3.000000       7.000000\n",
              "\n",
              "[8 rows x 10 columns]"
            ]
          },
          "metadata": {
            "tags": []
          }
        }
      ]
    },
    {
      "cell_type": "code",
      "metadata": {
        "colab": {
          "base_uri": "https://localhost:8080/",
          "height": 639
        },
        "id": "fd2_bj-h_syN",
        "outputId": "eff3013c-6464-4ec4-ef00-fb4c165b02a6"
      },
      "source": [
        "display(customers.groupby(customers.labels_DBSCAN).mean())\n",
        "display(customers.describe())"
      ],
      "execution_count": 52,
      "outputs": [
        {
          "output_type": "display_data",
          "data": {
            "text/html": [
              "<div>\n",
              "<style scoped>\n",
              "    .dataframe tbody tr th:only-of-type {\n",
              "        vertical-align: middle;\n",
              "    }\n",
              "\n",
              "    .dataframe tbody tr th {\n",
              "        vertical-align: top;\n",
              "    }\n",
              "\n",
              "    .dataframe thead th {\n",
              "        text-align: right;\n",
              "    }\n",
              "</style>\n",
              "<table border=\"1\" class=\"dataframe\">\n",
              "  <thead>\n",
              "    <tr style=\"text-align: right;\">\n",
              "      <th></th>\n",
              "      <th>Channel</th>\n",
              "      <th>Region</th>\n",
              "      <th>Fresh</th>\n",
              "      <th>Milk</th>\n",
              "      <th>Grocery</th>\n",
              "      <th>Frozen</th>\n",
              "      <th>Detergents_Paper</th>\n",
              "      <th>Delicassen</th>\n",
              "      <th>labels</th>\n",
              "    </tr>\n",
              "    <tr>\n",
              "      <th>labels_DBSCAN</th>\n",
              "      <th></th>\n",
              "      <th></th>\n",
              "      <th></th>\n",
              "      <th></th>\n",
              "      <th></th>\n",
              "      <th></th>\n",
              "      <th></th>\n",
              "      <th></th>\n",
              "      <th></th>\n",
              "    </tr>\n",
              "  </thead>\n",
              "  <tbody>\n",
              "    <tr>\n",
              "      <th>-1</th>\n",
              "      <td>1.490196</td>\n",
              "      <td>2.45098</td>\n",
              "      <td>13729.564706</td>\n",
              "      <td>8359.886275</td>\n",
              "      <td>11484.364706</td>\n",
              "      <td>3795.003922</td>\n",
              "      <td>4356.800000</td>\n",
              "      <td>2080.470588</td>\n",
              "      <td>0.54902</td>\n",
              "    </tr>\n",
              "    <tr>\n",
              "      <th>0</th>\n",
              "      <td>2.000000</td>\n",
              "      <td>3.00000</td>\n",
              "      <td>11401.000000</td>\n",
              "      <td>3536.200000</td>\n",
              "      <td>6729.000000</td>\n",
              "      <td>720.200000</td>\n",
              "      <td>3561.000000</td>\n",
              "      <td>258.200000</td>\n",
              "      <td>0.20000</td>\n",
              "    </tr>\n",
              "    <tr>\n",
              "      <th>1</th>\n",
              "      <td>1.000000</td>\n",
              "      <td>3.00000</td>\n",
              "      <td>9128.823077</td>\n",
              "      <td>1862.438462</td>\n",
              "      <td>2423.530769</td>\n",
              "      <td>2131.430769</td>\n",
              "      <td>496.576923</td>\n",
              "      <td>741.946154</td>\n",
              "      <td>0.00000</td>\n",
              "    </tr>\n",
              "    <tr>\n",
              "      <th>2</th>\n",
              "      <td>1.000000</td>\n",
              "      <td>3.00000</td>\n",
              "      <td>41446.600000</td>\n",
              "      <td>1421.200000</td>\n",
              "      <td>2167.600000</td>\n",
              "      <td>1276.400000</td>\n",
              "      <td>416.200000</td>\n",
              "      <td>784.800000</td>\n",
              "      <td>0.00000</td>\n",
              "    </tr>\n",
              "    <tr>\n",
              "      <th>3</th>\n",
              "      <td>2.000000</td>\n",
              "      <td>3.00000</td>\n",
              "      <td>2357.200000</td>\n",
              "      <td>10224.800000</td>\n",
              "      <td>11862.800000</td>\n",
              "      <td>609.600000</td>\n",
              "      <td>5780.000000</td>\n",
              "      <td>572.800000</td>\n",
              "      <td>1.00000</td>\n",
              "    </tr>\n",
              "    <tr>\n",
              "      <th>4</th>\n",
              "      <td>2.000000</td>\n",
              "      <td>3.00000</td>\n",
              "      <td>3068.142857</td>\n",
              "      <td>6095.857143</td>\n",
              "      <td>10355.000000</td>\n",
              "      <td>994.000000</td>\n",
              "      <td>4675.571429</td>\n",
              "      <td>1826.428571</td>\n",
              "      <td>1.00000</td>\n",
              "    </tr>\n",
              "    <tr>\n",
              "      <th>5</th>\n",
              "      <td>1.000000</td>\n",
              "      <td>1.00000</td>\n",
              "      <td>9837.863636</td>\n",
              "      <td>1751.863636</td>\n",
              "      <td>2161.681818</td>\n",
              "      <td>1513.181818</td>\n",
              "      <td>333.954545</td>\n",
              "      <td>669.045455</td>\n",
              "      <td>0.00000</td>\n",
              "    </tr>\n",
              "    <tr>\n",
              "      <th>6</th>\n",
              "      <td>1.000000</td>\n",
              "      <td>1.00000</td>\n",
              "      <td>6823.000000</td>\n",
              "      <td>1943.000000</td>\n",
              "      <td>2372.666667</td>\n",
              "      <td>6780.333333</td>\n",
              "      <td>386.500000</td>\n",
              "      <td>613.666667</td>\n",
              "      <td>0.00000</td>\n",
              "    </tr>\n",
              "    <tr>\n",
              "      <th>7</th>\n",
              "      <td>1.000000</td>\n",
              "      <td>2.00000</td>\n",
              "      <td>7494.600000</td>\n",
              "      <td>1537.600000</td>\n",
              "      <td>3383.000000</td>\n",
              "      <td>2575.400000</td>\n",
              "      <td>227.400000</td>\n",
              "      <td>941.000000</td>\n",
              "      <td>0.00000</td>\n",
              "    </tr>\n",
              "  </tbody>\n",
              "</table>\n",
              "</div>"
            ],
            "text/plain": [
              "                Channel   Region  ...   Delicassen   labels\n",
              "labels_DBSCAN                     ...                      \n",
              "-1             1.490196  2.45098  ...  2080.470588  0.54902\n",
              " 0             2.000000  3.00000  ...   258.200000  0.20000\n",
              " 1             1.000000  3.00000  ...   741.946154  0.00000\n",
              " 2             1.000000  3.00000  ...   784.800000  0.00000\n",
              " 3             2.000000  3.00000  ...   572.800000  1.00000\n",
              " 4             2.000000  3.00000  ...  1826.428571  1.00000\n",
              " 5             1.000000  1.00000  ...   669.045455  0.00000\n",
              " 6             1.000000  1.00000  ...   613.666667  0.00000\n",
              " 7             1.000000  2.00000  ...   941.000000  0.00000\n",
              "\n",
              "[9 rows x 9 columns]"
            ]
          },
          "metadata": {
            "tags": []
          }
        },
        {
          "output_type": "display_data",
          "data": {
            "text/html": [
              "<div>\n",
              "<style scoped>\n",
              "    .dataframe tbody tr th:only-of-type {\n",
              "        vertical-align: middle;\n",
              "    }\n",
              "\n",
              "    .dataframe tbody tr th {\n",
              "        vertical-align: top;\n",
              "    }\n",
              "\n",
              "    .dataframe thead th {\n",
              "        text-align: right;\n",
              "    }\n",
              "</style>\n",
              "<table border=\"1\" class=\"dataframe\">\n",
              "  <thead>\n",
              "    <tr style=\"text-align: right;\">\n",
              "      <th></th>\n",
              "      <th>Channel</th>\n",
              "      <th>Region</th>\n",
              "      <th>Fresh</th>\n",
              "      <th>Milk</th>\n",
              "      <th>Grocery</th>\n",
              "      <th>Frozen</th>\n",
              "      <th>Detergents_Paper</th>\n",
              "      <th>Delicassen</th>\n",
              "      <th>labels</th>\n",
              "      <th>labels_DBSCAN</th>\n",
              "    </tr>\n",
              "  </thead>\n",
              "  <tbody>\n",
              "    <tr>\n",
              "      <th>count</th>\n",
              "      <td>440.000000</td>\n",
              "      <td>440.000000</td>\n",
              "      <td>440.000000</td>\n",
              "      <td>440.000000</td>\n",
              "      <td>440.000000</td>\n",
              "      <td>440.000000</td>\n",
              "      <td>440.000000</td>\n",
              "      <td>440.000000</td>\n",
              "      <td>440.000000</td>\n",
              "      <td>440.000000</td>\n",
              "    </tr>\n",
              "    <tr>\n",
              "      <th>mean</th>\n",
              "      <td>1.322727</td>\n",
              "      <td>2.543182</td>\n",
              "      <td>12000.297727</td>\n",
              "      <td>5796.265909</td>\n",
              "      <td>7951.277273</td>\n",
              "      <td>3071.931818</td>\n",
              "      <td>2881.493182</td>\n",
              "      <td>1524.870455</td>\n",
              "      <td>0.347727</td>\n",
              "      <td>0.247727</td>\n",
              "    </tr>\n",
              "    <tr>\n",
              "      <th>std</th>\n",
              "      <td>0.468052</td>\n",
              "      <td>0.774272</td>\n",
              "      <td>12647.328865</td>\n",
              "      <td>7380.377175</td>\n",
              "      <td>9503.162829</td>\n",
              "      <td>4854.673333</td>\n",
              "      <td>4767.854448</td>\n",
              "      <td>2820.105937</td>\n",
              "      <td>0.572326</td>\n",
              "      <td>1.876602</td>\n",
              "    </tr>\n",
              "    <tr>\n",
              "      <th>min</th>\n",
              "      <td>1.000000</td>\n",
              "      <td>1.000000</td>\n",
              "      <td>3.000000</td>\n",
              "      <td>55.000000</td>\n",
              "      <td>3.000000</td>\n",
              "      <td>25.000000</td>\n",
              "      <td>3.000000</td>\n",
              "      <td>3.000000</td>\n",
              "      <td>0.000000</td>\n",
              "      <td>-1.000000</td>\n",
              "    </tr>\n",
              "    <tr>\n",
              "      <th>25%</th>\n",
              "      <td>1.000000</td>\n",
              "      <td>2.000000</td>\n",
              "      <td>3127.750000</td>\n",
              "      <td>1533.000000</td>\n",
              "      <td>2153.000000</td>\n",
              "      <td>742.250000</td>\n",
              "      <td>256.750000</td>\n",
              "      <td>408.250000</td>\n",
              "      <td>0.000000</td>\n",
              "      <td>-1.000000</td>\n",
              "    </tr>\n",
              "    <tr>\n",
              "      <th>50%</th>\n",
              "      <td>1.000000</td>\n",
              "      <td>3.000000</td>\n",
              "      <td>8504.000000</td>\n",
              "      <td>3627.000000</td>\n",
              "      <td>4755.500000</td>\n",
              "      <td>1526.000000</td>\n",
              "      <td>816.500000</td>\n",
              "      <td>965.500000</td>\n",
              "      <td>0.000000</td>\n",
              "      <td>-1.000000</td>\n",
              "    </tr>\n",
              "    <tr>\n",
              "      <th>75%</th>\n",
              "      <td>2.000000</td>\n",
              "      <td>3.000000</td>\n",
              "      <td>16933.750000</td>\n",
              "      <td>7190.250000</td>\n",
              "      <td>10655.750000</td>\n",
              "      <td>3554.250000</td>\n",
              "      <td>3922.000000</td>\n",
              "      <td>1820.250000</td>\n",
              "      <td>1.000000</td>\n",
              "      <td>1.000000</td>\n",
              "    </tr>\n",
              "    <tr>\n",
              "      <th>max</th>\n",
              "      <td>2.000000</td>\n",
              "      <td>3.000000</td>\n",
              "      <td>112151.000000</td>\n",
              "      <td>73498.000000</td>\n",
              "      <td>92780.000000</td>\n",
              "      <td>60869.000000</td>\n",
              "      <td>40827.000000</td>\n",
              "      <td>47943.000000</td>\n",
              "      <td>3.000000</td>\n",
              "      <td>7.000000</td>\n",
              "    </tr>\n",
              "  </tbody>\n",
              "</table>\n",
              "</div>"
            ],
            "text/plain": [
              "          Channel      Region  ...      labels  labels_DBSCAN\n",
              "count  440.000000  440.000000  ...  440.000000     440.000000\n",
              "mean     1.322727    2.543182  ...    0.347727       0.247727\n",
              "std      0.468052    0.774272  ...    0.572326       1.876602\n",
              "min      1.000000    1.000000  ...    0.000000      -1.000000\n",
              "25%      1.000000    2.000000  ...    0.000000      -1.000000\n",
              "50%      1.000000    3.000000  ...    0.000000      -1.000000\n",
              "75%      2.000000    3.000000  ...    1.000000       1.000000\n",
              "max      2.000000    3.000000  ...    3.000000       7.000000\n",
              "\n",
              "[8 rows x 10 columns]"
            ]
          },
          "metadata": {
            "tags": []
          }
        }
      ]
    },
    {
      "cell_type": "markdown",
      "metadata": {
        "id": "SQlfI7XGwqPs"
      },
      "source": [
        "Which algorithm appears to perform better?"
      ]
    },
    {
      "cell_type": "code",
      "metadata": {
        "id": "pdcxZrEjwqPt"
      },
      "source": [
        "# Your observations here\n",
        "\n",
        "# It appears that Kmeans makes better clusterings."
      ],
      "execution_count": 53,
      "outputs": []
    },
    {
      "cell_type": "markdown",
      "metadata": {
        "id": "tXiqw4JOwqPt"
      },
      "source": [
        "# Bonus Challenge 2 - Changing K-Means Number of Clusters\n",
        "\n",
        "As we mentioned earlier, we don't need to worry about the number of clusters with DBSCAN because it automatically decides that based on the parameters we send to it. But with K-Means, we have to supply the `n_clusters` param (if you don't supply `n_clusters`, the algorithm will use `8` by default). You need to know that the optimal number of clusters differs case by case based on the dataset. K-Means can perform badly if the wrong number of clusters is used.\n",
        "\n",
        "In advanced machine learning, data scientists try different numbers of clusters and evaluate the results with statistical measures (read [here](https://en.wikipedia.org/wiki/Cluster_analysis#External_evaluation)). We are not using statistical measures today but we'll use our eyes instead. In the cells below, experiment with different number of clusters and visualize with scatter plots. What number of clusters seems to work best for K-Means?"
      ]
    },
    {
      "cell_type": "code",
      "metadata": {
        "id": "mdswa4jrwqPt"
      },
      "source": [
        "# Your code here"
      ],
      "execution_count": null,
      "outputs": []
    },
    {
      "cell_type": "code",
      "metadata": {
        "id": "VoYxFTZcwqPt"
      },
      "source": [
        "# Your comment here"
      ],
      "execution_count": null,
      "outputs": []
    },
    {
      "cell_type": "markdown",
      "metadata": {
        "id": "wB12h-qZwqPt"
      },
      "source": [
        "# Bonus Challenge 3 - Changing DBSCAN `eps` and `min_samples`\n",
        "\n",
        "Experiment changing the `eps` and `min_samples` params for DBSCAN. See how the results differ with scatter plot visualization."
      ]
    },
    {
      "cell_type": "code",
      "metadata": {
        "id": "ZZijElJuwqPw"
      },
      "source": [
        "# Your code here"
      ],
      "execution_count": null,
      "outputs": []
    },
    {
      "cell_type": "code",
      "metadata": {
        "id": "0fmJ6V5qwqPw"
      },
      "source": [
        "# Your comment here"
      ],
      "execution_count": null,
      "outputs": []
    }
  ]
}